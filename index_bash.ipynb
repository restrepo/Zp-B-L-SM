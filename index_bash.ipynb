{
 "cells": [
  {
   "cell_type": "markdown",
   "metadata": {},
   "source": [
    "# SARAH Toolbox\n",
    "## Collection of models to be run from a docker image\n",
    "Launch virtual docker image: \n",
    "[![Binder](http://mybinder.org/badge.svg)](http://mybinder.org/repo/restrepo/SimplifiedDM-SDFDM-Toolbox)\n",
    "\n",
    "[Jupyter home](./) (Files, New -> Terminal, etc)\n",
    "[![Home](http://www.incredimail.com/images/nav%20bar/home-icon.png)](./)\n",
    "\n",
    "### Highly recommended:\n",
    "[Run from a terminal](../terminals/1):\n",
    "[![T](http://mysitemyway.com/_shared/images/icons/full_color/terminal.png)](../terminals/1)\n",
    "## Implemented models\n",
    "Each model is to be run in a specific virtual machine. Follow the binder button in each github repo\n",
    "* `SARAH/Models/SSDM/` (for test purposes)\n",
    "* `SARAH/Models/SM/HighScale` (For RGE running: ./butler SM/HighScale) [Repo](https://github.com/restrepo/SM-Toolbox/)\n",
    "* `SARAH/Models/SimplifiedDM/DFDM` (This image)\n",
    "* `SARAH/Models/SimplifiedDM/SDFDM` (This image)\n",
    "\n",
    "## Instructions to compile the model\n",
    "In `SPHENO` and `micromegas`\n",
    "\n",
    "See possible analysis based on the models in  [./tests](./tests) folder.\n",
    "\n",
    "Below we define the model to be compiled:"
   ]
  },
  {
   "cell_type": "markdown",
   "metadata": {},
   "source": [
    "Choose between\n",
    "* SimplifiedDMDFDM: Doublet Fermion Dark matter\n",
    "* SimplifiedDMSDFDM: Singlet Doublet Fermion Dark matter"
   ]
  },
  {
   "cell_type": "code",
   "execution_count": 1,
   "metadata": {
    "collapsed": false
   },
   "outputs": [
    {
     "name": "stdout",
     "output_type": "stream",
     "text": []
    }
   ],
   "source": [
    "MODEL=SimplifiedDMSDFDM"
   ]
  },
  {
   "cell_type": "markdown",
   "metadata": {},
   "source": [
    "To better control in the outputs, it is recomended that the commands be executed [from a terminal](../terminals/1). Only possible errors are to be shown below"
   ]
  },
  {
   "cell_type": "code",
   "execution_count": 2,
   "metadata": {
    "collapsed": false
   },
   "outputs": [
    {
     "name": "stdout",
     "output_type": "stream",
     "text": []
    }
   ],
   "source": [
    "./compile_spheno_directly.sh $MODEL > /dev/null"
   ]
  },
  {
   "cell_type": "markdown",
   "metadata": {},
   "source": [
    "make a work dir"
   ]
  },
  {
   "cell_type": "code",
   "execution_count": 2,
   "metadata": {
    "collapsed": false
   },
   "outputs": [
    {
     "name": "stdout",
     "output_type": "stream",
     "text": []
    }
   ],
   "source": [
    "mkdir -p test_compilation\n",
    "cd test_compilation"
   ]
  },
  {
   "cell_type": "code",
   "execution_count": 4,
   "metadata": {
    "collapsed": false
   },
   "outputs": [
    {
     "name": "stdout",
     "output_type": "stream",
     "text": []
    }
   ],
   "source": [
    "LHAINPUT=../SPHENO/$MODEL/Input_Files/LesHouches.in.$MODEL\n",
    "if [ -f ../SARAH/Models/$MODEL/LesHouches.in.$MODEL ]; then\n",
    "   LHAINPUT=../SARAH/Models/$MODEL/LesHouches.in.$MODEL\n",
    "fi"
   ]
  },
  {
   "cell_type": "markdown",
   "metadata": {},
   "source": [
    "Run SPheno and generate LHA output file"
   ]
  },
  {
   "cell_type": "code",
   "execution_count": 5,
   "metadata": {
    "collapsed": false
   },
   "outputs": [
    {
     "name": "stdout",
     "output_type": "stream",
     "text": [
      " Calculating branching ratios and decay widths\r\n",
      " Calculating low energy constraints\r\n",
      " Writing output files\r\n",
      " Finished!\r\n"
     ]
    }
   ],
   "source": [
    "cp $LHAINPUT . #only a number of limited charactes accepted as input\n",
    "../SPHENO/bin/SPheno$MODEL LesHouches.in.$MODEL"
   ]
  },
  {
   "cell_type": "code",
   "execution_count": 6,
   "metadata": {
    "collapsed": false
   },
   "outputs": [
    {
     "name": "stdout",
     "output_type": "stream",
     "text": [
      "/home/restrepo/prog/toolbox/toolbox/test_compilation\r\n"
     ]
    }
   ],
   "source": [
    "pwd"
   ]
  },
  {
   "cell_type": "markdown",
   "metadata": {},
   "source": [
    "Compile `micromegas` model"
   ]
  },
  {
   "cell_type": "code",
   "execution_count": 6,
   "metadata": {
    "collapsed": false
   },
   "outputs": [
    {
     "name": "stdout",
     "output_type": "stream",
     "text": [
      "ar: creating work_aux.a\r\n",
      "ar: creating aLib.a\r\n"
     ]
    }
   ],
   "source": [
    "cd ../micromegas\n",
    "make > /dev/null\n",
    "make > /dev/null\n",
    "cd $MODEL\n",
    "make main=CalcOmega.cpp > /dev/null"
   ]
  },
  {
   "cell_type": "markdown",
   "metadata": {},
   "source": [
    "### Include Indirect Detection"
   ]
  },
  {
   "cell_type": "code",
   "execution_count": 7,
   "metadata": {
    "collapsed": false
   },
   "outputs": [
    {
     "name": "stdout",
     "output_type": "stream",
     "text": [
      "======== Indirect Detection ========\r\n",
      "already included\r\n"
     ]
    }
   ],
   "source": [
    "micromegas_with_DDetection=CalcOmega_with_DDetection_MOv4.2.cpp \n",
    "IDmsg=\"======== Indirect Detection ========\"\n",
    "if [ -f \"$micromegas_with_DDetection\" ]  && [ ! \"$(grep \"$IDmsg\" \"$micromegas_with_DDetection\" )\" ]; then\n",
    "    tmpfile=$(mktemp /tmp/CalcOmega_UP.XXXXXX)\n",
    "    grep -B 1000 'fclose(channels);' \"$micromegas_with_DDetection\" | grep -v 'fclose(channels);' > \"$tmpfile\"\n",
    "    echo \"\n",
    "{\n",
    "  double Emin=1,/* Energy cut  in GeV   */  sigmaV;\n",
    "  double vcs_gz,vcs_gg;\n",
    "  char txt[100];\n",
    "  double SpA[NZ],SpE[NZ],SpP[NZ];\n",
    "  double FluxA[NZ],FluxE[NZ],FluxP[NZ];\n",
    "  double * SpNe=NULL,*SpNm=NULL,*SpNl=NULL;\n",
    "  double Etest=Mcdm/2;\n",
    "\n",
    "  printf(\\\"\\n$IDmsg\\n\\\"); \n",
    "  sigmaV=calcSpectrum(1+2+4,SpA,SpE,SpP,SpNe,SpNm,SpNl ,&err);\n",
    "\n",
    "}\" >> \"$tmpfile\"\n",
    "\n",
    "  grep -A 1000 'fclose(channels);' \"$micromegas_with_DDetection\" >> \"$tmpfile\"\n",
    "  mv \"$tmpfile\" \"$micromegas_with_DDetection\"\n",
    "else \n",
    "  echo \"$IDmsg\"\n",
    "  echo \"already included\"\n",
    "fi"
   ]
  },
  {
   "cell_type": "markdown",
   "metadata": {},
   "source": [
    "Run micromegas"
   ]
  },
  {
   "cell_type": "code",
   "execution_count": 13,
   "metadata": {
    "collapsed": false
   },
   "outputs": [
    {
     "name": "stdout",
     "output_type": "stream",
     "text": []
    }
   ],
   "source": [
    "make main=\"$micromegas_with_DDetection\" > /dev/null"
   ]
  },
  {
   "cell_type": "code",
   "execution_count": 14,
   "metadata": {
    "collapsed": false
   },
   "outputs": [
    {
     "name": "stdout",
     "output_type": "stream",
     "text": [
      "\r\n",
      "Masses of odd sector Particles:\r\n",
      "~Chi : MChi1 =   199.7 || ~Re  : MRe   =   200.0 || ~Chi : MChi2 =   200.0 \r\n",
      "~Chi : MChi3 =  2000.3 || \r\n",
      "PROCESS: ~Chi1,~Chi1->AllEven,1*x{h,g,A,Z,Wp,Wm,nu1,Nu1,nu2,Nu2,nu3,Nu3,d1,D1,d2,D2,d3,D3,u1,U1,u2,U2,u3,U3,e1,E1,e2,E2,e3,E3\r\n",
      "mv: cannot move ‘omg_p19p19.so’ to ‘/home/restrepo/prog/toolbox/toolbox/micromegas/SimplifiedDMSDFDM/work/so_generated/omg_p19p19.so’: No such file or directory\r\n",
      " Can not compile ~Chi1,~Chi1->AllEven,1*x{h,g,A,Z,Wp,Wm,nu1,Nu1,nu2,Nu2,nu3,Nu3,d1,D1,d2,D2,d3,D3,u1,U1,u2,U2,u3,U3,e1,E1,e2,E2,e3,E3 \r\n",
      "PROCESS: ~Chi1,~Chi2->AllEven,1*x{h,g,A,Z,Wp,Wm,nu1,Nu1,nu2,Nu2,nu3,Nu3,d1,D1,d2,D2,d3,D3,u1,U1,u2,U2,u3,U3,e1,E1,e2,E2,e3,E3\r\n",
      "mv: cannot move ‘omg_p19p20.so’ to ‘/home/restrepo/prog/toolbox/toolbox/micromegas/SimplifiedDMSDFDM/work/so_generated/omg_p19p20.so’: No such file or directory\r\n",
      " Can not compile ~Chi1,~Chi2->AllEven,1*x{h,g,A,Z,Wp,Wm,nu1,Nu1,nu2,Nu2,nu3,Nu3,d1,D1,d2,D2,d3,D3,u1,U1,u2,U2,u3,U3,e1,E1,e2,E2,e3,E3 \r\n",
      "PROCESS: ~Re,~Chi1->AllEven,1*x{h,g,A,Z,Wp,Wm,nu1,Nu1,nu2,Nu2,nu3,Nu3,d1,D1,d2,D2,d3,D3,u1,U1,u2,U2,u3,U3,e1,E1,e2,E2,e3,E3\r\n",
      "mv: cannot move ‘omg_p9p19.so’ to ‘/home/restrepo/prog/toolbox/toolbox/micromegas/SimplifiedDMSDFDM/work/so_generated/omg_p9p19.so’: No such file or directory\r\n",
      " Can not compile ~Re,~Chi1->AllEven,1*x{h,g,A,Z,Wp,Wm,nu1,Nu1,nu2,Nu2,nu3,Nu3,d1,D1,d2,D2,d3,D3,u1,U1,u2,U2,u3,U3,e1,E1,e2,E2,e3,E3 \r\n",
      "PROCESS: ~Re,~Re->AllEven,1*x{h,g,A,Z,Wp,Wm,nu1,Nu1,nu2,Nu2,nu3,Nu3,d1,D1,d2,D2,d3,D3,u1,U1,u2,U2,u3,U3,e1,E1,e2,E2,e3,E3\r\n",
      "mv: cannot move ‘omg_p9p9.so’ to ‘/home/restrepo/prog/toolbox/toolbox/micromegas/SimplifiedDMSDFDM/work/so_generated/omg_p9p9.so’: No such file or directory\r\n",
      " Can not compile ~Re,~Re->AllEven,1*x{h,g,A,Z,Wp,Wm,nu1,Nu1,nu2,Nu2,nu3,Nu3,d1,D1,d2,D2,d3,D3,u1,U1,u2,U2,u3,U3,e1,E1,e2,E2,e3,E3 \r\n",
      "PROCESS: ~Re,~re->AllEven,1*x{h,g,A,Z,Wp,Wm,nu1,Nu1,nu2,Nu2,nu3,Nu3,d1,D1,d2,D2,d3,D3,u1,U1,u2,U2,u3,U3,e1,E1,e2,E2,e3,E3\r\n",
      "mv: cannot move ‘omg_p9a9.so’ to ‘/home/restrepo/prog/toolbox/toolbox/micromegas/SimplifiedDMSDFDM/work/so_generated/omg_p9a9.so’: No such file or directory\r\n",
      " Can not compile ~Re,~re->AllEven,1*x{h,g,A,Z,Wp,Wm,nu1,Nu1,nu2,Nu2,nu3,Nu3,d1,D1,d2,D2,d3,D3,u1,U1,u2,U2,u3,U3,e1,E1,e2,E2,e3,E3 \r\n",
      "PROCESS: ~Re,~Chi2->AllEven,1*x{h,g,A,Z,Wp,Wm,nu1,Nu1,nu2,Nu2,nu3,Nu3,d1,D1,d2,D2,d3,D3,u1,U1,u2,U2,u3,U3,e1,E1,e2,E2,e3,E3\r\n",
      "mv: cannot move ‘omg_p9p20.so’ to ‘/home/restrepo/prog/toolbox/toolbox/micromegas/SimplifiedDMSDFDM/work/so_generated/omg_p9p20.so’: No such file or directory\r\n",
      " Can not compile ~Re,~Chi2->AllEven,1*x{h,g,A,Z,Wp,Wm,nu1,Nu1,nu2,Nu2,nu3,Nu3,d1,D1,d2,D2,d3,D3,u1,U1,u2,U2,u3,U3,e1,E1,e2,E2,e3,E3 \r\n",
      "PROCESS: ~Chi2,~Chi2->AllEven,1*x{h,g,A,Z,Wp,Wm,nu1,Nu1,nu2,Nu2,nu3,Nu3,d1,D1,d2,D2,d3,D3,u1,U1,u2,U2,u3,U3,e1,E1,e2,E2,e3,E3\r\n",
      "mv: cannot move ‘omg_p20p20.so’ to ‘/home/restrepo/prog/toolbox/toolbox/micromegas/SimplifiedDMSDFDM/work/so_generated/omg_p20p20.so’: No such file or directory\r\n",
      " Can not compile ~Chi2,~Chi2->AllEven,1*x{h,g,A,Z,Wp,Wm,nu1,Nu1,nu2,Nu2,nu3,Nu3,d1,D1,d2,D2,d3,D3,u1,U1,u2,U2,u3,U3,e1,E1,e2,E2,e3,E3 \r\n",
      "Step size too small in routine RKQC\r\n",
      "problem in solving diff.equation\r\n",
      "Xf=2.50e+01 Omega h^2=-1.00e+00\r\n",
      "\r\n",
      "Segmentation fault\r\n"
     ]
    }
   ],
   "source": [
    "cd ../../test_compilation\n",
    "../micromegas/$MODEL/$(basename \"$micromegas_with_DDetection\" .cpp) SPheno.spc.$MODEL "
   ]
  },
  {
   "cell_type": "markdown",
   "metadata": {
    "collapsed": true
   },
   "source": [
    "## Go now to: \n",
    "* [main ipyrhon file](./tests/SimplifiedDM-SDFDM.ipynb) → SimplifiedDMSDFDM: Singlet Doublet Fermion Dark matter\n",
    "\n",
    "Or, maybe not fully updated:\n",
    "* [main ipyrhon file](./tests/SimplifiedDM-DFDM.ipynb) → SimplifiedDMDFDM: Doublet Fermion Dark matter"
   ]
  },
  {
   "cell_type": "code",
   "execution_count": null,
   "metadata": {
    "collapsed": true
   },
   "outputs": [],
   "source": []
  }
 ],
 "metadata": {
  "kernelspec": {
   "display_name": "Bash",
   "language": "bash",
   "name": "bash"
  },
  "language_info": {
   "codemirror_mode": "shell",
   "file_extension": ".sh",
   "mimetype": "text/x-sh",
   "name": "bash"
  }
 },
 "nbformat": 4,
 "nbformat_minor": 0
}
