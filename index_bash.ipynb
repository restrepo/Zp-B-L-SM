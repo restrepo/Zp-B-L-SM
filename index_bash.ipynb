{
 "cells": [
  {
   "cell_type": "markdown",
   "metadata": {},
   "source": [
    "# SARAH Toolbox\n",
    "## Collection of models to be run from a docker image\n",
    "Launch virtual docker image: \n",
    "[![Binder](http://mybinder.org/badge.svg)](http://mybinder.org/repo/restrepo/SimplifiedDM-SDFDM-Toolbox)\n",
    "\n",
    "[Jupyter home](./) (Files, New -> Terminal, etc)\n",
    "[![Home](http://www.incredimail.com/images/nav%20bar/home-icon.png)](./)\n",
    "\n",
    "### Highly recommended:\n",
    "[Run from a terminal](../terminals/1):\n",
    "[![T](http://mysitemyway.com/_shared/images/icons/full_color/terminal.png)](../terminals/1)\n",
    "## Implemented models\n",
    "Each model is to be run in a specific virtual machine. Follow the binder button in each github repo\n",
    "* `SARAH/Models/SSDM/` (for test purposes)\n",
    "* `SARAH/Models/SM/HighScale` (For RGE running: ./butler SM/HighScale) [Repo](https://github.com/restrepo/SM-Toolbox/)\n",
    "* `SARAH/Models/SimplifiedDM/DFDM` (This image)\n",
    "* `SARAH/Models/SimplifiedDM/SDFDM` (This image)\n",
    "\n",
    "## Instructions to compile the model\n",
    "In `SPHENO` and `micromegas`\n",
    "\n",
    "See possible analysis based on the models in  [./tests](./tests) folder.\n",
    "\n",
    "Below we define the model to be compiled:"
   ]
  },
  {
   "cell_type": "markdown",
   "metadata": {},
   "source": [
    "Choose between\n",
    "* SimplifiedDMDFDM: Doublet Fermion Dark matter\n",
    "* SimplifiedDMSDFDM: Singlet Doublet Fermion Dark matter"
   ]
  },
  {
   "cell_type": "code",
   "execution_count": 1,
   "metadata": {
    "collapsed": false
   },
   "outputs": [
    {
     "name": "stdout",
     "output_type": "stream",
     "text": []
    }
   ],
   "source": [
    "MODEL=BLSM"
   ]
  },
  {
   "cell_type": "markdown",
   "metadata": {},
   "source": [
    "To better control in the outputs, it is recomended that the commands be executed [from a terminal](../terminals/1). Only possible errors are to be shown below"
   ]
  },
  {
   "cell_type": "code",
   "execution_count": 58,
   "metadata": {
    "collapsed": false
   },
   "outputs": [
    {
     "name": "stdout",
     "output_type": "stream",
     "text": []
    }
   ],
   "source": [
    "./compile_spheno_directly.sh $MODEL > /dev/null"
   ]
  },
  {
   "cell_type": "markdown",
   "metadata": {},
   "source": [
    "make a work dir"
   ]
  },
  {
   "cell_type": "code",
   "execution_count": 2,
   "metadata": {
    "collapsed": false
   },
   "outputs": [
    {
     "name": "stdout",
     "output_type": "stream",
     "text": []
    }
   ],
   "source": [
    "mkdir -p test_compilation\n",
    "cd test_compilation"
   ]
  },
  {
   "cell_type": "code",
   "execution_count": 3,
   "metadata": {
    "collapsed": false
   },
   "outputs": [
    {
     "name": "stdout",
     "output_type": "stream",
     "text": []
    }
   ],
   "source": [
    "LHAINPUT=../SPHENO/$MODEL/Input_Files/LesHouches.in.$MODEL\n",
    "if [ -f ../SARAH/Models/$MODEL/LesHouches.in.$MODEL ]; then\n",
    "   LHAINPUT=../SARAH/Models/$MODEL/LesHouches.in.$MODEL\n",
    "fi\n",
    "cp $LHAINPUT . #only a number of limited charactes accepted as input"
   ]
  },
  {
   "cell_type": "markdown",
   "metadata": {},
   "source": [
    "Run SPheno and generate LHA output file. However, there is one caveat in `MadGraph`: `MadEvent` has problems with reading the HiggsBounds specific blocks in the SPheno spectrum file (`HiggsBoundsInputHiggsCouplingsFermions` and `HiggsBoundsInputHiggsCouplingsBosons`). If these blocks are included, MadEvent won’t accept the file. Therefore, The `HiggsBounds` blocks need to be disabled:"
   ]
  },
  {
   "cell_type": "code",
   "execution_count": 46,
   "metadata": {
    "collapsed": false
   },
   "outputs": [
    {
     "name": "stdout",
     "output_type": "stream",
     "text": []
    }
   ],
   "source": [
    "sed -ri 's/(^520) 1/\\1 0/' LesHouches.in.BLSM"
   ]
  },
  {
   "cell_type": "markdown",
   "metadata": {},
   "source": [
    "In fact:"
   ]
  },
  {
   "cell_type": "code",
   "execution_count": 47,
   "metadata": {
    "collapsed": false
   },
   "outputs": [
    {
     "name": "stdout",
     "output_type": "stream",
     "text": [
      "520 0.              # Write effective Higgs couplings (HiggsBounds blocks): put 0 to use file with MadGraph! \r\n"
     ]
    }
   ],
   "source": [
    "grep ^520 LesHouches.in.BLSM"
   ]
  },
  {
   "cell_type": "markdown",
   "metadata": {},
   "source": [
    "We now run the spectrum generator"
   ]
  },
  {
   "cell_type": "code",
   "execution_count": 49,
   "metadata": {
    "collapsed": false
   },
   "outputs": [
    {
     "name": "stdout",
     "output_type": "stream",
     "text": [
      " Calculating branching ratios and decay widths\r\n",
      " Calculating low energy constraints\r\n",
      " Writing output files\r\n",
      " Finished!\r\n"
     ]
    }
   ],
   "source": [
    "../SPHENO/bin/SPheno$MODEL LesHouches.in.$MODEL"
   ]
  },
  {
   "cell_type": "markdown",
   "metadata": {},
   "source": [
    "with the LHA output:"
   ]
  },
  {
   "cell_type": "code",
   "execution_count": 50,
   "metadata": {
    "collapsed": false
   },
   "outputs": [
    {
     "name": "stdout",
     "output_type": "stream",
     "text": [
      "SPheno.spc.BLSM\r\n"
     ]
    }
   ],
   "source": [
    "ls SPheno.spc.BLSM"
   ]
  },
  {
   "cell_type": "code",
   "execution_count": 48,
   "metadata": {
    "collapsed": false
   },
   "outputs": [
    {
     "name": "stdout",
     "output_type": "stream",
     "text": [
      "/home/restrepo/prog/toolbox/toolbox/test_compilation\r\n"
     ]
    }
   ],
   "source": [
    "pwd"
   ]
  },
  {
   "cell_type": "markdown",
   "metadata": {},
   "source": [
    "##  Madgraph\n",
    "\n",
    "We are using [MG5_aMC_v2_3_3](https://launchpad.net/mg5amcnlo/2.0/2.3.x/+download/MG5_aMC_v2.3.3.tar.gz).\n",
    "\n",
    "We follow here clossely the SARAH Manual: _Exploring new models in all detail with_ `SARAH`, [arxiv.org:1503.04200](https://arxiv.org/pdf/1503.04200.pdf), Sec. \"Dilepton analysis with MadGraph\", pag. 118, but adapted to our problem.\n",
    "\n",
    "The command to generate the UFO files is\n",
    "\n",
    " `MakeUFO []`\n",
    " \n",
    "With the SARAH toolbox this `Mathematica` command is automatically executed and copied into the proper `MadGraph` folder at `madgraph/models/BLSM`\n",
    "\n",
    "Here, we use an imput file for MadGraph: `install_and_check.mdg`  which contains the following lines.\n",
    "(If all tests are passed hit `<ENTER>`)"
   ]
  },
  {
   "cell_type": "code",
   "execution_count": 23,
   "metadata": {
    "collapsed": false
   },
   "outputs": [
    {
     "name": "stdout",
     "output_type": "stream",
     "text": []
    }
   ],
   "source": [
    "cat << EOF > install_and_check.mdg #Creates the file with the folloing content before EOF\n",
    "install pythia-pgs\n",
    "# Check your root installation and install Delphes\n",
    "install Delphes\n",
    "# Check SARAH model\n",
    "import model BLSM -modelname\n",
    "# p is already defined if imported from\tMadGraph console\n",
    "define p g d1 d1bar d2 d2bar u1 u1bar u2 u2bar\n",
    "check p p > nu4 nu4\n",
    "EOF"
   ]
  },
  {
   "cell_type": "code",
   "execution_count": 26,
   "metadata": {
    "collapsed": false
   },
   "outputs": [
    {
     "name": "stdout",
     "output_type": "stream",
     "text": [
      "************************************************************\r\n",
      "*                                                          *\r\n",
      "*                     W E L C O M E to                     *\r\n",
      "*              M A D G R A P H 5 _ a M C @ N L O           *\r\n",
      "*                                                          *\r\n",
      "*                                                          *\r\n",
      "*                 *                       *                *\r\n",
      "*                   *        * *        *                  *\r\n",
      "*                     * * * * 5 * * * *                    *\r\n",
      "*                   *        * *        *                  *\r\n",
      "*                 *                       *                *\r\n",
      "*                                                          *\r\n",
      "*         VERSION 2.3.3                 2015-10-25         *\r\n",
      "*                                                          *\r\n",
      "*    The MadGraph5_aMC@NLO Development Team - Find us at   *\r\n",
      "*    https://server06.fynu.ucl.ac.be/projects/madgraph     *\r\n",
      "*                            and                           *\r\n",
      "*            http://amcatnlo.web.cern.ch/amcatnlo/         *\r\n",
      "*                                                          *\r\n",
      "*               Type 'help' for in-line help.              *\r\n",
      "*           Type 'tutorial' to learn how MG5 works         *\r\n",
      "*    Type 'tutorial aMCatNLO' to learn how aMC@NLO works   *\r\n",
      "*    Type 'tutorial MadLoop' to learn how MadLoop works    *\r\n",
      "*                                                          *\r\n",
      "************************************************************\r\n",
      "load MG5 configuration from input/mg5_configuration.txt \r\n",
      "fastjet-config does not seem to correspond to a valid fastjet-config executable (v3+). We will use fjcore instead.\r\n",
      " Please set the 'fastjet'variable to the full (absolute) /PATH/TO/fastjet-config (including fastjet-config).\r\n",
      " MG5_aMC> set fastjet /PATH/TO/fastjet-config\r\n",
      "\r\n",
      "set lhapdf to lhapdf-config\r\n",
      "Using default text editor \"vi\". Set another one in ./input/mg5_configuration.txt\r\n",
      "Using default eps viewer \"evince\". Set another one in ./input/mg5_configuration.txt\r\n",
      "Using default web browser \"firefox\". Set another one in ./input/mg5_configuration.txt\r\n",
      "import /home/restrepo/prog/toolbox/toolbox/test_compilation/install_and_check.mdg\r\n",
      "The import format was not given, so we guess it as command\r\n",
      "import model BLSM -modelname\r\n",
      "\u001b[1;34mimpossible to set default multiparticles p because No particle u in model\u001b[0m\r\n",
      "\u001b[1;34mimpossible to set default multiparticles j because No particle u in model\u001b[0m\r\n",
      "\u001b[1;34mimpossible to set default multiparticles l+ because No particle e+ in model\u001b[0m\r\n",
      "\u001b[1;34mimpossible to set default multiparticles l- because No particle e- in model\u001b[0m\r\n",
      "\u001b[1;34mimpossible to set default multiparticles vl because No particle ve in model\u001b[0m\r\n",
      "\u001b[1;34mimpossible to set default multiparticles vl~ because No particle ve~ in model\u001b[0m\r\n",
      "Defined multiparticle all = g a nu1 nu2 nu3 d1 d2 d3 u1 u2 u3 d1bar d2bar d3bar u1bar u2bar u3bar h1 h2 z zp wmc wm e1 e2 e3 nu4 nu5 nu6 e1bar e2bar e3bar\r\n",
      "define p d1 d1bar d2 d2bar u1 u1bar u2 u2bar\r\n",
      "Defined multiparticle p = d1 d2 u1 u2 d1bar d2bar u1bar u2bar\r\n",
      "check p p > nu4 nu4\r\n",
      "check: PJFRY not available on your system; it will be skipped.\u001b[0m\r\n",
      "check: GOLEM not available on your system; it will be skipped.\u001b[0m\r\n",
      "\u001b[1;34mimpossible to set default multiparticles vl~ because No particle ve~ in model\u001b[0m\r\n",
      "INFO: Set All width to zero for non complex mass scheme checks \r\n",
      "INFO: Checking process d1 d1 > nu4 nu4 in unitary gauge \r\n",
      "root: No diagrams for process: d1 d1 > nu4 nu4\r\n",
      "INFO: Checking process d1 d2 > nu4 nu4 in unitary gauge \r\n",
      "root: No diagrams for process: d1 d2 > nu4 nu4\r\n",
      "INFO: Checking process d1 u1 > nu4 nu4 in unitary gauge \r\n",
      "root: No diagrams for process: d1 u1 > nu4 nu4\r\n",
      "INFO: Checking process d1 u2 > nu4 nu4 in unitary gauge \r\n",
      "root: No diagrams for process: d1 u2 > nu4 nu4\r\n",
      "INFO: Checking process d1 d1bar > nu4 nu4 in unitary gauge \r\n",
      "INFO: Checking process d1 d2bar > nu4 nu4 in unitary gauge \r\n",
      "INFO: Checking process d1 u1bar > nu4 nu4 in unitary gauge \r\n",
      "root: No diagrams for process: d1 u1bar > nu4 nu4\r\n",
      "INFO: Checking process d1 u2bar > nu4 nu4 in unitary gauge \r\n",
      "root: No diagrams for process: d1 u2bar > nu4 nu4\r\n",
      "INFO: Checking process d2 d2 > nu4 nu4 in unitary gauge \r\n",
      "root: No diagrams for process: d2 d2 > nu4 nu4\r\n",
      "INFO: Checking process d2 u1 > nu4 nu4 in unitary gauge \r\n",
      "root: No diagrams for process: d2 u1 > nu4 nu4\r\n",
      "INFO: Checking process d2 u2 > nu4 nu4 in unitary gauge \r\n",
      "root: No diagrams for process: d2 u2 > nu4 nu4\r\n",
      "INFO: Checking process d2 d1bar > nu4 nu4 in unitary gauge \r\n",
      "INFO: Checking process d2 d2bar > nu4 nu4 in unitary gauge \r\n",
      "INFO: Checking process d2 u1bar > nu4 nu4 in unitary gauge \r\n",
      "root: No diagrams for process: d2 u1bar > nu4 nu4\r\n",
      "INFO: Checking process d2 u2bar > nu4 nu4 in unitary gauge \r\n",
      "root: No diagrams for process: d2 u2bar > nu4 nu4\r\n",
      "INFO: Checking process u1 u1 > nu4 nu4 in unitary gauge \r\n",
      "root: No diagrams for process: u1 u1 > nu4 nu4\r\n",
      "INFO: Checking process u1 u2 > nu4 nu4 in unitary gauge \r\n",
      "root: No diagrams for process: u1 u2 > nu4 nu4\r\n",
      "INFO: Checking process u1 d1bar > nu4 nu4 in unitary gauge \r\n",
      "root: No diagrams for process: u1 d1bar > nu4 nu4\r\n",
      "INFO: Checking process u1 d2bar > nu4 nu4 in unitary gauge \r\n",
      "root: No diagrams for process: u1 d2bar > nu4 nu4\r\n",
      "INFO: Checking process u1 u1bar > nu4 nu4 in unitary gauge \r\n",
      "INFO: Checking process u1 u2bar > nu4 nu4 in unitary gauge \r\n",
      "INFO: Checking process u2 u2 > nu4 nu4 in unitary gauge \r\n",
      "root: No diagrams for process: u2 u2 > nu4 nu4\r\n",
      "INFO: Checking process u2 d1bar > nu4 nu4 in unitary gauge \r\n",
      "root: No diagrams for process: u2 d1bar > nu4 nu4\r\n",
      "INFO: Checking process u2 d2bar > nu4 nu4 in unitary gauge \r\n",
      "root: No diagrams for process: u2 d2bar > nu4 nu4\r\n",
      "INFO: Checking process u2 u1bar > nu4 nu4 in unitary gauge \r\n",
      "INFO: Checking process u2 u2bar > nu4 nu4 in unitary gauge \r\n",
      "INFO: Checking process d1bar d1bar > nu4 nu4 in unitary gauge \r\n",
      "root: No diagrams for process: d1bar d1bar > nu4 nu4\r\n",
      "INFO: Checking process d1bar d2bar > nu4 nu4 in unitary gauge \r\n",
      "root: No diagrams for process: d1bar d2bar > nu4 nu4\r\n",
      "INFO: Checking process d1bar u1bar > nu4 nu4 in unitary gauge \r\n",
      "root: No diagrams for process: d1bar u1bar > nu4 nu4\r\n",
      "INFO: Checking process d1bar u2bar > nu4 nu4 in unitary gauge \r\n",
      "root: No diagrams for process: d1bar u2bar > nu4 nu4\r\n",
      "INFO: Checking process d2bar d2bar > nu4 nu4 in unitary gauge \r\n",
      "root: No diagrams for process: d2bar d2bar > nu4 nu4\r\n",
      "INFO: Checking process d2bar u1bar > nu4 nu4 in unitary gauge \r\n",
      "root: No diagrams for process: d2bar u1bar > nu4 nu4\r\n",
      "INFO: Checking process d2bar u2bar > nu4 nu4 in unitary gauge \r\n",
      "root: No diagrams for process: d2bar u2bar > nu4 nu4\r\n",
      "INFO: Checking process u1bar u1bar > nu4 nu4 in unitary gauge \r\n",
      "root: No diagrams for process: u1bar u1bar > nu4 nu4\r\n",
      "INFO: Checking process u1bar u2bar > nu4 nu4 in unitary gauge \r\n",
      "root: No diagrams for process: u1bar u2bar > nu4 nu4\r\n",
      "INFO: Checking process u2bar u2bar > nu4 nu4 in unitary gauge \r\n",
      "root: No diagrams for process: u2bar u2bar > nu4 nu4\r\n",
      "\u001b[1;34mimpossible to set default multiparticles vl~ because No particle ve~ in model\u001b[0m\r\n",
      "INFO: Checking crossings of process d1 d1 > nu4 nu4 \r\n",
      "root: No diagrams for process: d1 d1 > nu4 nu4\r\n",
      "INFO: Checking crossings of process d1 d2 > nu4 nu4 \r\n",
      "root: No diagrams for process: d1 d2 > nu4 nu4\r\n",
      "INFO: Checking crossings of process d1 u1 > nu4 nu4 \r\n",
      "root: No diagrams for process: d1 u1 > nu4 nu4\r\n",
      "INFO: Checking crossings of process d1 u2 > nu4 nu4 \r\n",
      "root: No diagrams for process: d1 u2 > nu4 nu4\r\n",
      "INFO: Checking crossings of process d1 d1bar > nu4 nu4 \r\n",
      "INFO: Testing permutation: [1, 2, 4, 3] \r\n",
      "INFO: Testing permutation: [1, 3, 2, 4] \r\n",
      "INFO: Testing permutation: [1, 3, 4, 2] \r\n",
      "INFO: Testing permutation: [1, 4, 2, 3] \r\n",
      "INFO: Testing permutation: [2, 1, 3, 4] \r\n",
      "INFO: Testing permutation: [2, 3, 1, 4] \r\n",
      "INFO: Testing permutation: [2, 3, 4, 1] \r\n",
      "INFO: Testing permutation: [3, 1, 2, 4] \r\n",
      "INFO: Testing permutation: [4, 1, 2, 3] \r\n",
      "INFO: Checking crossings of process d1 d2bar > nu4 nu4 \r\n",
      "INFO: Testing permutation: [1, 2, 4, 3] \r\n",
      "INFO: Testing permutation: [1, 3, 2, 4] \r\n",
      "INFO: Testing permutation: [1, 3, 4, 2] \r\n",
      "INFO: Testing permutation: [1, 4, 2, 3] \r\n",
      "INFO: Testing permutation: [2, 1, 3, 4] \r\n",
      "INFO: Testing permutation: [2, 3, 1, 4] \r\n",
      "INFO: Testing permutation: [2, 3, 4, 1] \r\n",
      "INFO: Testing permutation: [3, 1, 2, 4] \r\n",
      "INFO: Testing permutation: [4, 1, 2, 3] \r\n",
      "INFO: Checking crossings of process d1 u1bar > nu4 nu4 \r\n",
      "root: No diagrams for process: d1 u1bar > nu4 nu4\r\n",
      "INFO: Checking crossings of process d1 u2bar > nu4 nu4 \r\n",
      "root: No diagrams for process: d1 u2bar > nu4 nu4\r\n",
      "INFO: Checking crossings of process d2 d2 > nu4 nu4 \r\n",
      "root: No diagrams for process: d2 d2 > nu4 nu4\r\n",
      "INFO: Checking crossings of process d2 u1 > nu4 nu4 \r\n",
      "root: No diagrams for process: d2 u1 > nu4 nu4\r\n",
      "INFO: Checking crossings of process d2 u2 > nu4 nu4 \r\n",
      "root: No diagrams for process: d2 u2 > nu4 nu4\r\n",
      "INFO: Checking crossings of process d2 d1bar > nu4 nu4 \r\n",
      "INFO: Testing permutation: [1, 2, 4, 3] \r\n",
      "INFO: Testing permutation: [1, 3, 2, 4] \r\n",
      "INFO: Testing permutation: [1, 3, 4, 2] \r\n",
      "INFO: Testing permutation: [1, 4, 2, 3] \r\n",
      "INFO: Testing permutation: [2, 1, 3, 4] \r\n",
      "INFO: Testing permutation: [2, 3, 1, 4] \r\n",
      "INFO: Testing permutation: [2, 3, 4, 1] \r\n",
      "INFO: Testing permutation: [3, 1, 2, 4] \r\n",
      "INFO: Testing permutation: [4, 1, 2, 3] \r\n",
      "INFO: Checking crossings of process d2 d2bar > nu4 nu4 \r\n",
      "INFO: Testing permutation: [1, 2, 4, 3] \r\n",
      "INFO: Testing permutation: [1, 3, 2, 4] \r\n",
      "INFO: Testing permutation: [1, 3, 4, 2] \r\n",
      "INFO: Testing permutation: [1, 4, 2, 3] \r\n",
      "INFO: Testing permutation: [2, 1, 3, 4] \r\n",
      "INFO: Testing permutation: [2, 3, 1, 4] \r\n",
      "INFO: Testing permutation: [2, 3, 4, 1] \r\n",
      "INFO: Testing permutation: [3, 1, 2, 4] \r\n",
      "INFO: Testing permutation: [4, 1, 2, 3] \r\n",
      "INFO: Checking crossings of process d2 u1bar > nu4 nu4 \r\n",
      "root: No diagrams for process: d2 u1bar > nu4 nu4\r\n",
      "INFO: Checking crossings of process d2 u2bar > nu4 nu4 \r\n",
      "root: No diagrams for process: d2 u2bar > nu4 nu4\r\n",
      "INFO: Checking crossings of process u1 u1 > nu4 nu4 \r\n",
      "root: No diagrams for process: u1 u1 > nu4 nu4\r\n",
      "INFO: Checking crossings of process u1 u2 > nu4 nu4 \r\n",
      "root: No diagrams for process: u1 u2 > nu4 nu4\r\n",
      "INFO: Checking crossings of process u1 d1bar > nu4 nu4 \r\n",
      "root: No diagrams for process: u1 d1bar > nu4 nu4\r\n",
      "INFO: Checking crossings of process u1 d2bar > nu4 nu4 \r\n",
      "root: No diagrams for process: u1 d2bar > nu4 nu4\r\n",
      "INFO: Checking crossings of process u1 u1bar > nu4 nu4 \r\n",
      "INFO: Testing permutation: [1, 2, 4, 3] \r\n",
      "INFO: Testing permutation: [1, 3, 2, 4] \r\n",
      "INFO: Testing permutation: [1, 3, 4, 2] \r\n",
      "INFO: Testing permutation: [1, 4, 2, 3] \r\n",
      "INFO: Testing permutation: [2, 1, 3, 4] \r\n",
      "INFO: Testing permutation: [2, 3, 1, 4] \r\n",
      "INFO: Testing permutation: [2, 3, 4, 1] \r\n",
      "INFO: Testing permutation: [3, 1, 2, 4] \r\n",
      "INFO: Testing permutation: [4, 1, 2, 3] \r\n",
      "INFO: Checking crossings of process u1 u2bar > nu4 nu4 \r\n",
      "INFO: Testing permutation: [1, 2, 4, 3] \r\n",
      "INFO: Testing permutation: [1, 3, 2, 4] \r\n",
      "INFO: Testing permutation: [1, 3, 4, 2] \r\n",
      "INFO: Testing permutation: [1, 4, 2, 3] \r\n",
      "INFO: Testing permutation: [2, 1, 3, 4] \r\n",
      "INFO: Testing permutation: [2, 3, 1, 4] \r\n",
      "INFO: Testing permutation: [2, 3, 4, 1] \r\n",
      "INFO: Testing permutation: [3, 1, 2, 4] \r\n",
      "INFO: Testing permutation: [4, 1, 2, 3] \r\n",
      "INFO: Checking crossings of process u2 u2 > nu4 nu4 \r\n",
      "root: No diagrams for process: u2 u2 > nu4 nu4\r\n",
      "INFO: Checking crossings of process u2 d1bar > nu4 nu4 \r\n",
      "root: No diagrams for process: u2 d1bar > nu4 nu4\r\n",
      "INFO: Checking crossings of process u2 d2bar > nu4 nu4 \r\n",
      "root: No diagrams for process: u2 d2bar > nu4 nu4\r\n",
      "INFO: Checking crossings of process u2 u1bar > nu4 nu4 \r\n",
      "INFO: Testing permutation: [1, 2, 4, 3] \r\n",
      "INFO: Testing permutation: [1, 3, 2, 4] \r\n",
      "INFO: Testing permutation: [1, 3, 4, 2] \r\n",
      "INFO: Testing permutation: [1, 4, 2, 3] \r\n",
      "INFO: Testing permutation: [2, 1, 3, 4] \r\n",
      "INFO: Testing permutation: [2, 3, 1, 4] \r\n",
      "INFO: Testing permutation: [2, 3, 4, 1] \r\n",
      "INFO: Testing permutation: [3, 1, 2, 4] \r\n",
      "INFO: Testing permutation: [4, 1, 2, 3] \r\n",
      "INFO: Checking crossings of process u2 u2bar > nu4 nu4 \r\n",
      "INFO: Testing permutation: [1, 2, 4, 3] \r\n",
      "INFO: Testing permutation: [1, 3, 2, 4] \r\n",
      "INFO: Testing permutation: [1, 3, 4, 2] \r\n",
      "INFO: Testing permutation: [1, 4, 2, 3] \r\n",
      "INFO: Testing permutation: [2, 1, 3, 4] \r\n",
      "INFO: Testing permutation: [2, 3, 1, 4] \r\n",
      "INFO: Testing permutation: [2, 3, 4, 1] \r\n",
      "INFO: Testing permutation: [3, 1, 2, 4] \r\n",
      "INFO: Testing permutation: [4, 1, 2, 3] \r\n",
      "INFO: Checking crossings of process d1bar d1bar > nu4 nu4 \r\n",
      "root: No diagrams for process: d1bar d1bar > nu4 nu4\r\n",
      "INFO: Checking crossings of process d1bar d2bar > nu4 nu4 \r\n",
      "root: No diagrams for process: d1bar d2bar > nu4 nu4\r\n",
      "INFO: Checking crossings of process d1bar u1bar > nu4 nu4 \r\n",
      "root: No diagrams for process: d1bar u1bar > nu4 nu4\r\n",
      "INFO: Checking crossings of process d1bar u2bar > nu4 nu4 \r\n",
      "root: No diagrams for process: d1bar u2bar > nu4 nu4\r\n",
      "INFO: Checking crossings of process d2bar d2bar > nu4 nu4 \r\n",
      "root: No diagrams for process: d2bar d2bar > nu4 nu4\r\n",
      "INFO: Checking crossings of process d2bar u1bar > nu4 nu4 \r\n",
      "root: No diagrams for process: d2bar u1bar > nu4 nu4\r\n",
      "INFO: Checking crossings of process d2bar u2bar > nu4 nu4 \r\n",
      "root: No diagrams for process: d2bar u2bar > nu4 nu4\r\n",
      "INFO: Checking crossings of process u1bar u1bar > nu4 nu4 \r\n",
      "root: No diagrams for process: u1bar u1bar > nu4 nu4\r\n",
      "INFO: Checking crossings of process u1bar u2bar > nu4 nu4 \r\n",
      "root: No diagrams for process: u1bar u2bar > nu4 nu4\r\n",
      "INFO: Checking crossings of process u2bar u2bar > nu4 nu4 \r\n",
      "root: No diagrams for process: u2bar u2bar > nu4 nu4\r\n",
      "INFO: Set All width to zero for non complex mass scheme checks \r\n",
      "INFO: Checking lorentz transformations for process d1 d1 > nu4 nu4 \r\n",
      "root: No diagrams for process: d1 d1 > nu4 nu4\r\n",
      "INFO: Checking lorentz transformations for process d1 d2 > nu4 nu4 \r\n",
      "root: No diagrams for process: d1 d2 > nu4 nu4\r\n",
      "INFO: Checking lorentz transformations for process d1 u1 > nu4 nu4 \r\n",
      "root: No diagrams for process: d1 u1 > nu4 nu4\r\n",
      "INFO: Checking lorentz transformations for process d1 u2 > nu4 nu4 \r\n",
      "root: No diagrams for process: d1 u2 > nu4 nu4\r\n",
      "INFO: Checking lorentz transformations for process d1 d1bar > nu4 nu4 \r\n",
      "INFO: Checking lorentz transformations for process d1 d2bar > nu4 nu4 \r\n",
      "INFO: Checking lorentz transformations for process d1 u1bar > nu4 nu4 \r\n",
      "root: No diagrams for process: d1 u1bar > nu4 nu4\r\n",
      "INFO: Checking lorentz transformations for process d1 u2bar > nu4 nu4 \r\n",
      "root: No diagrams for process: d1 u2bar > nu4 nu4\r\n",
      "INFO: Checking lorentz transformations for process d2 d2 > nu4 nu4 \r\n",
      "root: No diagrams for process: d2 d2 > nu4 nu4\r\n",
      "INFO: Checking lorentz transformations for process d2 u1 > nu4 nu4 \r\n",
      "root: No diagrams for process: d2 u1 > nu4 nu4\r\n",
      "INFO: Checking lorentz transformations for process d2 u2 > nu4 nu4 \r\n",
      "root: No diagrams for process: d2 u2 > nu4 nu4\r\n",
      "INFO: Checking lorentz transformations for process d2 d1bar > nu4 nu4 \r\n",
      "INFO: Checking lorentz transformations for process d2 d2bar > nu4 nu4 \r\n",
      "INFO: Checking lorentz transformations for process d2 u1bar > nu4 nu4 \r\n",
      "root: No diagrams for process: d2 u1bar > nu4 nu4\r\n",
      "INFO: Checking lorentz transformations for process d2 u2bar > nu4 nu4 \r\n",
      "root: No diagrams for process: d2 u2bar > nu4 nu4\r\n",
      "INFO: Checking lorentz transformations for process u1 u1 > nu4 nu4 \r\n",
      "root: No diagrams for process: u1 u1 > nu4 nu4\r\n",
      "INFO: Checking lorentz transformations for process u1 u2 > nu4 nu4 \r\n",
      "root: No diagrams for process: u1 u2 > nu4 nu4\r\n",
      "INFO: Checking lorentz transformations for process u1 d1bar > nu4 nu4 \r\n",
      "root: No diagrams for process: u1 d1bar > nu4 nu4\r\n",
      "INFO: Checking lorentz transformations for process u1 d2bar > nu4 nu4 \r\n",
      "root: No diagrams for process: u1 d2bar > nu4 nu4\r\n",
      "INFO: Checking lorentz transformations for process u1 u1bar > nu4 nu4 \r\n",
      "INFO: Checking lorentz transformations for process u1 u2bar > nu4 nu4 \r\n",
      "INFO: Checking lorentz transformations for process u2 u2 > nu4 nu4 \r\n",
      "root: No diagrams for process: u2 u2 > nu4 nu4\r\n",
      "INFO: Checking lorentz transformations for process u2 d1bar > nu4 nu4 \r\n",
      "root: No diagrams for process: u2 d1bar > nu4 nu4\r\n",
      "INFO: Checking lorentz transformations for process u2 d2bar > nu4 nu4 \r\n",
      "root: No diagrams for process: u2 d2bar > nu4 nu4\r\n",
      "INFO: Checking lorentz transformations for process u2 u1bar > nu4 nu4 \r\n",
      "INFO: Checking lorentz transformations for process u2 u2bar > nu4 nu4 \r\n",
      "INFO: Checking lorentz transformations for process d1bar d1bar > nu4 nu4 \r\n",
      "root: No diagrams for process: d1bar d1bar > nu4 nu4\r\n",
      "INFO: Checking lorentz transformations for process d1bar d2bar > nu4 nu4 \r\n",
      "root: No diagrams for process: d1bar d2bar > nu4 nu4\r\n",
      "INFO: Checking lorentz transformations for process d1bar u1bar > nu4 nu4 \r\n",
      "root: No diagrams for process: d1bar u1bar > nu4 nu4\r\n",
      "INFO: Checking lorentz transformations for process d1bar u2bar > nu4 nu4 \r\n",
      "root: No diagrams for process: d1bar u2bar > nu4 nu4\r\n",
      "INFO: Checking lorentz transformations for process d2bar d2bar > nu4 nu4 \r\n",
      "root: No diagrams for process: d2bar d2bar > nu4 nu4\r\n",
      "INFO: Checking lorentz transformations for process d2bar u1bar > nu4 nu4 \r\n",
      "root: No diagrams for process: d2bar u1bar > nu4 nu4\r\n",
      "INFO: Checking lorentz transformations for process d2bar u2bar > nu4 nu4 \r\n",
      "root: No diagrams for process: d2bar u2bar > nu4 nu4\r\n",
      "INFO: Checking lorentz transformations for process u1bar u1bar > nu4 nu4 \r\n",
      "root: No diagrams for process: u1bar u1bar > nu4 nu4\r\n",
      "INFO: Checking lorentz transformations for process u1bar u2bar > nu4 nu4 \r\n",
      "root: No diagrams for process: u1bar u2bar > nu4 nu4\r\n",
      "INFO: Checking lorentz transformations for process u2bar u2bar > nu4 nu4 \r\n",
      "root: No diagrams for process: u2bar u2bar > nu4 nu4\r\n",
      "INFO: Set All width to zero for non complex mass scheme checks \r\n",
      "INFO: No ward identity for process: d1 d1 > nu4 nu4 \r\n",
      "INFO: No ward identity for process: d1 d2 > nu4 nu4 \r\n",
      "INFO: No ward identity for process: d1 u1 > nu4 nu4 \r\n",
      "INFO: No ward identity for process: d1 u2 > nu4 nu4 \r\n",
      "INFO: No ward identity for process: d1 d1bar > nu4 nu4 \r\n",
      "INFO: No ward identity for process: d1 d2bar > nu4 nu4 \r\n",
      "INFO: No ward identity for process: d1 u1bar > nu4 nu4 \r\n",
      "INFO: No ward identity for process: d1 u2bar > nu4 nu4 \r\n",
      "INFO: No ward identity for process: d2 d2 > nu4 nu4 \r\n",
      "INFO: No ward identity for process: d2 u1 > nu4 nu4 \r\n",
      "INFO: No ward identity for process: d2 u2 > nu4 nu4 \r\n",
      "INFO: No ward identity for process: d2 d1bar > nu4 nu4 \r\n",
      "INFO: No ward identity for process: d2 d2bar > nu4 nu4 \r\n",
      "INFO: No ward identity for process: d2 u1bar > nu4 nu4 \r\n",
      "INFO: No ward identity for process: d2 u2bar > nu4 nu4 \r\n",
      "INFO: No ward identity for process: u1 u1 > nu4 nu4 \r\n",
      "INFO: No ward identity for process: u1 u2 > nu4 nu4 \r\n",
      "INFO: No ward identity for process: u1 d1bar > nu4 nu4 \r\n",
      "INFO: No ward identity for process: u1 d2bar > nu4 nu4 \r\n",
      "INFO: No ward identity for process: u1 u1bar > nu4 nu4 \r\n",
      "INFO: No ward identity for process: u1 u2bar > nu4 nu4 \r\n",
      "INFO: No ward identity for process: u2 u2 > nu4 nu4 \r\n",
      "INFO: No ward identity for process: u2 d1bar > nu4 nu4 \r\n",
      "INFO: No ward identity for process: u2 d2bar > nu4 nu4 \r\n",
      "INFO: No ward identity for process: u2 u1bar > nu4 nu4 \r\n",
      "INFO: No ward identity for process: u2 u2bar > nu4 nu4 \r\n",
      "INFO: No ward identity for process: d1bar d1bar > nu4 nu4 \r\n",
      "INFO: No ward identity for process: d1bar d2bar > nu4 nu4 \r\n",
      "INFO: No ward identity for process: d1bar u1bar > nu4 nu4 \r\n",
      "INFO: No ward identity for process: d1bar u2bar > nu4 nu4 \r\n",
      "INFO: No ward identity for process: d2bar d2bar > nu4 nu4 \r\n",
      "INFO: No ward identity for process: d2bar u1bar > nu4 nu4 \r\n",
      "INFO: No ward identity for process: d2bar u2bar > nu4 nu4 \r\n",
      "INFO: No ward identity for process: u1bar u1bar > nu4 nu4 \r\n",
      "INFO: No ward identity for process: u1bar u2bar > nu4 nu4 \r\n",
      "INFO: No ward identity for process: u2bar u2bar > nu4 nu4 \r\n",
      "check: 17 check performed in 3 seconds\r\n",
      "Note That all width have been set to zero for those checks\r\n",
      "\r\n",
      "Lorentz invariance results:\r\n",
      "Process          Min element       Max element       Relative diff.    Result\r\n",
      "Summary: 0/0 passed, 0/0 failed\r\n",
      "Not checked processes: d1 d1bar > nu4 nu4, d1 d2bar > nu4 nu4, d2 d1bar > nu4 nu4, d2 d2bar > nu4 nu4, u1 u1bar > nu4 nu4, u1 u2bar > nu4 nu4, u2 u1bar > nu4 nu4, u2 u2bar > nu4 nu4\r\n",
      "Gauge results (switching between Unitary/Feynman):\r\n",
      "Process          Unitary           Feynman           Relative diff.    Result\r\n",
      "Summary: 0/0 passed, 0/0 failed\r\n",
      "Process permutation results:\r\n",
      "Process            Min element       Max element       Relative diff.    Result\r\n",
      "d1 d1bar > nu4 nu4 0.0000000000e+00  0.0000000000e+00  0.0000000000e+00  Passed\r\n",
      "d1 d2bar > nu4 nu4 0.0000000000e+00  0.0000000000e+00  0.0000000000e+00  Passed\r\n",
      "d2 d1bar > nu4 nu4 0.0000000000e+00  0.0000000000e+00  0.0000000000e+00  Passed\r\n",
      "d2 d2bar > nu4 nu4 0.0000000000e+00  0.0000000000e+00  0.0000000000e+00  Passed\r\n",
      "u1 u1bar > nu4 nu4 0.0000000000e+00  0.0000000000e+00  0.0000000000e+00  Passed\r\n",
      "u1 u2bar > nu4 nu4 0.0000000000e+00  0.0000000000e+00  0.0000000000e+00  Passed\r\n",
      "u2 u1bar > nu4 nu4 0.0000000000e+00  0.0000000000e+00  0.0000000000e+00  Passed\r\n",
      "u2 u2bar > nu4 nu4 0.0000000000e+00  0.0000000000e+00  0.0000000000e+00  Passed\r\n",
      "Summary: 8/8 passed, 0/8 failed\r\n",
      "quit\r\n",
      " \r\n",
      "\r\n",
      " \r\n",
      "\r\n"
     ]
    }
   ],
   "source": [
    "cd ../madgraph  \n",
    "./bin/mg5_aMC ../test_compilation/install_and_check.mdg"
   ]
  },
  {
   "cell_type": "markdown",
   "metadata": {},
   "source": [
    "Now we can generate the VBF "
   ]
  },
  {
   "cell_type": "code",
   "execution_count": 54,
   "metadata": {
    "collapsed": false
   },
   "outputs": [
    {
     "name": "stdout",
     "output_type": "stream",
     "text": []
    }
   ],
   "source": [
    "cd ../test_compilation\n",
    "cat << EOF > VBF.mdg #Creates the file with the folloing content before EOF\n",
    "# p is already defined if imported from\tMadGraph console\n",
    "import model BLSM -modelname\n",
    "define p g d1 d1bar d2 d2bar u1 u1bar u2 u2bar\n",
    "define j g d1 d1bar d2 d2bar u1 u1bar u2 u2bar   \n",
    "generate p p > nu4 nu4 j j \\$\\$ z zp wm wmc h1 h2 a QED=99 QCD=99 @1\n",
    "output ../test_compilation/MadOut\n",
    "exit\n",
    "EOF"
   ]
  },
  {
   "cell_type": "code",
   "execution_count": 41,
   "metadata": {
    "collapsed": false
   },
   "outputs": [
    {
     "name": "stdout",
     "output_type": "stream",
     "text": [
      "# p is already defined if imported fromMadGraph console\r\n",
      "import model BLSM -modelname\r\n",
      "define p g d1 d1bar d2 d2bar u1 u1bar u2 u2bar\r\n",
      "define j g d1 d1bar d2 d2bar u1 u1bar u2 u2bar   \r\n",
      "generate p p > nu4 nu4 j j $$ z zp wm wmc h1 h2 a\r\n",
      "output ../MadOut\r\n",
      "exit\r\n"
     ]
    }
   ],
   "source": [
    "cd ../madgraph\n",
    "./bin/mg5_aMC ../test_compilation/VBF.mdg > /dev/null"
   ]
  },
  {
   "cell_type": "code",
   "execution_count": 53,
   "metadata": {
    "collapsed": false
   },
   "outputs": [
    {
     "name": "stdout",
     "output_type": "stream",
     "text": [
      "/home/restrepo/prog/toolbox/toolbox/test_compilation\r\n"
     ]
    }
   ],
   "source": [
    "pwd"
   ]
  },
  {
   "cell_type": "markdown",
   "metadata": {
    "collapsed": false
   },
   "source": [
    "In the first line we import the model in `MadGraph`. The option `-modelname` is used to keep the names of the particles as given in the model files. By default, `MadGraph` will try to use the default naming conventions. However, this would fail for this model. We define a multi-particle called `p` which consists of gluon and all the light quarks. If we import the model direcly from the `MadGraph` console, `p` is definded automatically from the new model name particles.\n",
    "\n",
    "The `n4` is the first right handed neutrino. Thus, in the third line we generate the process $p p \\to N_R\\;N_R\\;j\\;j$ in Vector Boson Fusion. The output for MadEvent is written to a new subdirectory `test_compilation/MadOut`  and we close `MadGraph` when it is done via exit. After MadGraph has created the output for MadEvent and finished, we can enter the new subdirectory `test_compilation/MadOut`. The important settings to generate events are done via the files in the Cards-directory: the file `param_card.dat` is used to give the input for all parameters, `run_card.dat` controls the event generations. In the last file, the user can for instance set the beam type and energy, define the renormalization scale, apply cuts, and fix the number of events. We want to use, of course, the spectrum file as written by SPheno. "
   ]
  },
  {
   "cell_type": "code",
   "execution_count": 45,
   "metadata": {
    "collapsed": false
   },
   "outputs": [
    {
     "name": "stdout",
     "output_type": "stream",
     "text": [
      "520 1.              # Write effective Higgs couplings (HiggsBounds blocks): put 0 to use file with MadGraph! \r\n"
     ]
    }
   ],
   "source": [
    "cd ../test_compilation\n",
    "grep ^520 LesHouches.in.BLSM"
   ]
  },
  {
   "cell_type": "markdown",
   "metadata": {},
   "source": [
    "When we have the spectrum file in the correct form, we can copy this file to the Cards directory as\n",
    "param card.dat."
   ]
  },
  {
   "cell_type": "code",
   "execution_count": 52,
   "metadata": {
    "collapsed": false
   },
   "outputs": [
    {
     "name": "stdout",
     "output_type": "stream",
     "text": []
    }
   ],
   "source": [
    "cp SPheno.spc.$MODEL MadOut/Cards/param_card.dat "
   ]
  },
  {
   "cell_type": "markdown",
   "metadata": {},
   "source": [
    "Any change in some input parameters requires update the `SPheno` output and overwrite the `MadOut/Cards/param_card.dat`"
   ]
  },
  {
   "cell_type": "code",
   "execution_count": null,
   "metadata": {
    "collapsed": false
   },
   "outputs": [],
   "source": [
    "cat << EOF > launch.mdg\n",
    "launch ../test_compilation/MadOut \n",
    "0\n",
    "0\n",
    "EOF\n",
    "../madgraph/bin/mg5_aMC > /dev/null"
   ]
  },
  {
   "cell_type": "markdown",
   "metadata": {
    "collapsed": true
   },
   "source": [
    "## Go now to: \n",
    "* [main ipyrhon file](./tests/BLSM.ipynb) → $B-L$ extended standard model"
   ]
  },
  {
   "cell_type": "code",
   "execution_count": null,
   "metadata": {
    "collapsed": true
   },
   "outputs": [],
   "source": []
  }
 ],
 "metadata": {
  "kernelspec": {
   "display_name": "Bash",
   "language": "bash",
   "name": "bash"
  },
  "language_info": {
   "codemirror_mode": "shell",
   "file_extension": ".sh",
   "mimetype": "text/x-sh",
   "name": "bash"
  }
 },
 "nbformat": 4,
 "nbformat_minor": 0
}
