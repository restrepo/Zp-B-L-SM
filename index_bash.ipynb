{
 "cells": [
  {
   "cell_type": "markdown",
   "metadata": {},
   "source": [
    "# SARAH Toolbox\n",
    "## Collection of models to be run from a docker image\n",
    "Launch virtual docker image: \n",
    "[![Binder](http://mybinder.org/badge.svg)](http://mybinder.org/repo/restrepo/SimplifiedDM-SDFDM-Toolbox)\n",
    "\n",
    "[Jupyter home](./) (Files, New -> Terminal, etc)\n",
    "[![Home](http://www.incredimail.com/images/nav%20bar/home-icon.png)](./)\n",
    "\n",
    "### Highly recommended:\n",
    "[Run from a terminal](../terminals/1):\n",
    "[![T](http://mysitemyway.com/_shared/images/icons/full_color/terminal.png)](../terminals/1)\n",
    "## Implemented models\n",
    "Each model is to be run in a specific virtual machine. Follow the binder button in each github repo\n",
    "* `SARAH/Models/SSDM/` (for test purposes)\n",
    "* `SARAH/Models/SM/HighScale` (For RGE running: ./butler SM/HighScale) [Repo](https://github.com/restrepo/SM-Toolbox/)\n",
    "* `SARAH/Models/SimplifiedDM/DFDM` (This image)\n",
    "* `SARAH/Models/SimplifiedDM/SDFDM` (This image)\n",
    "\n",
    "## Instructions to compile the model\n",
    "In `SPHENO` and `micromegas`\n",
    "\n",
    "See possible analysis based on the models in  [./tests](./tests) folder.\n",
    "\n",
    "Below we define the model to be compiled:"
   ]
  },
  {
   "cell_type": "code",
   "execution_count": 1,
   "metadata": {
    "collapsed": false
   },
   "outputs": [
    {
     "name": "stdout",
     "output_type": "stream",
     "text": []
    }
   ],
   "source": [
    "MODEL=ZpBminusLSM"
   ]
  },
  {
   "cell_type": "markdown",
   "metadata": {},
   "source": [
    "To better control in the outputs, it is recomended that the commands be executed [from a terminal](../terminals/1). Only possible errors are to be shown below"
   ]
  },
  {
   "cell_type": "code",
   "execution_count": 58,
   "metadata": {
    "collapsed": false
   },
   "outputs": [
    {
     "name": "stdout",
     "output_type": "stream",
     "text": []
    }
   ],
   "source": [
    "./compile_spheno_directly.sh $MODEL > /dev/null"
   ]
  },
  {
   "cell_type": "markdown",
   "metadata": {},
   "source": [
    "make a work dir"
   ]
  },
  {
   "cell_type": "code",
   "execution_count": 2,
   "metadata": {
    "collapsed": false
   },
   "outputs": [
    {
     "name": "stdout",
     "output_type": "stream",
     "text": []
    }
   ],
   "source": [
    "mkdir -p test_compilation\n",
    "cd test_compilation"
   ]
  },
  {
   "cell_type": "code",
   "execution_count": 3,
   "metadata": {
    "collapsed": false
   },
   "outputs": [
    {
     "name": "stdout",
     "output_type": "stream",
     "text": []
    }
   ],
   "source": [
    "LHAINPUT=../SPHENO/$MODEL/Input_Files/LesHouches.in.$MODEL\n",
    "if [ -f ../SARAH/Models/$MODEL/LesHouches.in.$MODEL ]; then\n",
    "   LHAINPUT=../SARAH/Models/$MODEL/LesHouches.in.$MODEL\n",
    "fi\n",
    "cp $LHAINPUT . #only a number of limited charactes accepted as input"
   ]
  },
  {
   "cell_type": "markdown",
   "metadata": {},
   "source": [
    "Run SPheno and generate LHA output file. However, there is one caveat in `MadGraph`: `MadEvent` has problems with reading the HiggsBounds specific blocks in the SPheno spectrum file (`HiggsBoundsInputHiggsCouplingsFermions` and `HiggsBoundsInputHiggsCouplingsBosons`). If these blocks are included, MadEvent won’t accept the file. Therefore, The `HiggsBounds` blocks need to be disabled:"
   ]
  },
  {
   "cell_type": "code",
   "execution_count": 8,
   "metadata": {
    "collapsed": false
   },
   "outputs": [
    {
     "name": "stdout",
     "output_type": "stream",
     "text": []
    }
   ],
   "source": [
    "sed -ri 's/(^520) 1/\\1 0/' LesHouches.in.$MODEL"
   ]
  },
  {
   "cell_type": "markdown",
   "metadata": {},
   "source": [
    "In fact:"
   ]
  },
  {
   "cell_type": "code",
   "execution_count": 9,
   "metadata": {
    "collapsed": false
   },
   "outputs": [
    {
     "name": "stdout",
     "output_type": "stream",
     "text": [
      "520 0.              # Write effective Higgs couplings (HiggsBounds blocks): put 0 to use file with MadGraph! \r\n"
     ]
    }
   ],
   "source": [
    "grep ^520 LesHouches.in.$MODEL"
   ]
  },
  {
   "cell_type": "markdown",
   "metadata": {},
   "source": [
    "We now run the spectrum generator"
   ]
  },
  {
   "cell_type": "code",
   "execution_count": 7,
   "metadata": {
    "collapsed": false
   },
   "outputs": [
    {
     "name": "stdout",
     "output_type": "stream",
     "text": [
      " Calculating branching ratios and decay widths\r\n",
      " Calculating low energy constraints\r\n",
      " Writing output files\r\n",
      " Finished!\r\n"
     ]
    }
   ],
   "source": [
    "../SPHENO/bin/SPheno$MODEL LesHouches.in.$MODEL"
   ]
  },
  {
   "cell_type": "markdown",
   "metadata": {},
   "source": [
    "with the LHA output:"
   ]
  },
  {
   "cell_type": "code",
   "execution_count": 10,
   "metadata": {
    "collapsed": false
   },
   "outputs": [
    {
     "name": "stdout",
     "output_type": "stream",
     "text": [
      "SPheno.spc.BLSM\r\n"
     ]
    }
   ],
   "source": [
    "ls SPheno.spc.$MODEL"
   ]
  },
  {
   "cell_type": "markdown",
   "metadata": {},
   "source": [
    "##  Madgraph\n",
    "\n",
    "We are using [MG5_aMC_v2_3_3](https://launchpad.net/mg5amcnlo/2.0/2.3.x/+download/MG5_aMC_v2.3.3.tar.gz).\n",
    "\n",
    "We follow here clossely the SARAH Manual: _Exploring new models in all detail with_ `SARAH`, [arxiv.org:1503.04200](https://arxiv.org/pdf/1503.04200.pdf), Sec. \"Dilepton analysis with MadGraph\", pag. 118, but adapted to our problem.\n",
    "\n",
    "The command to generate the UFO files is\n",
    "\n",
    " `MakeUFO []`\n",
    " \n",
    "Within the SARAH toolbox used here, this `Mathematica` command is automatically executed and the resulting code is copied into the proper `MadGraph` folder at `madgraph/models/BLSM`\n",
    "\n",
    "Here, we use an input file for MadGraph: `install_and_check.mdg`  which contains the following lines.\n",
    "(If all tests are passed hit `<ENTER>`)"
   ]
  },
  {
   "cell_type": "code",
   "execution_count": 28,
   "metadata": {
    "collapsed": false
   },
   "outputs": [
    {
     "name": "stdout",
     "output_type": "stream",
     "text": []
    }
   ],
   "source": [
    "cat << EOF > install_and_check.mdg #Creates the file with the folloing content before EOF\n",
    "install pythia-pgs\n",
    "# Check your root installation and install Delphes\n",
    "install Delphes\n",
    "# Check SARAH model\n",
    "import model BLSM -modelname\n",
    "# p is already defined if imported from\tMadGraph console\n",
    "define p g d1 d1bar d2 d2bar u1 u1bar u2 u2bar\n",
    "check p p > nu4 nu4\n",
    "EOF"
   ]
  },
  {
   "cell_type": "code",
   "execution_count": 30,
   "metadata": {
    "collapsed": false
   },
   "outputs": [
    {
     "name": "stdout",
     "output_type": "stream",
     "text": [
      "Gauge results (switching between Unitary/Feynman):\r\n",
      "Process          Unitary           Feynman           Relative diff.    Result\r\n",
      "Summary: 0/0 passed, 0/0 failed\r\n",
      "Process permutation results:\r\n",
      "Process            Min element       Max element       Relative diff.    Result\r\n",
      "g g > nu4 nu4      0.0000000000e+00  0.0000000000e+00  0.0000000000e+00  Passed\r\n",
      "d1 d1bar > nu4 nu4 0.0000000000e+00  0.0000000000e+00  0.0000000000e+00  Passed\r\n",
      "d1 d2bar > nu4 nu4 0.0000000000e+00  0.0000000000e+00  0.0000000000e+00  Passed\r\n",
      "d2 d1bar > nu4 nu4 0.0000000000e+00  0.0000000000e+00  0.0000000000e+00  Passed\r\n",
      "d2 d2bar > nu4 nu4 0.0000000000e+00  0.0000000000e+00  0.0000000000e+00  Passed\r\n",
      "u1 u1bar > nu4 nu4 0.0000000000e+00  0.0000000000e+00  0.0000000000e+00  Passed\r\n",
      "u1 u2bar > nu4 nu4 0.0000000000e+00  0.0000000000e+00  0.0000000000e+00  Passed\r\n",
      "u2 u1bar > nu4 nu4 0.0000000000e+00  0.0000000000e+00  0.0000000000e+00  Passed\r\n",
      "u2 u2bar > nu4 nu4 0.0000000000e+00  0.0000000000e+00  0.0000000000e+00  Passed\r\n",
      "Summary: 9/9 passed, 0/9 failed\r\n",
      "quit\r\n",
      " \r\n",
      "\r\n",
      " \r\n",
      "\r\n"
     ]
    }
   ],
   "source": [
    "cd ../madgraph  \n",
    "./bin/mg5_aMC ../test_compilation/install_and_check.mdg 2>/dev/null | tail -n20\n",
    "cd ../test_compilation"
   ]
  },
  {
   "cell_type": "markdown",
   "metadata": {},
   "source": [
    "Now we can generate some processes. We just check that the lightest righ handed neutrino does no couple with the photon.\n",
    "The possible VBF processes is in a commented line."
   ]
  },
  {
   "cell_type": "code",
   "execution_count": 41,
   "metadata": {
    "collapsed": false
   },
   "outputs": [
    {
     "name": "stdout",
     "output_type": "stream",
     "text": [
      "save configuration file to /home/restrepo/prog/toolbox/toolbox/test_compilation/MadOut/Cards/me5_configuration.txt\r\n",
      "INFO: Use Fortran compiler gfortran \r\n",
      "INFO: Generate jpeg diagrams \r\n",
      "INFO: Generate web pages \r\n",
      "Output to directory /home/restrepo/prog/toolbox/toolbox/test_compilation/MadOut done.\r\n",
      "Type \"launch\" to generate events from this process, or see\r\n",
      "/home/restrepo/prog/toolbox/toolbox/test_compilation/MadOut/README\r\n",
      "Run \"open index.html\" to see more information about this process.\r\n",
      "exit\r\n",
      " \r\n",
      "quit\r\n",
      " \r\n",
      "\r\n",
      " \r\n",
      "\r\n"
     ]
    }
   ],
   "source": [
    "cat << EOF > VBF.mdg #Creates the file with the folloing content before EOF \n",
    "#See: http://www.niu.edu/spmartin/madgraph/madsyntax.html\n",
    "import model BLSM -modelname\n",
    "#p is already defined if imported from\tMadGraph console\n",
    "define p g d1 d1bar d2 d2bar u1 u1bar u2 u2bar\n",
    "define j g d1 d1bar d2 d2bar u1 u1bar u2 u2bar   \n",
    "#generate p p > nu4 nu4 j j \\$\\$ z zp wm wmc h1 h2 a QED=99 QCD=99 @1\n",
    "##Only VBF Zp\n",
    "#generate p p > nu4 nu4 j j \\$\\$ z zp wm wmc h1 h2 a / z wm wmc h1 h2 a nu5 nu6  QED=99 QCD=99 @1\n",
    "##Only drell Yann Zp\n",
    "#generate p p > e1 e1bar \\$\\$ z zp wm wmc h1 h2 a / z wm wmc h1 h2 a  QED=99 QCD=99 @1\n",
    "generate p p > nu4 nu4 j j \\$\\$ z zp wm wmc h1 h2 a QED=99 QCD=99 @1\n",
    "#Just check that right-handed neutrino does no couples to foton:\n",
    "generate p p > nu4 nu4 \\$\\$ z zp wm wmc h1 h2 QED=99 QCD=99 @1\n",
    "output ../test_compilation/MadOut\n",
    "exit\n",
    "EOF\n",
    "../madgraph/bin/mg5_aMC VBF.mdg  2> /dev/null | tail -n15"
   ]
  },
  {
   "cell_type": "markdown",
   "metadata": {
    "collapsed": false
   },
   "source": [
    "In the first of line `VBF.mdg`, we import the model in `MadGraph`. The option `-modelname` is used to keep the names of the particles as given in the model files. By default, `MadGraph` will try to use the default naming conventions. However, this would fail for this model. We define a multi-particle called `p` which consists of gluon and all the light quarks. If we import the model direcly from the `MadGraph` console, `p` is definded automatically from the new model name particles.\n",
    "\n",
    "The `n4` is the lightest right handed neutrino. Thus, in the third line we generate the process $p p \\to N_R\\;N_R\\;j\\;j$ in mediated by the phothon which must be rise to a zero cross section. The output for MadEvent is written to a new subdirectory `test_compilation/MadOut`  and we close `MadGraph` when it is done via exit. \n",
    "\n",
    "After MadGraph has created the output for MadEvent and finished, we can enter the new subdirectory `test_compilation/MadOut`. The important settings to generate events are done via the files in the Cards-directory: the file `param_card.dat` is used to give the input for all parameters, `run_card.dat` controls the event generations. In the last file, the user can for instance set the beam type and energy, define the renormalization scale, apply cuts, and fix the number of events. We want to use, of course, the spectrum file as written by SPheno. \n",
    "\n",
    "When we have the spectrum file in the correct form, we can copy this file to the Cards directory as\n",
    "`param_card.dat`."
   ]
  },
  {
   "cell_type": "code",
   "execution_count": 39,
   "metadata": {
    "collapsed": false
   },
   "outputs": [
    {
     "name": "stdout",
     "output_type": "stream",
     "text": []
    }
   ],
   "source": [
    "cp SPheno.spc.$MODEL MadOut/Cards/param_card.dat "
   ]
  },
  {
   "cell_type": "markdown",
   "metadata": {},
   "source": [
    "Changes in any of the input parameters, require to update the `SPheno` output and overwrite the `MadOut/Cards/param_card.dat` file"
   ]
  },
  {
   "cell_type": "code",
   "execution_count": 42,
   "metadata": {
    "collapsed": false
   },
   "outputs": [
    {
     "name": "stdout",
     "output_type": "stream",
     "text": [
      "************************************************************\r\n",
      "*                                                          *\r\n",
      "*                     W E L C O M E to                     *\r\n",
      "*              M A D G R A P H 5 _ a M C @ N L O           *\r\n",
      "*                                                          *\r\n",
      "*                                                          *\r\n",
      "*                 *                       *                *\r\n",
      "*                   *        * *        *                  *\r\n",
      "*                     * * * * 5 * * * *                    *\r\n",
      "*                   *        * *        *                  *\r\n",
      "*                 *                       *                *\r\n",
      "*                                                          *\r\n",
      "*         VERSION 2.3.3                 2015-10-25         *\r\n",
      "*                                                          *\r\n",
      "*    The MadGraph5_aMC@NLO Development Team - Find us at   *\r\n",
      "*    https://server06.fynu.ucl.ac.be/projects/madgraph     *\r\n",
      "*                            and                           *\r\n",
      "*            http://amcatnlo.web.cern.ch/amcatnlo/         *\r\n",
      "*                                                          *\r\n",
      "*               Type 'help' for in-line help.              *\r\n",
      "*           Type 'tutorial' to learn how MG5 works         *\r\n",
      "*    Type 'tutorial aMCatNLO' to learn how aMC@NLO works   *\r\n",
      "*    Type 'tutorial MadLoop' to learn how MadLoop works    *\r\n",
      "*                                                          *\r\n",
      "************************************************************\r\n",
      "load MG5 configuration from ../madgraph/input/mg5_configuration.txt \r\n",
      "fastjet-config does not seem to correspond to a valid fastjet-config executable (v3+). We will use fjcore instead.\r\n",
      " Please set the 'fastjet'variable to the full (absolute) /PATH/TO/fastjet-config (including fastjet-config).\r\n",
      " MG5_aMC> set fastjet /PATH/TO/fastjet-config\r\n",
      "\r\n",
      "set lhapdf to lhapdf-config\r\n",
      "Using default text editor \"vi\". Set another one in ./input/mg5_configuration.txt\r\n",
      "Using default eps viewer \"evince\". Set another one in ./input/mg5_configuration.txt\r\n",
      "Using default web browser \"firefox\". Set another one in ./input/mg5_configuration.txt\r\n",
      "import /home/restrepo/prog/toolbox/toolbox/test_compilation/launch.mdg\r\n",
      "The import format was not given, so we guess it as command\r\n",
      "launch MadOut\r\n",
      "************************************************************\r\n",
      "*                                                          *\r\n",
      "*                      W E L C O M E to                    *\r\n",
      "*             M A D G R A P H 5 _ a M C @ N L O            *\r\n",
      "*                      M A D E V E N T                     *\r\n",
      "*                                                          *\r\n",
      "*                 *                       *                *\r\n",
      "*                   *        * *        *                  *\r\n",
      "*                     * * * * 5 * * * *                    *\r\n",
      "*                   *        * *        *                  *\r\n",
      "*                 *                       *                *\r\n",
      "*                                                          *\r\n",
      "*         VERSION 2.3.3                 2015-10-25         *\r\n",
      "*                                                          *\r\n",
      "*    The MadGraph5_aMC@NLO Development Team - Find us at   *\r\n",
      "*    https://server06.fynu.ucl.ac.be/projects/madgraph     *\r\n",
      "*                                                          *\r\n",
      "*               Type 'help' for in-line help.              *\r\n",
      "*                                                          *\r\n",
      "************************************************************\r\n",
      "INFO: load configuration from /home/restrepo/prog/toolbox/toolbox/test_compilation/MadOut/Cards/me5_configuration.txt  \r\n",
      "INFO: load configuration from /home/restrepo/prog/toolbox/toolbox/madgraph/input/mg5_configuration.txt  \r\n",
      "INFO: load configuration from /home/restrepo/prog/toolbox/toolbox/test_compilation/MadOut/Cards/me5_configuration.txt  \r\n",
      "Using default text editor \"vi\". Set another one in ./input/mg5_configuration.txt\r\n",
      "generate_events run_01\r\n",
      "Generating 10000 events with run name run_01\r\n",
      "survey  run_01 \r\n",
      "INFO: compile directory \r\n",
      "compile Source Directory\r\n",
      "\r\n",
      "(process:26136): GLib-CRITICAL **: g_slice_set_config: assertion 'sys_page_size == 0' failed\r\n",
      "Using random number seed offset = 21\r\n",
      "INFO: Running Survey \r\n",
      "Creating Jobs\r\n",
      "Working on SubProcesses\r\n",
      "INFO:     P1_d1d1bar_nu4nu4  \r\n",
      "console.error: \r\n",
      "  [CustomizableUI]\r\n",
      "  Custom widget with id loop-button does not return a valid node\r\n",
      "console.error: \r\n",
      "  [CustomizableUI]\r\n",
      "  Custom widget with id loop-button does not return a valid node\r\n",
      "INFO:     P1_d2d2bar_nu4nu4  \r\n",
      "INFO:     P1_u1u1bar_nu4nu4  \r\n",
      "ERROR console.error: web_clipper: \r\n",
      "  Unsupported OS\r\n",
      "  Linux\r\n",
      "ERROR console.error: web_clipper: \r\n",
      "  Cannot load native lib\r\n",
      "ERROR console.error: web_clipper: \r\n",
      "  Unsupported OS\r\n",
      "WARNING WARNING INFO:     P1_u2u2bar_nu4nu4  \r\n",
      "INFO:  Idle: 1,  Running: 3,  Completed: 0 [ current time: 14h40 ] \r\n",
      "INFO:  Idle: 0,  Running: 3,  Completed: 1 [  13.3s  ] \r\n",
      "INFO:  Idle: 0,  Running: 1,  Completed: 3 [  17.3s  ] \r\n",
      "INFO:  Idle: 0,  Running: 0,  Completed: 4 [  18.7s  ] \r\n",
      "INFO: End survey \r\n",
      "refine 10000\r\n",
      "Creating Jobs\r\n",
      "INFO: Refine results to 10000 \r\n",
      "INFO: Generating 10000.0 unweigthed events. \r\n",
      "INFO: Effective Luminosity 1.2e+103 pb^-1 \r\n",
      "INFO: need to improve 0 channels \r\n",
      "\u001b[1;31mSurvey return zero cross section. \r\n",
      "   Typical reasons are the following:\r\n",
      "   1) A massive s-channel particle has a width set to zero.\r\n",
      "   2) The pdf are zero for at least one of the initial state particles\r\n",
      "      or you are using maxjetflavor=4 for initial state b:s.\r\n",
      "   3) The cuts are too strong.\r\n",
      "   Please check/correct your param_card and/or your run_card.\u001b[0m\r\n",
      "\u001b[1;34mZero result detected: See https://cp3.irmp.ucl.ac.be/projects/madgraph/wiki/FAQ-General-14\u001b[0m\r\n",
      "INFO:  \r\n",
      " \r\n",
      "INFO:  \r\n",
      " \r\n",
      "quit\r\n",
      "INFO:  \r\n",
      " \r\n",
      "INFO:  \r\n",
      " \r\n",
      "more information in /home/restrepo/prog/toolbox/toolbox/test_compilation/MadOut/index.html\r\n",
      "quit\r\n",
      " \r\n",
      "\r\n",
      " \r\n",
      "\r\n"
     ]
    }
   ],
   "source": [
    "cat << EOF > launch.mdg\n",
    "launch MadOut \n",
    "0\n",
    "0\n",
    "EOF\n",
    "../madgraph/bin/mg5_aMC launch.mdg"
   ]
  },
  {
   "cell_type": "markdown",
   "metadata": {
    "collapsed": true
   },
   "source": [
    "## Go now to: \n",
    "* [main ipyrhon file](./tests/BLSM.ipynb) → $B-L$ extended standard model"
   ]
  },
  {
   "cell_type": "code",
   "execution_count": null,
   "metadata": {
    "collapsed": true
   },
   "outputs": [],
   "source": []
  }
 ],
 "metadata": {
  "kernelspec": {
   "display_name": "Bash",
   "language": "bash",
   "name": "bash"
  },
  "language_info": {
   "codemirror_mode": "shell",
   "file_extension": ".sh",
   "mimetype": "text/x-sh",
   "name": "bash"
  }
 },
 "nbformat": 4,
 "nbformat_minor": 0
}
