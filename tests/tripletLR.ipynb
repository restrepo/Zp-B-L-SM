{
 "cells": [
  {
   "cell_type": "markdown",
   "metadata": {},
   "source": [
    "#  Scotogenic Singlet Dark Matter"
   ]
  },
  {
   "cell_type": "markdown",
   "metadata": {},
   "source": [
    "(Re)compile everything"
   ]
  },
  {
   "cell_type": "code",
   "execution_count": null,
   "metadata": {
    "collapsed": true
   },
   "outputs": [],
   "source": [
    "%%bash\n",
    "cd ..\n",
    "./compile_spheno_directly.sh DMLR > /dev/null \n",
    "cd micromegas\n",
    "make >/dev/null 2>/dev/null && make >/dev/null 2>/dev/null\n",
    "cd DMLR\n",
    "make main=CalcOmega.cpp >/dev/null"
   ]
  },
  {
   "cell_type": "code",
   "execution_count": 1,
   "metadata": {
    "collapsed": false
   },
   "outputs": [
    {
     "name": "stdout",
     "output_type": "stream",
     "text": [
      "Populating the interactive namespace from numpy and matplotlib\n"
     ]
    }
   ],
   "source": [
    "%pylab inline"
   ]
  },
  {
   "cell_type": "code",
   "execution_count": 2,
   "metadata": {
    "collapsed": false
   },
   "outputs": [],
   "source": [
    "import pandas as pd\n",
    "import numpy as np\n",
    "import os, sys, inspect\n",
    "import commands\n",
    "from hep import *"
   ]
  },
  {
   "cell_type": "markdown",
   "metadata": {},
   "source": [
    "\n",
    "## Check point with IDM official"
   ]
  },
  {
   "cell_type": "code",
   "execution_count": 3,
   "metadata": {
    "collapsed": true
   },
   "outputs": [],
   "source": [
    "a=hep(MODEL='DMLR')\n",
    "devnull=commands.getoutput('rm -f SPheno.spc.%s' %a.MODEL)"
   ]
  },
  {
   "cell_type": "code",
   "execution_count": 4,
   "metadata": {
    "collapsed": false
   },
   "outputs": [
    {
     "data": {
      "text/plain": [
       "OrderedDict([('MODSEL',\n",
       "              MODSEL { 1 : 1              #  1/0: High/low scale input ; 2 : 1              # Boundary Condition  ; 6 : 1              # Generation Mixing  }),\n",
       "             ('SMINPUTS',\n",
       "              SMINPUTS { 2 : 1.166370E-05   # G_F,Fermi constant ; 3 : 1.187000E-01   # alpha_s(MZ) SM MSbar ; 4 : 9.118870E+01   # Z-boson pole mass ; 5 : 4.180000E+00   # m_b(mb) SM MSbar ; 6 : 1.735000E+02   # m_top(pole) ; 7 : 1.776690E+00   # m_tau(pole)  }),\n",
       "             ('MINPAR',\n",
       "              MINPAR { 1 : 4.0000000E+03  # vRinput; 2 : 1.0000000E+01  # TanBeta; 3 : 1.0000000E-01  # lam1INPUT; 4 : 0.000000E+00   # lam2INPUT; 5 : 3.0000000E-01  # lam3INPUT; 6 : -1.5000000E-01 # lam4INPUT; 7 : 2.0000000E-04  # rho1INPUT; 8 : 5.0000000E-03  # rho2INPUT; 9 : 0.000000E+00   # alp1INPUT; 10 : 0.000000E+00   # alp2INPUT; 11 : -5.0000000E-03 # alp3INPUT; 13 : 1.0000000E+03  # M23INPUT }),\n",
       "             ('SPHENOINPUT',\n",
       "              SPHENOINPUT { 1 : -1             # error level ; 2 : 0              # SPA conventions ; 11 : 1              # calculate branching ratios ; 13 : 1               # 3-Body decays: none (0), fermion (1), scalar (2), both (3); 14 : 0              # Run couplings to scale of decaying particle ; 12 : 1.000E-15       # write only branching ratios larger than this value; 15 : 1.000E-40       # write only decay if width larger than this value; 31 : -1             # fixed GUT scale (-1: dynamical GUT scale) ; 32 : 0              # Strict unification ; 34 : 1.000E-04      # Precision of mass calculation ; 35 : 40             # Maximal number of iterations; 36 : 5              # Minimal number of iterations before discarding points; 37 : 1              # Set Yukawa scheme  ; 38 : 2              # 1- or 2-Loop RGEs ; 50 : 0               # Majorana phases: use only positive masses; 51 : 0              # Write Output in CKM basis ; 52 : 1               # Write spectrum in case of tachyonic states; 55 : 0              # Calculate loop corrected masses ; 61 : 0              # Running SM parameters; 57 : 1              # Calculate low energy constraints ; 65 : 1              # Solution tadpole equation ; 75 : 1              # Write WHIZARD files ; 76 : 1              # Write HiggsBounds file   ; 86 : 0.             # Maximal width to be counted as invisible in Higgs decays; -1: only LSP ; 510 : 0.             # Write tree level values for tadpole solutions ; 515 : 0              # Write parameter values at GUT scale ; 520 : 1.             # Write effective Higgs couplings (HiggsBounds blocks): put 0 to use file with MadGraph! ; 521 : 1.             # Diphoton/Digluon widths including higher order ; 525 : 0.             # Write loop contributions to diphoton decay of Higgs ; 530 : 1.             # Write Blocks for Vevacious  }),\n",
       "             ('YDRIN',\n",
       "              YDRIN { 1,1 : 0.000000E+00   # YDR(1,1); 1,2 : 0.000000E+00   # YDR(1,2); 1,3 : 0.000000E+00   # YDR(1,3); 2,1 : 0.000000E+00   # YDR(2,1); 2,2 : 0.000000E+00   # YDR(2,2); 2,3 : 0.000000E+00   # YDR(2,3); 3,1 : 0.000000E+00   # YDR(3,1); 3,2 : 0.000000E+00   # YDR(3,2); 3,3 : 0.000000E+00   # YDR(3,3) }),\n",
       "             ('YL1IN',\n",
       "              YL1IN { 1,1 : 0.000000E+00   # YL1(1,1); 1,2 : 0.000000E+00   # YL1(1,2); 1,3 : 0.000000E+00   # YL1(1,3); 2,1 : 0.000000E+00   # YL1(2,1); 2,2 : 0.000000E+00   # YL1(2,2); 2,3 : 0.000000E+00   # YL1(2,3); 3,1 : 0.000000E+00   # YL1(3,1); 3,2 : 0.000000E+00   # YL1(3,2); 3,3 : 0.000000E+00   # YL1(3,3) }),\n",
       "             ('YL2IN',\n",
       "              YL2IN { 1,1 : 0.000000E+00   # YL2(1,1); 1,2 : 0.000000E+00   # YL2(1,2); 1,3 : 0.000000E+00   # YL2(1,3); 2,1 : 0.000000E+00   # YL2(2,1); 2,2 : 0.000000E+00   # YL2(2,2); 2,3 : 0.000000E+00   # YL2(2,3); 3,1 : 0.000000E+00   # YL2(3,1); 3,2 : 0.000000E+00   # YL2(3,2); 3,3 : 0.000000E+00   # YL2(3,3) })])"
      ]
     },
     "execution_count": 4,
     "metadata": {},
     "output_type": "execute_result"
    }
   ],
   "source": [
    "a.LHA.blocks"
   ]
  },
  {
   "cell_type": "markdown",
   "metadata": {},
   "source": [
    "Check `a.config` for proper configurations."
   ]
  },
  {
   "cell_type": "code",
   "execution_count": 6,
   "metadata": {
    "collapsed": false
   },
   "outputs": [
    {
     "name": "stdout",
     "output_type": "stream",
     "text": [
      "====micrOMEGAS SARAH: ======\n",
      "Xf=3.26e+01 Omega h^2=1.82e-03\n",
      "\n",
      "# Channels which contribute to 1/(omega) more than 1%.\n",
      "# Relative contributions in % are displayed\n",
      "   11% ~cp ~Cpp ->d1 U1 \n",
      "   11% ~cp ~Cpp ->d2 U2 \n",
      "   11% ~cp ~Cpp ->d3 U3 \n",
      "    6% ~cp ~c01 ->D1 u1 \n",
      "    6% ~cp ~c02 ->D1 u1 \n",
      "    6% ~cp ~c01 ->D2 u2 \n",
      "    6% ~cp ~c02 ->D2 u2 \n"
     ]
    }
   ],
   "source": [
    "#h,U,Mnuin,phases=a.to_yukawas() #test Mnuin/0.9628#/0.968\n",
    "spc=a.runSPheno()\n",
    "mo=commands.getoutput(\"../micromegas/DMLR/CalcOmega LesHouches.in.Scotogenic | grep -A10 'Omega h^2'\")\n",
    "print \"====micrOMEGAS SARAH: ======\"\n",
    "print mo"
   ]
  },
  {
   "cell_type": "code",
   "execution_count": 7,
   "metadata": {
    "collapsed": false,
    "scrolled": true
   },
   "outputs": [],
   "source": [
    "def xtoipt(x,lha,param={'block_name':'MNIN','block_key':(1,1)}):\n",
    "    '''obtain LHA output from varible input'''\n",
    "    block=param['block_name'];bkey=param['block_key']\n",
    "    comment=lha.blocks[block][bkey].split('#')\n",
    "    if len(comment)>1:\n",
    "        comment=comment[1]\n",
    "        lha.blocks[block][bkey]='%0.8E       # %s' %(x,comment)\n",
    "        \n",
    "    return lha"
   ]
  },
  {
   "cell_type": "code",
   "execution_count": 8,
   "metadata": {
    "collapsed": false
   },
   "outputs": [],
   "source": [
    "a=hep(MODEL='DMLR')\n",
    "for bl in ['YDRIN','YL1IN','YL1IN']:\n",
    "    for key in [(1,1),(2,2),(3,3)]:\n",
    "        a.LHA.blocks[bl][key]='%.8E       # %s%s' %(0,bl.replace('IN',''),key)"
   ]
  },
  {
   "cell_type": "code",
   "execution_count": null,
   "metadata": {
    "collapsed": false
   },
   "outputs": [
    {
     "name": "stdout",
     "output_type": "stream",
     "text": [
      "10\n",
      "20"
     ]
    }
   ],
   "source": [
    "df=a.run_micromegas(xtoipt,param={'block_name':'MINPAR','block_key':13},var_min=100,var_max=20000,npoints=200,CI=False)"
   ]
  },
  {
   "cell_type": "code",
   "execution_count": 24,
   "metadata": {
    "collapsed": false
   },
   "outputs": [
    {
     "data": {
      "text/plain": [
       "0    0.00375\n",
       "Name: Omega_h2, dtype: float64"
      ]
     },
     "execution_count": 24,
     "metadata": {},
     "output_type": "execute_result"
    }
   ],
   "source": [
    "df.Omega_h2[:1]"
   ]
  },
  {
   "cell_type": "code",
   "execution_count": null,
   "metadata": {
    "collapsed": false
   },
   "outputs": [],
   "source": [
    "plt.loglog(df.M23INPUT,df.Omega_h2)\n",
    "plt.xlabel('$M_{23}$ (GeV)',size=20)\n",
    "plt.ylabel('$\\Omega h^2$',size=20)\n",
    "plt.xlim(100,10000)\n",
    "plt.ylim(1E-4,10)\n",
    "plt.savefig('out.png')"
   ]
  },
  {
   "cell_type": "code",
   "execution_count": 38,
   "metadata": {
    "collapsed": true
   },
   "outputs": [],
   "source": [
    "if 1==1:\n",
    "    if 1==1:\n",
    "        a.LHA_out."
   ]
  },
  {
   "cell_type": "code",
   "execution_count": 40,
   "metadata": {
    "collapsed": false
   },
   "outputs": [
    {
     "data": {
      "text/plain": [
       "OrderedDict([('SPINFO', SPINFO { 1 : SPhenoSARAH; 2 : v3.3.8; 9 : 4.8.1 }),\n",
       "             ('MODSEL', MODSEL { 1 : 1; 2 : 1; 6 : 1 }),\n",
       "             ('MINPAR',\n",
       "              MINPAR { 1 :  4e+03; 2 :  10; 3 :  0.1; 4 :  0; 5 :  0.3; 6 : -0.15; 7 :  0.0002; 8 :  0.005; 9 :  0; 10 :  0; 11 : -0.005; 13 :  2e+04 }),\n",
       "             ('GAUGEGUT',\n",
       "              GAUGEGUT (Q=-1.0) { 1 :  0; 2 :  0; 3 :  0; 4 :  0 }),\n",
       "             ('SMINPUTS',\n",
       "              SMINPUTS { 2 :  1.17e-05; 3 :  0.119; 4 :  91.2; 5 :  4.18; 6 :  174; 7 :  1.78 }),\n",
       "             ('GAUGE',\n",
       "              GAUGE (Q=160.0) { 4 :  0.422; 2 :  0.663; 5 :  0.663; 3 :  1.22 }),\n",
       "             ('LRINPUT',\n",
       "              LRINPUT (Q=160.0) { 9 :  0.005; 7 :  0.0002; 14 :  0; 1 :  0.1; 20 : -0.005; 16 :  0; 5 : -0.15; 2 :  0; 4 :  0.3; 201 :  2e+04; 103 :  3.05e+03; 98 : -8.37e+03; 100 : -3.25e+04 }),\n",
       "             ('VEV', VEV (Q=160.0) { 4 :  4e+03; 1 :  24.5; 2 :  245 }),\n",
       "             ('PHASET', PHASET (Q=160.0) { 1 :  1 }),\n",
       "             ('THETAW', THETAW (Q=160.0) { 1 :  0.493 }),\n",
       "             ('PHIW', PHIW (Q=160.0) { 1 :  0.000375 }),\n",
       "             ('TREELRINPUT',\n",
       "              TREELRINPUT (Q=160.0) { 103 :  3.05e+03; 98 : -8.16e+03; 100 : -3.28e+04 }),\n",
       "             ('LOOPLRINPUT',\n",
       "              LOOPLRINPUT (Q=160.0) { 103 :  1.24e+06; 98 : -8.65e+03; 100 :  1.51e+05 }),\n",
       "             ('YDR',\n",
       "              YDR (Q=160.0) { 1,1 :  0; 1,2 :  0; 1,3 :  0; 2,1 :  0; 2,2 :  0; 2,3 :  0; 3,1 :  0; 3,2 :  0; 3,3 :  0 }),\n",
       "             ('YL1',\n",
       "              YL1 (Q=160.0) { 1,1 :  0; 1,2 :  0; 1,3 :  0; 2,1 :  0; 2,2 :  0; 2,3 :  0; 3,1 :  0; 3,2 :  0; 3,3 :  0 }),\n",
       "             ('YQ1',\n",
       "              YQ1 (Q=160.0) { 1,1 :  2.77e-05; 1,2 :  0; 1,3 :  0; 2,1 :  0; 2,2 : -0.000187; 2,3 :  0; 3,1 :  0; 3,2 :  0; 3,3 : -0.0768 }),\n",
       "             ('YL2',\n",
       "              YL2 (Q=160.0) { 1,1 :  0; 1,2 :  0; 1,3 :  0; 2,1 :  0; 2,2 :  0; 2,3 :  0; 3,1 :  0; 3,2 :  0; 3,3 :  0 }),\n",
       "             ('YQ2',\n",
       "              YQ2 (Q=160.0) { 1,1 :  1.17e-05; 1,2 : -0; 1,3 : -0; 2,1 : -0; 2,2 :  0.00735; 2,3 : -0; 3,1 : -0; 3,2 : -0; 3,3 :  1.01 }),\n",
       "             ('MASS',\n",
       "              MASS { 25 :  59; 35 :  119; 335 :  292; 36 :  278; 37 :  202; 9000055 :  400; 23 :  91.2; 32 :  3.14e+03; 24 :  80.3; 34 :  1.88e+03; 1 :  0.005; 3 :  0.095; 5 :  4.18; 2 :  0.0025; 4 :  1.27; 6 :  174; 11 :  0.000511; 13 :  0.106; 15 :  1.78; 12 : -1.28e-10; 14 : -1.28e-10; 16 : -1.28e-10; 6000012 : -1.28e-10; 6000014 : -1.28e-10; 6000016 : -1.28e-10; 6000055 :  2e+04; 17 :  2e+04; 9000012 : -2e+04; 9000014 :  2e+04 }),\n",
       "             ('SCALARMIX',\n",
       "              SCALARMIX (Q=160.0) { 1,1 : -0.126; 1,2 :  0.508; 1,3 :  0.852; 2,1 :  0.235; 2,2 : -0.819; 2,3 :  0.523; 3,1 :  0.964; 3,2 :  0.266; 3,3 : -0.0165 }),\n",
       "             ('AMIX',\n",
       "              AMIX (Q=160.0) { 1,1 :  0.0995; 1,2 : -0.995; 1,3 : -0.0219; 2,1 :  0.00218; 2,2 : -0.0218; 2,3 :  1; 3,1 :  0.995; 3,2 :  0.0995; 3,3 :  0 }),\n",
       "             ('CHMIX',\n",
       "              CHMIX (Q=160.0) { 1,1 : -0.0991; 1,2 :  0.995; 1,3 :  0.00862; 2,1 :  0.0433; 2,2 : -0.00434; 2,3 :  0.999; 3,1 :  0.994; 3,2 :  0.0994; 3,3 : -0.0426 }),\n",
       "             ('UDLMIX',\n",
       "              UDLMIX (Q=160.0) { 1,1 :  1; 1,2 :  0; 1,3 :  0; 2,1 :  0; 2,2 :  1; 2,3 :  0; 3,1 :  0; 3,2 :  0; 3,3 :  1 }),\n",
       "             ('UDRMIX',\n",
       "              UDRMIX (Q=160.0) { 1,1 :  1; 1,2 :  0; 1,3 :  0; 2,1 :  0; 2,2 :  1; 2,3 :  0; 3,1 :  0; 3,2 :  0; 3,3 :  1 }),\n",
       "             ('UULMIX',\n",
       "              UULMIX (Q=160.0) { 1,1 :  1; 1,2 :  0; 1,3 :  0; 2,1 :  0; 2,2 :  1; 2,3 :  0; 3,1 :  0; 3,2 :  0; 3,3 :  1 }),\n",
       "             ('UURMIX',\n",
       "              UURMIX (Q=160.0) { 1,1 :  1; 1,2 :  0; 1,3 :  0; 2,1 :  0; 2,2 :  1; 2,3 :  0; 3,1 :  0; 3,2 :  0; 3,3 :  1 }),\n",
       "             ('UELMIX',\n",
       "              UELMIX (Q=160.0) { 1,1 :  1; 1,2 :  0; 1,3 :  0; 2,1 :  0; 2,2 :  1; 2,3 :  0; 3,1 :  0; 3,2 :  0; 3,3 :  1 }),\n",
       "             ('UERMIX',\n",
       "              UERMIX (Q=160.0) { 1,1 :  1; 1,2 :  0; 1,3 :  0; 2,1 :  0; 2,2 :  1; 2,3 :  0; 3,1 :  0; 3,2 :  0; 3,3 :  1 }),\n",
       "             ('UVMIX',\n",
       "              UVMIX (Q=160.0) { 1,1 :  1; 1,2 : -0; 1,3 : -0; 1,4 : -0; 1,5 : -0; 1,6 : -0; 2,1 : -0; 2,2 :  1; 2,3 : -0; 2,4 : -0; 2,5 : -0; 2,6 : -0; 3,1 : -0; 3,2 : -0; 3,3 :  1; 3,4 : -0; 3,5 : -0; 3,6 : -0; 4,1 : -0; 4,2 : -0; 4,3 : -0; 4,4 :  1; 4,5 : -0; 4,6 : -0; 5,1 : -0; 5,2 : -0; 5,3 : -0; 5,4 : -0; 5,5 :  1; 5,6 : -0; 6,1 : -0; 6,2 : -0; 6,3 : -0; 6,4 : -0; 6,5 : -0; 6,6 :  1 }),\n",
       "             ('UTMIX',\n",
       "              UTMIX (Q=160.0) { 1,1 :  0.707; 1,2 : -0.707; 2,1 :  0.707; 2,2 :  0.707 }),\n",
       "             ('ZZMIX',\n",
       "              ZZMIX (Q=160.0) { 1,1 :  0.744; 1,2 : -0.399; 1,3 : -0.536; 2,1 :  0.473; 2,2 :  0.881; 2,3 : -0.000569; 3,1 :  0.473; 3,2 : -0.253; 3,3 :  0.844 }),\n",
       "             ('SPHENO',\n",
       "              SPHENO { 1 : -1; 2 :  0; 11 :  1; 13 :  1; 31 : -1; 33 :  160; 34 :  0.0001; 35 :  40; 38 :  2; 40 :  0.0073; 41 :  2.5; 42 :  2.06; 50 :  0; 51 :  0; 52 :  1; 53 :  0; 55 :  0; 56 :  1; 57 :  1; 60 :  1; 65 :  1 }),\n",
       "             ('HIGGSLHC7',\n",
       "              HIGGSLHC7 { 1,25 :  283; 2,25 :  0.593; 3,25 :  0.988; 4,25 :  0.568; 5,25 :  0.154; 1,35 :  51.5; 2,35 :  0.805; 3,35 :  0.412; 4,35 :  0.234; 5,35 :  0.0729; 1,335 :  0.602; 2,335 :  0.0411; 5,335 :  5.99e-05; 1,36 :  0.225 }),\n",
       "             ('HIGGSLHC8',\n",
       "              HIGGSLHC8 { 1,25 :  358; 2,25 :  0.739; 3,25 :  1.48; 4,25 :  0.775; 5,25 :  0.226; 1,35 :  65.3; 2,35 :  1.03; 3,35 :  0.519; 4,35 :  0.292; 5,35 :  0.11; 1,335 :  0.831; 2,335 :  0.0577; 4,335 :  0.00966; 5,335 :  0.000714; 1,36 :  0.309 }),\n",
       "             ('HIGGSLHC13',\n",
       "              HIGGSLHC13 { 1,25 :  788; 1,35 :  151; 1,335 :  2.09; 1,36 :  0.782 }),\n",
       "             ('HIGGSLHC14',\n",
       "              HIGGSLHC14 { 1,25 :  871; 1,35 :  170; 1,335 :  2.42; 1,36 :  0.903 }),\n",
       "             ('HIGGSFCC100',\n",
       "              HIGGSFCC100 { 1,25 :  8.77e+03; 1,35 :  2.44e+03; 1,335 :  60.3; 1,36 :  21.6 }),\n",
       "             ('HIGGSBOUNDSINPUTHIGGSCOUPLINGSFERMIONS',\n",
       "              HIGGSBOUNDSINPUTHIGGSCOUPLINGSFERMIONS {  :  0, 0,3,36,13,13 }),\n",
       "             ('HIGGSBOUNDSINPUTHIGGSCOUPLINGSBOSONS',\n",
       "              HIGGSBOUNDSINPUTHIGGSCOUPLINGSBOSONS {  :  0,3,36,36,23 }),\n",
       "             ('EFFHIGGSCOUPLINGS',\n",
       "              EFFHIGGSCOUPLINGS { 25,22,22 :  1.21e-05; 25,21,21 :  0.00015; 25,22,23 :  0; 35,22,22 :  2.04e-05; 35,21,21 :  0.000116; 35,22,23 :  0; 335,22,22 :  1.16e-05; 335,21,21 :  3.26e-05; 335,22,23 :  0; 36,22,22 :  1.62e-06; 36,21,21 :  3.21e-05; 36,22,23 :  0 }),\n",
       "             ('SPHENOLOWENERGY',\n",
       "              SPHENOLOWENERGY { 20 :  0; 21 :  0; 22 :  0; 23 :  0; 24 :  0; 25 :  0; 39 :  0.00742 }),\n",
       "             ('FLAVORKITQFV',\n",
       "              FLAVORKITQFV { 200 :  0.000315; 201 :  1; 300 :  0; 301 :  0; 400 :  0; 401 :  0; 402 :  0; 403 :  0; 500 :  0; 501 :  0; 502 :  0; 503 :  0; 600 :  0; 601 :  0; 602 :  0; 603 :  0; 1900 :  18.1; 1901 :  1; 1902 :  0.405; 1903 :  1; 4000 :  0; 4001 :  0; 4002 :  0; 4003 :  0; 4004 :  0; 4005 :  0; 4006 :  0; 4007 :  0; 4008 :  0; 4009 :  0; 4010 :  0; 4011 :  0; 5000 :  0; 5001 :  0; 5002 :  0; 5003 :  0; 6000 :  1.11e-07; 6001 :  1; 7000 :  0; 7001 :  0; 7002 :  0; 7003 :  0; 8000 :  2.09e-11; 8001 :  1; 8002 :  0; 8003 :  0; 9100 :  2.12e-15; 9102 :  1; 9103 :  0.0033; 9104 :  1 }),\n",
       "             ('FLAVORKITLFV',\n",
       "              FLAVORKITLFV { 701 :  0; 702 :  0; 703 :  0; 800 :  0; 801 :  0; 802 :  0; 803 :  0; 804 :  0; 805 :  0; 901 :  0; 902 :  0; 903 :  0; 904 :  0; 905 :  0; 906 :  0; 907 :  0; 1001 :  0; 1002 :  0; 1003 :  0; 1101 :  0; 1102 :  0; 1103 :  0; 2001 :  0; 2002 :  0; 2003 :  0; 2004 :  0; 2005 :  0; 2006 :  0 }),\n",
       "             ('FWCOEF',\n",
       "              FWCOEF (Q=160.0) { 30,4422,0,0 : -0; 30,4422,0,2 : -0; 30,4322,0,2 : -0; 30,4422,0,1 :  0; 30,4322,0,1 : -0; 30,6421,0,0 : -0; 30,6421,0,2 : -0; 30,6321,0,2 : -0; 30,6421,0,1 :  0; 30,6321,0,1 : -0; 305111,4133,0,0 :  0; 305111,4133,0,2 :  0; 305111,4233,0,2 :  0; 305111,4133,0,1 :  0; 305111,4233,0,1 :  0; 305111,4137,0,0 :  0; 305111,4137,0,2 :  0; 305111,4237,0,2 :  0; 305111,4137,0,1 :  0; 305111,4237,0,1 :  0; 305131,4133,0,0 :  0; 305131,4133,0,2 :  0; 305131,4233,0,2 :  0; 305131,4133,0,1 :  0; 305131,4233,0,1 :  0; 305131,4137,0,0 :  0; 305131,4137,0,2 :  0; 305131,4237,0,2 :  0; 305131,4137,0,1 :  0; 305131,4237,0,1 :  0; 305121,4141,0,0 :  0; 305121,4141,0,2 :  0; 305121,4241,0,2 :  0; 305121,4141,0,1 :  0; 305121,4241,0,1 :  0; 305141,4141,0,0 :  0; 305141,4141,0,2 :  0; 305141,4241,0,2 :  0; 305141,4141,0,1 :  0; 305141,4241,0,1 :  0; 305161,4141,0,0 :  0; 305161,4141,0,2 :  0; 305161,4241,0,2 :  0; 305161,4141,0,1 :  0; 305161,4241,0,1 :  0; 305121,4142,0,0 :  0; 305121,4142,0,2 :  0; 305121,4242,0,2 :  0; 305121,4142,0,1 :  0; 305121,4242,0,1 :  0; 305141,4142,0,0 :  0; 305141,4142,0,2 :  0; 305141,4242,0,2 :  0; 305141,4142,0,1 :  0; 305141,4242,0,1 :  0; 305161,4142,0,0 :  0; 305161,4142,0,2 :  0; 305161,4242,0,2 :  0; 305161,4142,0,1 :  0; 305161,4242,0,1 :  0 }),\n",
       "             ('IMFWCOEF',\n",
       "              IMFWCOEF (Q=160.0) { 30,4422,0,0 : -0; 30,4422,0,2 : -0; 30,4322,0,2 : -0; 30,4422,0,1 :  0; 30,4322,0,1 : -0; 30,6421,0,0 : -0; 30,6421,0,2 : -0; 30,6321,0,2 : -0; 30,6421,0,1 :  0; 30,6321,0,1 : -0; 305111,4133,0,0 :  0; 305111,4133,0,2 :  0; 305111,4233,0,2 :  0; 305111,4133,0,1 :  0; 305111,4233,0,1 :  0; 305111,4137,0,0 :  0; 305111,4137,0,2 :  0; 305111,4237,0,2 :  0; 305111,4137,0,1 :  0; 305111,4237,0,1 :  0; 305131,4133,0,0 :  0; 305131,4133,0,2 :  0; 305131,4233,0,2 :  0; 305131,4133,0,1 :  0; 305131,4233,0,1 :  0; 305131,4137,0,0 :  0; 305131,4137,0,2 :  0; 305131,4237,0,2 :  0; 305131,4137,0,1 :  0; 305131,4237,0,1 :  0; 305121,4141,0,0 :  0; 305121,4141,0,2 :  0; 305121,4241,0,2 :  0; 305121,4141,0,1 :  0; 305121,4241,0,1 :  0; 305141,4141,0,0 :  0; 305141,4141,0,2 :  0; 305141,4241,0,2 :  0; 305141,4141,0,1 :  0; 305141,4241,0,1 :  0; 305161,4141,0,0 :  0; 305161,4141,0,2 :  0; 305161,4241,0,2 :  0; 305161,4141,0,1 :  0; 305161,4241,0,1 :  0; 305121,4142,0,0 :  0; 305121,4142,0,2 :  0; 305121,4242,0,2 :  0; 305121,4142,0,1 :  0; 305121,4242,0,1 :  0; 305141,4142,0,0 :  0; 305141,4142,0,2 :  0; 305141,4242,0,2 :  0; 305141,4142,0,1 :  0; 305141,4242,0,1 :  0; 305161,4142,0,0 :  0; 305161,4142,0,2 :  0; 305161,4242,0,2 :  0; 305161,4142,0,1 :  0; 305161,4242,0,1 :  0 })])"
      ]
     },
     "execution_count": 40,
     "metadata": {},
     "output_type": "execute_result"
    }
   ],
   "source": [
    "a.LHA_out.blocks"
   ]
  },
  {
   "cell_type": "code",
   "execution_count": 45,
   "metadata": {
    "collapsed": false
   },
   "outputs": [],
   "source": [
    "import copy\n",
    "b=copy.deepcopy(a.LHA)"
   ]
  },
  {
   "cell_type": "code",
   "execution_count": 46,
   "metadata": {
    "collapsed": true
   },
   "outputs": [],
   "source": [
    "b.blocks['MASS']=a.LHA_out.blocks['MASS']"
   ]
  },
  {
   "cell_type": "code",
   "execution_count": 48,
   "metadata": {
    "collapsed": false
   },
   "outputs": [
    {
     "data": {
      "text/plain": [
       "58.9569252"
      ]
     },
     "execution_count": 48,
     "metadata": {},
     "output_type": "execute_result"
    }
   ],
   "source": [
    "b.blocks['MASS'][25]"
   ]
  },
  {
   "cell_type": "code",
   "execution_count": 52,
   "metadata": {
    "collapsed": false
   },
   "outputs": [],
   "source": [
    "aa=a.pdg"
   ]
  },
  {
   "cell_type": "code",
   "execution_count": 55,
   "metadata": {
    "collapsed": false
   },
   "outputs": [
    {
     "data": {
      "text/plain": [
       "'H0'"
      ]
     },
     "execution_count": 55,
     "metadata": {},
     "output_type": "execute_result"
    }
   ],
   "source": [
    "aa.pdgid_to_name(25)"
   ]
  },
  {
   "cell_type": "code",
   "execution_count": null,
   "metadata": {
    "collapsed": true
   },
   "outputs": [],
   "source": []
  }
 ],
 "metadata": {
  "kernelspec": {
   "display_name": "Python 2",
   "language": "python",
   "name": "python2"
  },
  "language_info": {
   "codemirror_mode": {
    "name": "ipython",
    "version": 2
   },
   "file_extension": ".py",
   "mimetype": "text/x-python",
   "name": "python",
   "nbconvert_exporter": "python",
   "pygments_lexer": "ipython2",
   "version": "2.7.9"
  }
 },
 "nbformat": 4,
 "nbformat_minor": 0
}
