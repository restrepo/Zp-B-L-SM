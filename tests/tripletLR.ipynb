{
 "cells": [
  {
   "cell_type": "markdown",
   "metadata": {},
   "source": [
    "#  Scotogenic Singlet Dark Matter"
   ]
  },
  {
   "cell_type": "markdown",
   "metadata": {},
   "source": [
    "(Re)compile everything according instructions in [../index.ipynb](../index.ipynb)"
   ]
  },
  {
   "cell_type": "code",
   "execution_count": 1,
   "metadata": {
    "collapsed": false
   },
   "outputs": [
    {
     "name": "stderr",
     "output_type": "stream",
     "text": [
      "/home/main/anaconda2/lib/python2.7/site-packages/matplotlib/font_manager.py:273: UserWarning: Matplotlib is building the font cache using fc-list. This may take a moment.\n",
      "  warnings.warn('Matplotlib is building the font cache using fc-list. This may take a moment.')\n"
     ]
    },
    {
     "name": "stdout",
     "output_type": "stream",
     "text": [
      "Populating the interactive namespace from numpy and matplotlib\n"
     ]
    }
   ],
   "source": [
    "%pylab inline"
   ]
  },
  {
   "cell_type": "code",
   "execution_count": 2,
   "metadata": {
    "collapsed": false
   },
   "outputs": [
    {
     "ename": "ImportError",
     "evalue": "No module named pyslha",
     "output_type": "error",
     "traceback": [
      "\u001b[1;31m---------------------------------------------------------------------------\u001b[0m",
      "\u001b[1;31mImportError\u001b[0m                               Traceback (most recent call last)",
      "\u001b[1;32m<ipython-input-2-776fb50bd250>\u001b[0m in \u001b[0;36m<module>\u001b[1;34m()\u001b[0m\n\u001b[0;32m      3\u001b[0m \u001b[1;32mimport\u001b[0m \u001b[0mos\u001b[0m\u001b[1;33m,\u001b[0m \u001b[0msys\u001b[0m\u001b[1;33m,\u001b[0m \u001b[0minspect\u001b[0m\u001b[1;33m\u001b[0m\u001b[0m\n\u001b[0;32m      4\u001b[0m \u001b[1;32mimport\u001b[0m \u001b[0mcommands\u001b[0m\u001b[1;33m\u001b[0m\u001b[0m\n\u001b[1;32m----> 5\u001b[1;33m \u001b[1;32mfrom\u001b[0m \u001b[0mhep\u001b[0m \u001b[1;32mimport\u001b[0m \u001b[1;33m*\u001b[0m\u001b[1;33m\u001b[0m\u001b[0m\n\u001b[0m",
      "\u001b[1;32m/home/main/notebooks/tests/hep.py\u001b[0m in \u001b[0;36m<module>\u001b[1;34m()\u001b[0m\n\u001b[1;32m----> 1\u001b[1;33m \u001b[1;32mimport\u001b[0m \u001b[0mpyslha\u001b[0m \u001b[1;31m#pip install pyslha --upgrade\u001b[0m\u001b[1;33m\u001b[0m\u001b[0m\n\u001b[0m\u001b[0;32m      2\u001b[0m \u001b[1;32mimport\u001b[0m \u001b[0mnumpy\u001b[0m \u001b[1;32mas\u001b[0m \u001b[0mnp\u001b[0m\u001b[1;33m\u001b[0m\u001b[0m\n\u001b[0;32m      3\u001b[0m \u001b[1;32mimport\u001b[0m \u001b[0mcommands\u001b[0m\u001b[1;33m\u001b[0m\u001b[0m\n\u001b[0;32m      4\u001b[0m \u001b[1;32mimport\u001b[0m \u001b[0mos\u001b[0m\u001b[1;33m\u001b[0m\u001b[0m\n\u001b[0;32m      5\u001b[0m \u001b[1;32mimport\u001b[0m \u001b[0mre\u001b[0m\u001b[1;33m\u001b[0m\u001b[0m\n",
      "\u001b[1;31mImportError\u001b[0m: No module named pyslha"
     ]
    }
   ],
   "source": [
    "import pandas as pd\n",
    "import numpy as np\n",
    "import os, sys, inspect\n",
    "import commands\n",
    "from hep import *"
   ]
  },
  {
   "cell_type": "markdown",
   "metadata": {},
   "source": [
    "\n",
    "## Check point with IDM official"
   ]
  },
  {
   "cell_type": "markdown",
   "metadata": {},
   "source": [
    "M23: DM mass\n",
    "vR: ZR mass\n"
   ]
  },
  {
   "cell_type": "code",
   "execution_count": 8,
   "metadata": {
    "collapsed": true
   },
   "outputs": [],
   "source": [
    "a=hep(MODEL='DMLR')\n",
    "devnull=commands.getoutput('rm -f SPheno.spc.%s' %a.MODEL)"
   ]
  },
  {
   "cell_type": "code",
   "execution_count": 9,
   "metadata": {
    "collapsed": false
   },
   "outputs": [
    {
     "data": {
      "text/plain": [
       "OrderedDict([('MODSEL',\n",
       "              MODSEL { 1 : 1              #  1/0: High/low scale input ; 2 : 1              # Boundary Condition  ; 6 : 1              # Generation Mixing  }),\n",
       "             ('SMINPUTS',\n",
       "              SMINPUTS { 2 : 1.166370E-05   # G_F,Fermi constant ; 3 : 1.187000E-01   # alpha_s(MZ) SM MSbar ; 4 : 9.118870E+01   # Z-boson pole mass ; 5 : 4.180000E+00   # m_b(mb) SM MSbar ; 6 : 1.735000E+02   # m_top(pole) ; 7 : 1.776690E+00   # m_tau(pole)  }),\n",
       "             ('MINPAR',\n",
       "              MINPAR { 1 : 4.0000000E+03  # vRinput; 2 : 1.0000000E+01  # TanBeta; 3 : 1.0000000E-01  # lam1INPUT; 4 : 0.000000E+00   # lam2INPUT; 5 : 3.0000000E-01  # lam3INPUT; 6 : -1.5000000E-01 # lam4INPUT; 7 : 2.0000000E-04  # rho1INPUT; 8 : 5.0000000E-03  # rho2INPUT; 9 : 0.000000E+00   # alp1INPUT; 10 : 0.000000E+00   # alp2INPUT; 11 : -5.0000000E-03 # alp3INPUT; 13 : 1.0000000E+03  # M23INPUT }),\n",
       "             ('SPHENOINPUT',\n",
       "              SPHENOINPUT { 1 : -1             # error level ; 2 : 0              # SPA conventions ; 11 : 1              # calculate branching ratios ; 13 : 1               # 3-Body decays: none (0), fermion (1), scalar (2), both (3); 14 : 0              # Run couplings to scale of decaying particle ; 12 : 1.000E-15       # write only branching ratios larger than this value; 15 : 1.000E-40       # write only decay if width larger than this value; 31 : -1             # fixed GUT scale (-1: dynamical GUT scale) ; 32 : 0              # Strict unification ; 34 : 1.000E-04      # Precision of mass calculation ; 35 : 40             # Maximal number of iterations; 36 : 5              # Minimal number of iterations before discarding points; 37 : 1              # Set Yukawa scheme  ; 38 : 2              # 1- or 2-Loop RGEs ; 50 : 0               # Majorana phases: use only positive masses; 51 : 0              # Write Output in CKM basis ; 52 : 1               # Write spectrum in case of tachyonic states; 55 : 0              # Calculate loop corrected masses ; 61 : 0              # Running SM parameters; 57 : 1              # Calculate low energy constraints ; 65 : 1              # Solution tadpole equation ; 75 : 1              # Write WHIZARD files ; 76 : 1              # Write HiggsBounds file   ; 86 : 0.             # Maximal width to be counted as invisible in Higgs decays; -1: only LSP ; 510 : 0.             # Write tree level values for tadpole solutions ; 515 : 0              # Write parameter values at GUT scale ; 520 : 1.             # Write effective Higgs couplings (HiggsBounds blocks): put 0 to use file with MadGraph! ; 521 : 1.             # Diphoton/Digluon widths including higher order ; 525 : 0.             # Write loop contributions to diphoton decay of Higgs ; 530 : 1.             # Write Blocks for Vevacious  }),\n",
       "             ('YDRIN',\n",
       "              YDRIN { 1,1 : 0.000000E+00   # YDR(1,1); 1,2 : 0.000000E+00   # YDR(1,2); 1,3 : 0.000000E+00   # YDR(1,3); 2,1 : 0.000000E+00   # YDR(2,1); 2,2 : 0.000000E+00   # YDR(2,2); 2,3 : 0.000000E+00   # YDR(2,3); 3,1 : 0.000000E+00   # YDR(3,1); 3,2 : 0.000000E+00   # YDR(3,2); 3,3 : 0.000000E+00   # YDR(3,3) }),\n",
       "             ('YL1IN',\n",
       "              YL1IN { 1,1 : 0.000000E+00   # YL1(1,1); 1,2 : 0.000000E+00   # YL1(1,2); 1,3 : 0.000000E+00   # YL1(1,3); 2,1 : 0.000000E+00   # YL1(2,1); 2,2 : 0.000000E+00   # YL1(2,2); 2,3 : 0.000000E+00   # YL1(2,3); 3,1 : 0.000000E+00   # YL1(3,1); 3,2 : 0.000000E+00   # YL1(3,2); 3,3 : 0.000000E+00   # YL1(3,3) }),\n",
       "             ('YL2IN',\n",
       "              YL2IN { 1,1 : 0.000000E+00   # YL2(1,1); 1,2 : 0.000000E+00   # YL2(1,2); 1,3 : 0.000000E+00   # YL2(1,3); 2,1 : 0.000000E+00   # YL2(2,1); 2,2 : 0.000000E+00   # YL2(2,2); 2,3 : 0.000000E+00   # YL2(2,3); 3,1 : 0.000000E+00   # YL2(3,1); 3,2 : 0.000000E+00   # YL2(3,2); 3,3 : 0.000000E+00   # YL2(3,3) })])"
      ]
     },
     "execution_count": 9,
     "metadata": {},
     "output_type": "execute_result"
    }
   ],
   "source": [
    "a.LHA.blocks"
   ]
  },
  {
   "cell_type": "markdown",
   "metadata": {},
   "source": [
    "Check `a.config` for proper configurations."
   ]
  },
  {
   "cell_type": "code",
   "execution_count": 6,
   "metadata": {
    "collapsed": false
   },
   "outputs": [
    {
     "name": "stdout",
     "output_type": "stream",
     "text": [
      "====micrOMEGAS SARAH: ======\n",
      "Xf=3.26e+01 Omega h^2=1.82e-03\n",
      "\n",
      "# Channels which contribute to 1/(omega) more than 1%.\n",
      "# Relative contributions in % are displayed\n",
      "   11% ~cp ~Cpp ->d1 U1 \n",
      "   11% ~cp ~Cpp ->d2 U2 \n",
      "   11% ~cp ~Cpp ->d3 U3 \n",
      "    6% ~cp ~c01 ->D1 u1 \n",
      "    6% ~cp ~c02 ->D1 u1 \n",
      "    6% ~cp ~c01 ->D2 u2 \n",
      "    6% ~cp ~c02 ->D2 u2 \n"
     ]
    }
   ],
   "source": [
    "#h,U,Mnuin,phases=a.to_yukawas() #test Mnuin/0.9628#/0.968\n",
    "spc=a.runSPheno()\n",
    "mo=commands.getoutput(\"../micromegas/DMLR/CalcOmega LesHouches.in.Scotogenic | grep -A10 'Omega h^2'\")\n",
    "print \"====micrOMEGAS SARAH: ======\"\n",
    "print mo"
   ]
  },
  {
   "cell_type": "code",
   "execution_count": 7,
   "metadata": {
    "collapsed": false,
    "scrolled": true
   },
   "outputs": [],
   "source": [
    "def xtoipt(x,lha,param={'block_name':'MNIN','block_key':(1,1)}):\n",
    "    '''obtain LHA output from varible input'''\n",
    "    block=param['block_name'];bkey=param['block_key']\n",
    "    comment=lha.blocks[block][bkey].split('#')\n",
    "    if len(comment)>1:\n",
    "        comment=comment[1]\n",
    "        lha.blocks[block][bkey]='%0.8E       # %s' %(x,comment)\n",
    "        \n",
    "    return lha"
   ]
  },
  {
   "cell_type": "code",
   "execution_count": 8,
   "metadata": {
    "collapsed": false
   },
   "outputs": [],
   "source": [
    "a=hep(MODEL='DMLR')\n",
    "for bl in ['YDRIN','YL1IN','YL1IN']:\n",
    "    for key in [(1,1),(2,2),(3,3)]:\n",
    "        a.LHA.blocks[bl][key]='%.8E       # %s%s' %(0,bl.replace('IN',''),key)"
   ]
  },
  {
   "cell_type": "code",
   "execution_count": 10,
   "metadata": {
    "collapsed": false
   },
   "outputs": [
    {
     "name": "stdout",
     "output_type": "stream",
     "text": [
      "10\n",
      "20\n",
      "30\n",
      "40\n",
      "50\n",
      "60\n",
      "70\n",
      "80\n",
      "90\n",
      "100\n",
      "110\n",
      "120\n",
      "130\n",
      "140\n",
      "150\n",
      "160\n",
      "170\n",
      "180\n",
      "190\n",
      "200\n"
     ]
    }
   ],
   "source": [
    "df=a.run_micromegas(xtoipt,param={'block_name':'MINPAR','block_key':13},var_min=100,var_max=20000,npoints=200,CI=False)"
   ]
  },
  {
   "cell_type": "code",
   "execution_count": 24,
   "metadata": {
    "collapsed": false
   },
   "outputs": [
    {
     "data": {
      "text/plain": [
       "0    0.00375\n",
       "Name: Omega_h2, dtype: float64"
      ]
     },
     "execution_count": 24,
     "metadata": {},
     "output_type": "execute_result"
    }
   ],
   "source": [
    "df.Omega_h2[:1]"
   ]
  },
  {
   "cell_type": "code",
   "execution_count": 12,
   "metadata": {
    "collapsed": false
   },
   "outputs": [
    {
     "data": {
      "image/png": "[encoded data removed]",
      "text/plain": [
       "<matplotlib.figure.Figure at 0x7f7ad5d72d10>"
      ]
     },
     "metadata": {},
     "output_type": "display_data"
    }
   ],
   "source": [
    "plt.loglog(df.M23INPUT,df.Omega_h2)\n",
    "plt.xlabel('$M_{23}$ (GeV)',size=20)\n",
    "plt.ylabel('$\\Omega h^2$',size=20)\n",
    "plt.xlim(100,10000)\n",
    "plt.ylim(1E-4,10)\n",
    "plt.savefig('out.png')"
   ]
  },
  {
   "cell_type": "code",
   "execution_count": 1,
   "metadata": {
    "collapsed": false
   },
   "outputs": [],
   "source": [
    "from hep import *"
   ]
  },
  {
   "cell_type": "code",
   "execution_count": 2,
   "metadata": {
    "collapsed": false
   },
   "outputs": [
    {
     "ename": "NameError",
     "evalue": "name 'a' is not defined",
     "output_type": "error",
     "traceback": [
      "\u001b[1;31m---------------------------------------------------------------------------\u001b[0m",
      "\u001b[1;31mNameError\u001b[0m                                 Traceback (most recent call last)",
      "\u001b[1;32m<ipython-input-2-b1c90d41af88>\u001b[0m in \u001b[0;36m<module>\u001b[1;34m()\u001b[0m\n\u001b[0;32m      1\u001b[0m \u001b[0mb\u001b[0m\u001b[1;33m=\u001b[0m\u001b[0mpyslha\u001b[0m\u001b[1;33m.\u001b[0m\u001b[0minit_LHA\u001b[0m\u001b[1;33m(\u001b[0m\u001b[1;34m'MASS'\u001b[0m\u001b[1;33m)\u001b[0m\u001b[1;33m\u001b[0m\u001b[0m\n\u001b[0;32m      2\u001b[0m \u001b[0msm\u001b[0m\u001b[1;33m=\u001b[0m\u001b[0mrange\u001b[0m\u001b[1;33m(\u001b[0m\u001b[1;36m1\u001b[0m\u001b[1;33m,\u001b[0m\u001b[1;36m7\u001b[0m\u001b[1;33m)\u001b[0m\u001b[1;33m+\u001b[0m\u001b[0mrange\u001b[0m\u001b[1;33m(\u001b[0m\u001b[1;36m11\u001b[0m\u001b[1;33m,\u001b[0m\u001b[1;36m17\u001b[0m\u001b[1;33m,\u001b[0m\u001b[1;36m2\u001b[0m\u001b[1;33m)\u001b[0m\u001b[1;33m+\u001b[0m\u001b[1;33m[\u001b[0m\u001b[1;36m23\u001b[0m\u001b[1;33m,\u001b[0m\u001b[1;36m24\u001b[0m\u001b[1;33m]\u001b[0m\u001b[1;33m\u001b[0m\u001b[0m\n\u001b[1;32m----> 3\u001b[1;33m \u001b[1;32mif\u001b[0m \u001b[1;32mnot\u001b[0m \u001b[0mhasattr\u001b[0m\u001b[1;33m(\u001b[0m\u001b[0ma\u001b[0m\u001b[1;33m,\u001b[0m\u001b[1;34m'LHA_out'\u001b[0m\u001b[1;33m)\u001b[0m\u001b[1;33m:\u001b[0m\u001b[1;33m\u001b[0m\u001b[0m\n\u001b[0m\u001b[0;32m      4\u001b[0m     \u001b[0mspc\u001b[0m\u001b[1;33m=\u001b[0m\u001b[0ma\u001b[0m\u001b[1;33m.\u001b[0m\u001b[0mrunSPheno\u001b[0m\u001b[1;33m(\u001b[0m\u001b[1;33m)\u001b[0m\u001b[1;33m\u001b[0m\u001b[0m\n\u001b[0;32m      5\u001b[0m \u001b[1;32mfor\u001b[0m \u001b[0mk\u001b[0m \u001b[1;32min\u001b[0m \u001b[0ma\u001b[0m\u001b[1;33m.\u001b[0m\u001b[0mLHA_out\u001b[0m\u001b[1;33m.\u001b[0m\u001b[0mblocks\u001b[0m\u001b[1;33m[\u001b[0m\u001b[1;34m'MASS'\u001b[0m\u001b[1;33m]\u001b[0m\u001b[1;33m.\u001b[0m\u001b[0mentries\u001b[0m\u001b[1;33m.\u001b[0m\u001b[0mkeys\u001b[0m\u001b[1;33m(\u001b[0m\u001b[1;33m)\u001b[0m\u001b[1;33m:\u001b[0m\u001b[1;33m\u001b[0m\u001b[0m\n",
      "\u001b[1;31mNameError\u001b[0m: name 'a' is not defined"
     ]
    }
   ],
   "source": [
    "b=pyslha.init_LHA('MASS')\n",
    "sm=range(1,7)+range(11,17,2)+[23,24]\n",
    "if not hasattr(a,'LHA_out'):\n",
    "    spc=a.runSPheno()\n",
    "for k in a.LHA_out.blocks['MASS'].entries.keys():\n",
    "    if k not in sm:\n",
    "        if a.pdg.pdgid_names.has_key(k):\n",
    "            b.blocks['MASS'].entries[k]='%.8E    # %s' %(a.LHA_out.blocks['MASS'].entries[k],a.pdg.pdgid_names[k] )   \n",
    "        else:\n",
    "            b.blocks['MASS'].entries[k]='%.8E    # prt_%d' %(a.LHA_out.blocks['MASS'].entries[k],k)   #"
   ]
  },
  {
   "cell_type": "code",
   "execution_count": 3,
   "metadata": {
    "collapsed": false
   },
   "outputs": [],
   "source": [
    "b=pyslha.init_LHA('MASS')\n",
    "b.blocks['Hola']=pyslha.init_LHA('Hola')"
   ]
  },
  {
   "cell_type": "code",
   "execution_count": 15,
   "metadata": {
    "collapsed": false
   },
   "outputs": [],
   "source": [
    "pyslha.init_LHA\n"
   ]
  },
  {
   "cell_type": "code",
   "execution_count": 16,
   "metadata": {
    "collapsed": false
   },
   "outputs": [
    {
     "data": {
      "text/plain": [
       "['A']"
      ]
     },
     "execution_count": 16,
     "metadata": {},
     "output_type": "execute_result"
    }
   ],
   "source": [
    "blocks"
   ]
  },
  {
   "cell_type": "code",
   "execution_count": 6,
   "metadata": {
    "collapsed": false
   },
   "outputs": [
    {
     "data": {
      "text/plain": [
       "MASS { 25 : 5.89569252E+01    # H0; 35 : 1.18606587E+02    # Higgs_prime0; 335 : 2.92176682E+02    # f_prime_2; 36 : 2.77817966E+02    # A0; 37 : 2.02193870E+02    # Higgs_plus; 9000055 : 4.00185657E+02    # prt_9000055; 32 : 3.14309761E+03    # Z_prime0; 34 : 1.87668736E+03    # W_prime_plus; 12 : -1.27640984E-10    # NUE; 14 : -1.27640984E-10    # NUM; 16 : -1.27640984E-10    # NUT; 6000012 : -1.27640984E-10    # prt_6000012; 6000014 : -1.27640984E-10    # prt_6000014; 6000016 : -1.27640984E-10    # prt_6000016; 6000055 : 1.00000000E+03    # prt_6000055; 17 : 1.00000000E+03    # L_minus; 9000012 : -1.00000000E+03    # prt_9000012; 9000014 : 1.00000000E+03    # prt_9000014 }"
      ]
     },
     "execution_count": 6,
     "metadata": {},
     "output_type": "execute_result"
    }
   ],
   "source": [
    "\n",
    "b.blocks['MASS']"
   ]
  },
  {
   "cell_type": "code",
   "execution_count": 34,
   "metadata": {
    "collapsed": false
   },
   "outputs": [
    {
     "name": "stdout",
     "output_type": "stream",
     "text": [
      "Block MASS  # Mass spectrum\r\n",
      "#   PDG code      mass          particle\r\n",
      "        25     5.89569252E+01  # hh_1\r\n",
      "        35     1.18606587E+02  # hh_2\r\n",
      "       335     2.92176682E+02  # hh_3\r\n",
      "        36     2.77817966E+02  # Ah_3\r\n",
      "        37     2.02193870E+02  # Hpm_3\r\n",
      "   9000055     4.00185657E+02  # deltaRpp\r\n",
      "        23     9.11887000E+01  # VZ\r\n",
      "        32     3.14309761E+03  # VZR\r\n",
      "        24     8.03497269E+01  # VWLm\r\n",
      "        34     1.87668736E+03  # VWRm\r\n",
      "         1     5.00000000E-03  # Fd_1\r\n",
      "         3     9.50000000E-02  # Fd_2\r\n",
      "         5     4.18000000E+00  # Fd_3\r\n",
      "         2     2.50000000E-03  # Fu_1\r\n",
      "         4     1.27000000E+00  # Fu_2\r\n",
      "         6     1.73500000E+02  # Fu_3\r\n",
      "        11     5.10998930E-04  # Fe_1\r\n",
      "        13     1.05658372E-01  # Fe_2\r\n",
      "        15     1.77669000E+00  # Fe_3\r\n",
      "        12    -1.27640984E-10  # Fv_1\r\n",
      "        14    -1.27640984E-10  # Fv_2\r\n",
      "        16    -1.27640984E-10  # Fv_3\r\n",
      "   6000012    -1.27640984E-10  # Fv_4\r\n",
      "   6000014    -1.27640984E-10  # Fv_5\r\n",
      "   6000016    -1.27640984E-10  # Fv_6\r\n",
      "   6000055     2.00000000E+04  # Fcpp\r\n",
      "        17     2.00000000E+04  # Fcp\r\n",
      "   9000012    -2.00000000E+04  # Fc_1\r\n",
      "   9000014     2.00000000E+04  # Fc_2\r\n",
      "Block SCALARMIX Q=  1.60000000E+02  # ()\r\n",
      "  1  1    -1.25655902E-01   # ZH(1,1)\r\n",
      "  1  2     5.08383386E-01   # ZH(1,2)\r\n",
      "  1  3     8.51913685E-01   # ZH(1,3)\r\n",
      "  2  1     2.34896406E-01   # ZH(2,1)\r\n",
      "  2  2    -8.19056040E-01   # ZH(2,2)\r\n",
      "  2  3     5.23422279E-01   # ZH(2,3)\r\n",
      "  3  1     9.63864240E-01   # ZH(3,1)\r\n",
      "  3  2     2.65882561E-01   # ZH(3,2)\r\n",
      "  3  3    -1.64982044E-02   # ZH(3,3)\r\n"
     ]
    }
   ],
   "source": [
    "cat SPheno.spc.DMLR | grep -A40 -i 'block mass'"
   ]
  },
  {
   "cell_type": "code",
   "execution_count": 36,
   "metadata": {
    "collapsed": false
   },
   "outputs": [
    {
     "data": {
      "text/plain": [
       "2"
      ]
     },
     "execution_count": 36,
     "metadata": {},
     "output_type": "execute_result"
    }
   ],
   "source": [
    "1+1"
   ]
  },
  {
   "cell_type": "code",
   "execution_count": 11,
   "metadata": {
    "collapsed": false
   },
   "outputs": [
    {
     "name": "stdout",
     "output_type": "stream",
     "text": [
      "====micrOMEGAS SARAH: ======\n",
      "PROCESS: ~cp,~cp->AllEven,1*x{Hmm,Hpp,hh1,hh2,hh3,Ah3,Hm3,Hp3,g,A,Z,Zp,WLm,WLp,WRm,WRp,d1,D1,d2,D2,d3,D3,u1,U1,u2,U2,u3,U3,e1,E1,e2,E2,e3,E3,nu1,nu2,nu3,nu4,nu5,nu6\n",
      "PROCESS: ~cp,~Cp->AllEven,1*x{Hmm,Hpp,hh1,hh2,hh3,Ah3,Hm3,Hp3,g,A,Z,Zp,WLm,WLp,WRm,WRp,d1,D1,d2,D2,d3,D3,u1,U1,u2,U2,u3,U3,e1,E1,e2,E2,e3,E3,nu1,nu2,nu3,nu4,nu5,nu6\n",
      "PROCESS: ~cp,~cpp->AllEven,1*x{Hmm,Hpp,hh1,hh2,hh3,Ah3,Hm3,Hp3,g,A,Z,Zp,WLm,WLp,WRm,WRp,d1,D1,d2,D2,d3,D3,u1,U1,u2,U2,u3,U3,e1,E1,e2,E2,e3,E3,nu1,nu2,nu3,nu4,nu5,nu6\n",
      "Processes of this type are absent\n",
      "PROCESS: ~cp,~Cpp->AllEven,1*x{Hmm,Hpp,hh1,hh2,hh3,Ah3,Hm3,Hp3,g,A,Z,Zp,WLm,WLp,WRm,WRp,d1,D1,d2,D2,d3,D3,u1,U1,u2,U2,u3,U3,e1,E1,e2,E2,e3,E3,nu1,nu2,nu3,nu4,nu5,nu6\n",
      "PROCESS: ~cp,~c01->AllEven,1*x{Hmm,Hpp,hh1,hh2,hh3,Ah3,Hm3,Hp3,g,A,Z,Zp,WLm,WLp,WRm,WRp,d1,D1,d2,D2,d3,D3,u1,U1,u2,U2,u3,U3,e1,E1,e2,E2,e3,E3,nu1,nu2,nu3,nu4,nu5,nu6\n",
      "PROCESS: ~cp,~c02->AllEven,1*x{Hmm,Hpp,hh1,hh2,hh3,Ah3,Hm3,Hp3,g,A,Z,Zp,WLm,WLp,WRm,WRp,d1,D1,d2,D2,d3,D3,u1,U1,u2,U2,u3,U3,e1,E1,e2,E2,e3,E3,nu1,nu2,nu3,nu4,nu5,nu6\n",
      "PROCESS: ~cpp,~cpp->AllEven,1*x{Hmm,Hpp,hh1,hh2,hh3,Ah3,Hm3,Hp3,g,A,Z,Zp,WLm,WLp,WRm,WRp,d1,D1,d2,D2,d3,D3,u1,U1,u2,U2,u3,U3,e1,E1,e2,E2,e3,E3,nu1,nu2,nu3,nu4,nu5,nu6\n",
      "Processes of this type are absent\n",
      "PROCESS: ~cpp,~Cpp->AllEven,1*x{Hmm,Hpp,hh1,hh2,hh3,Ah3,Hm3,Hp3,g,A,Z,Zp,WLm,WLp,WRm,WRp,d1,D1,d2,D2,d3,D3,u1,U1,u2,U2,u3,U3,e1,E1,e2,E2,e3,E3,nu1,nu2,nu3,nu4,nu5,nu6\n",
      "PROCESS: ~cpp,~c01->AllEven,1*x{Hmm,Hpp,hh1,hh2,hh3,Ah3,Hm3,Hp3,g,A,Z,Zp,WLm,WLp,WRm,WRp,d1,D1,d2,D2,d3,D3,u1,U1,u2,U2,u3,U3,e1,E1,e2,E2,e3,E3,nu1,nu2,nu3,nu4,nu5,nu6\n",
      "PROCESS: ~cpp,~c02->AllEven,1*x{Hmm,Hpp,hh1,hh2,hh3,Ah3,Hm3,Hp3,g,A,Z,Zp,WLm,WLp,WRm,WRp,d1,D1,d2,D2,d3,D3,u1,U1,u2,U2,u3,U3,e1,E1,e2,E2,e3,E3,nu1,nu2,nu3,nu4,nu5,nu6\n",
      "PROCESS: ~c01,~c01->AllEven,1*x{Hmm,Hpp,hh1,hh2,hh3,Ah3,Hm3,Hp3,g,A,Z,Zp,WLm,WLp,WRm,WRp,d1,D1,d2,D2,d3,D3,u1,U1,u2,U2,u3,U3,e1,E1,e2,E2,e3,E3,nu1,nu2,nu3,nu4,nu5,nu6\n",
      "PROCESS: ~c01,~c02->AllEven,1*x{Hmm,Hpp,hh1,hh2,hh3,Ah3,Hm3,Hp3,g,A,Z,Zp,WLm,WLp,WRm,WRp,d1,D1,d2,D2,d3,D3,u1,U1,u2,U2,u3,U3,e1,E1,e2,E2,e3,E3,nu1,nu2,nu3,nu4,nu5,nu6\n",
      "PROCESS: ~c02,~c02->AllEven,1*x{Hmm,Hpp,hh1,hh2,hh3,Ah3,Hm3,Hp3,g,A,Z,Zp,WLm,WLp,WRm,WRp,d1,D1,d2,D2,d3,D3,u1,U1,u2,U2,u3,U3,e1,E1,e2,E2,e3,E3,nu1,nu2,nu3,nu4,nu5,nu6\n",
      "PROCESS: QUARKS,~cp->QUARKS,~cp{d1,D1,d2,D2,d3,D3,u1,U1,u2,U2,u3,U3\n",
      "Delete diagrams with _S0_!=1,_V5_,A\n",
      "PROCESS: QUARKS,~cp->QUARKS,~cp{d1,D1,d2,D2,u1,U1\n",
      "Delete diagrams with _V5_!=1,_S0_,A\n",
      "\n",
      "Masses of odd sector Particles:\n",
      "~cp  : Mcp   =  1000.0 || ~cpp : Mcpp  =  1000.0 || ~c01 : Mc01  =  1000.0 \n",
      "~c02 : Mc02  =  1000.0 || \n",
      "Xf=3.27e+01 Omega h^2=1.82e-03\n",
      "\n",
      "# Channels which contribute to 1/(omega) more than 1%.\n",
      "# Relative contributions in % are displayed\n",
      "   11% ~cp ~Cpp ->d1 U1 \n",
      "   11% ~cp ~Cpp ->d2 U2 \n",
      "   11% ~cp ~Cpp ->d3 U3 \n",
      "    6% ~cp ~c01 ->D1 u1 \n",
      "    6% ~cp ~c02 ->D1 u1 \n",
      "    6% ~cp ~c01 ->D2 u2 \n",
      "    6% ~cp ~c02 ->D2 u2 \n",
      "    5% ~cp ~c01 ->D3 u3 \n",
      "    5% ~cp ~c02 ->D3 u3 \n",
      "    4% ~cp ~Cpp ->E1 nu4 \n",
      "    4% ~cp ~Cpp ->E2 nu5 \n",
      "    4% ~cp ~Cpp ->E3 nu6 \n",
      "    2% ~cp ~c01 ->e1 nu4 \n",
      "    2% ~cp ~c02 ->e1 nu4 \n",
      "    2% ~cp ~c01 ->e2 nu5 \n",
      "    2% ~cp ~c02 ->e2 nu5 \n",
      "    2% ~cp ~c01 ->e3 nu6 \n",
      "    2% ~cp ~c02 ->e3 nu6 \n",
      "    2% ~cp ~Cpp ->hh1 WRm \n",
      "\n",
      "==== Calculation of CDM-nucleons amplitudes  =====\n",
      "         TREE LEVEL\n",
      "CDM-nucleon micrOMEGAs amplitudes:\n",
      "proton:  SI  1.514E-07  SD  -1.271E-31\n",
      "neutron: SI  -1.858E-06  SD  3.484E-32\n",
      "         BOX DIAGRAMS\n",
      "CDM-nucleon micrOMEGAs amplitudes:\n",
      "proton:  SI  1.514E-07  SD  -1.271E-31\n",
      "neutron: SI  -1.858E-06  SD  3.484E-32\n",
      "CDM-nucleon cross sections[pb]:\n",
      " proton  SI 1.001E-05  SD 2.115E-53\n",
      " neutron SI 1.507E-03  SD 1.589E-54\n",
      "\n",
      "======== Direct Detection ========\n",
      "73Ge: Total number of events=2.21E+01 /day/kg\n",
      "Number of events in 10 - 50 KeV region=1.16E+01 /day/kg\n",
      "131Xe: Total number of events=3.84E+01 /day/kg\n",
      "Number of events in 10 - 50 KeV region=1.98E+01 /day/kg\n",
      "23Na: Total number of events=1.85E+00 /day/kg\n",
      "Number of events in 10 - 50 KeV region=9.84E-01 /day/kg\n",
      "I127: Total number of events=3.70E+01 /day/kg\n",
      "Number of events in 10 - 50 KeV region=1.94E+01 /day/kg\n"
     ]
    }
   ],
   "source": [
    "spc=a.runSPheno()\n",
    "mo=commands.getoutput(\"../micromegas/DMLR/CalcOmega_with_DDetection\")\n",
    "print \"====micrOMEGAS SARAH: ======\"\n",
    "print mo"
   ]
  },
  {
   "cell_type": "code",
   "execution_count": 13,
   "metadata": {
    "collapsed": false
   },
   "outputs": [
    {
     "data": {
      "text/plain": [
       "OrderedDict([('MODSEL',\n",
       "              MODSEL { 1 : 1              #  1/0: High/low scale input ; 2 : 1              # Boundary Condition  ; 6 : 1              # Generation Mixing  }),\n",
       "             ('SMINPUTS',\n",
       "              SMINPUTS { 2 : 1.166370E-05   # G_F,Fermi constant ; 3 : 1.187000E-01   # alpha_s(MZ) SM MSbar ; 4 : 9.118870E+01   # Z-boson pole mass ; 5 : 4.180000E+00   # m_b(mb) SM MSbar ; 6 : 1.735000E+02   # m_top(pole) ; 7 : 1.776690E+00   # m_tau(pole)  }),\n",
       "             ('MINPAR',\n",
       "              MINPAR { 1 : 4.0000000E+03  # vRinput; 2 : 1.0000000E+01  # TanBeta; 3 : 1.0000000E-01  # lam1INPUT; 4 : 0.000000E+00   # lam2INPUT; 5 : 3.0000000E-01  # lam3INPUT; 6 : -1.5000000E-01 # lam4INPUT; 7 : 2.0000000E-04  # rho1INPUT; 8 : 5.0000000E-03  # rho2INPUT; 9 : 0.000000E+00   # alp1INPUT; 10 : 0.000000E+00   # alp2INPUT; 11 : -5.0000000E-03 # alp3INPUT; 13 : 1.0000000E+03  # M23INPUT }),\n",
       "             ('SPHENOINPUT',\n",
       "              SPHENOINPUT { 1 : -1             # error level ; 2 : 0              # SPA conventions ; 11 : 1              # calculate branching ratios ; 13 : 1               # 3-Body decays: none (0), fermion (1), scalar (2), both (3); 14 : 0              # Run couplings to scale of decaying particle ; 12 : 1.000E-15       # write only branching ratios larger than this value; 15 : 1.000E-40       # write only decay if width larger than this value; 31 : -1             # fixed GUT scale (-1: dynamical GUT scale) ; 32 : 0              # Strict unification ; 34 : 1.000E-04      # Precision of mass calculation ; 35 : 40             # Maximal number of iterations; 36 : 5              # Minimal number of iterations before discarding points; 37 : 1              # Set Yukawa scheme  ; 38 : 2              # 1- or 2-Loop RGEs ; 50 : 0               # Majorana phases: use only positive masses; 51 : 0              # Write Output in CKM basis ; 52 : 1               # Write spectrum in case of tachyonic states; 55 : 0              # Calculate loop corrected masses ; 61 : 0              # Running SM parameters; 57 : 1              # Calculate low energy constraints ; 65 : 1              # Solution tadpole equation ; 75 : 1              # Write WHIZARD files ; 76 : 1              # Write HiggsBounds file   ; 86 : 0.             # Maximal width to be counted as invisible in Higgs decays; -1: only LSP ; 510 : 0.             # Write tree level values for tadpole solutions ; 515 : 0              # Write parameter values at GUT scale ; 520 : 1.             # Write effective Higgs couplings (HiggsBounds blocks): put 0 to use file with MadGraph! ; 521 : 1.             # Diphoton/Digluon widths including higher order ; 525 : 0.             # Write loop contributions to diphoton decay of Higgs ; 530 : 1.             # Write Blocks for Vevacious  }),\n",
       "             ('YDRIN',\n",
       "              YDRIN { 1,1 : 0.000000E+00   # YDR(1,1); 1,2 : 0.000000E+00   # YDR(1,2); 1,3 : 0.000000E+00   # YDR(1,3); 2,1 : 0.000000E+00   # YDR(2,1); 2,2 : 0.000000E+00   # YDR(2,2); 2,3 : 0.000000E+00   # YDR(2,3); 3,1 : 0.000000E+00   # YDR(3,1); 3,2 : 0.000000E+00   # YDR(3,2); 3,3 : 0.000000E+00   # YDR(3,3) }),\n",
       "             ('YL1IN',\n",
       "              YL1IN { 1,1 : 0.000000E+00   # YL1(1,1); 1,2 : 0.000000E+00   # YL1(1,2); 1,3 : 0.000000E+00   # YL1(1,3); 2,1 : 0.000000E+00   # YL1(2,1); 2,2 : 0.000000E+00   # YL1(2,2); 2,3 : 0.000000E+00   # YL1(2,3); 3,1 : 0.000000E+00   # YL1(3,1); 3,2 : 0.000000E+00   # YL1(3,2); 3,3 : 0.000000E+00   # YL1(3,3) }),\n",
       "             ('YL2IN',\n",
       "              YL2IN { 1,1 : 0.000000E+00   # YL2(1,1); 1,2 : 0.000000E+00   # YL2(1,2); 1,3 : 0.000000E+00   # YL2(1,3); 2,1 : 0.000000E+00   # YL2(2,1); 2,2 : 0.000000E+00   # YL2(2,2); 2,3 : 0.000000E+00   # YL2(2,3); 3,1 : 0.000000E+00   # YL2(3,1); 3,2 : 0.000000E+00   # YL2(3,2); 3,3 : 0.000000E+00   # YL2(3,3) })])"
      ]
     },
     "execution_count": 13,
     "metadata": {},
     "output_type": "execute_result"
    }
   ],
   "source": [
    "a.LHA.blocks"
   ]
  },
  {
   "cell_type": "code",
   "execution_count": 29,
   "metadata": {
    "collapsed": false
   },
   "outputs": [
    {
     "name": "stdout",
     "output_type": "stream",
     "text": [
      "====micrOMEGAS SARAH: ======\n",
      "\n",
      "Masses of odd sector Particles:\n",
      "~cp  : Mcp   =  1000.0 || ~cpp : Mcpp  =  1000.0 || ~c01 : Mc01  =  1000.0 \n",
      "~c02 : Mc02  =  1000.0 || \n",
      "Xf=3.27e+01 Omega h^2=1.82e-03\n",
      "\n",
      "# Channels which contribute to 1/(omega) more than 1%.\n",
      "# Relative contributions in % are displayed\n",
      "   11% ~cp ~Cpp ->d1 U1 \n",
      "   11% ~cp ~Cpp ->d2 U2 \n",
      "   11% ~cp ~Cpp ->d3 U3 \n",
      "    6% ~cp ~c01 ->D1 u1 \n",
      "    6% ~cp ~c02 ->D1 u1 \n",
      "    6% ~cp ~c01 ->D2 u2 \n",
      "    6% ~cp ~c02 ->D2 u2 \n",
      "    5% ~cp ~c01 ->D3 u3 \n",
      "    5% ~cp ~c02 ->D3 u3 \n",
      "    4% ~cp ~Cpp ->E1 nu4 \n",
      "    4% ~cp ~Cpp ->E2 nu5 \n",
      "    4% ~cp ~Cpp ->E3 nu6 \n",
      "    2% ~cp ~c01 ->e1 nu4 \n",
      "    2% ~cp ~c02 ->e1 nu4 \n",
      "    2% ~cp ~c01 ->e2 nu5 \n",
      "    2% ~cp ~c02 ->e2 nu5 \n",
      "    2% ~cp ~c01 ->e3 nu6 \n",
      "    2% ~cp ~c02 ->e3 nu6 \n",
      "    1% ~cp ~Cpp ->hh1 WRm \n",
      "\n",
      "==== Calculation of CDM-nucleons amplitudes  =====\n",
      "         TREE LEVEL\n",
      "CDM-nucleon micrOMEGAs amplitudes:\n",
      "proton:  SI  1.514E-07  SD  -1.271E-31\n",
      "neutron: SI  -1.858E-06  SD  3.484E-32\n",
      "         BOX DIAGRAMS\n",
      "CDM-nucleon micrOMEGAs amplitudes:\n",
      "proton:  SI  1.514E-07  SD  -1.271E-31\n",
      "neutron: SI  -1.858E-06  SD  3.484E-32\n",
      "CDM-nucleon cross sections[pb]:\n",
      " proton  SI 1.001E-05  SD 2.115E-53\n",
      " neutron SI 1.507E-03  SD 1.589E-54\n",
      "\n",
      "======== Direct Detection ========\n",
      "73Ge: Total number of events=2.21E+01 /day/kg\n",
      "Number of events in 10 - 50 KeV region=1.16E+01 /day/kg\n",
      "131Xe: Total number of events=3.84E+01 /day/kg\n",
      "Number of events in 10 - 50 KeV region=1.98E+01 /day/kg\n",
      "23Na: Total number of events=1.85E+00 /day/kg\n",
      "Number of events in 10 - 50 KeV region=9.84E-01 /day/kg\n",
      "I127: Total number of events=3.70E+01 /day/kg\n",
      "Number of events in 10 - 50 KeV region=1.94E+01 /day/kg\n"
     ]
    }
   ],
   "source": [
    "a.LHA.blocks['MINPAR'][1]='4.0000000E+03  # vRinput. controls ZR'\n",
    "a.LHA.blocks['MINPAR'][2]='1.0000000E+03  # M23INPUT. controls DM mass'\n",
    "spc=a.runSPheno()\n",
    "mo=commands.getoutput(\"../micromegas/DMLR/CalcOmega_with_DDetection\")\n",
    "print \"====micrOMEGAS SARAH: ======\"\n",
    "print mo"
   ]
  },
  {
   "cell_type": "code",
   "execution_count": 18,
   "metadata": {
    "collapsed": false
   },
   "outputs": [
    {
     "data": {
      "text/plain": [
       "MASS { 25 :  130; 35 :  802; 335 :  2.03e+03; 36 :  2.03e+03; 37 :  2.02e+03; 9000055 :  4e+03; 23 :  91.2; 32 :  3.14e+04; 24 :  80.3; 34 :  1.87e+04; 1 :  0.005; 3 :  0.095; 5 :  4.18; 2 :  0.0025; 4 :  1.27; 6 :  174; 11 :  0.000511; 13 :  0.106; 15 :  1.78; 12 : -2.21e-12; 14 : -2.21e-12; 16 : -2.21e-12; 6000012 : -2.21e-12; 6000014 : -2.21e-12; 6000016 : -2.21e-12; 6000055 :  1e+03; 17 :  1e+03; 9000012 : -1e+03; 9000014 :  1e+03 }"
      ]
     },
     "execution_count": 18,
     "metadata": {},
     "output_type": "execute_result"
    }
   ],
   "source": [
    "spc.blocks['MASS']"
   ]
  },
  {
   "cell_type": "code",
   "execution_count": 25,
   "metadata": {
    "collapsed": false
   },
   "outputs": [
    {
     "name": "stdout",
     "output_type": "stream",
     "text": [
      "Block MASS  # Mass spectrum\r\n",
      "#   PDG code      mass          particle\r\n",
      "        25     9.09743320E+01  # hh_1\r\n",
      "        35     8.02395548E+02  # hh_2\r\n",
      "       335     2.00909568E+03  # hh_3\r\n",
      "        36     2.00907510E+03  # Ah_3\r\n",
      "        37     2.00002095E+03  # Hpm_3\r\n",
      "   9000055     4.00001895E+03  # deltaRpp\r\n",
      "        23     9.11887000E+01  # VZ\r\n",
      "        32     3.14235008E+04  # VZR\r\n",
      "        24     8.03497269E+01  # VWLm\r\n",
      "        34     1.87492980E+04  # VWRm\r\n",
      "         1     5.00000000E-03  # Fd_1\r\n",
      "         3     9.50000000E-02  # Fd_2\r\n",
      "         5     4.18000000E+00  # Fd_3\r\n",
      "         2     2.50000000E-03  # Fu_1\r\n",
      "         4     1.27000000E+00  # Fu_2\r\n",
      "         6     1.73500000E+02  # Fu_3\r\n",
      "        11     5.10998930E-04  # Fe_1\r\n",
      "        13     1.05658372E-01  # Fe_2\r\n",
      "        15     1.77669000E+00  # Fe_3\r\n",
      "        12    -2.21844275E-14  # Fv_1\r\n",
      "        14    -2.21844275E-14  # Fv_2\r\n",
      "        16    -2.21844275E-14  # Fv_3\r\n",
      "   6000012    -2.21844275E-14  # Fv_4\r\n",
      "   6000014    -2.21844275E-14  # Fv_5\r\n",
      "   6000016    -2.21844275E-14  # Fv_6\r\n",
      "   6000055     1.00000000E+03  # Fcpp\r\n",
      "        17     1.00000000E+03  # Fcp\r\n",
      "   9000012    -1.00000000E+03  # Fc_1\r\n",
      "   9000014     1.00000000E+03  # Fc_2\r\n"
     ]
    }
   ],
   "source": [
    "cat SPheno.spc.DMLR | grep -i -A30 'block mass'"
   ]
  },
  {
   "cell_type": "code",
   "execution_count": 26,
   "metadata": {
    "collapsed": true
   },
   "outputs": [],
   "source": [
    "mo=commands.getoutput(\"../micromegas/DMLR/CalcOmega\")"
   ]
  },
  {
   "cell_type": "code",
   "execution_count": 28,
   "metadata": {
    "collapsed": false
   },
   "outputs": [
    {
     "name": "stdout",
     "output_type": "stream",
     "text": [
      "\n",
      "Masses of odd sector Particles:\n",
      "~cp  : Mcp   =  1000.0 || ~cpp : Mcpp  =  1000.0 || ~c01 : Mc01  =  1000.0 \n",
      "~c02 : Mc02  =  1000.0 || \n",
      "Xf=2.71e+01 Omega h^2=3.05e-01\n",
      "\n",
      "# Channels which contribute to 1/(omega) more than 1%.\n",
      "# Relative contributions in % are displayed\n",
      "   23% ~cpp ~Cpp ->A A \n",
      "   14% ~cpp ~Cpp ->A Z \n",
      "    6% ~cpp ~Cpp ->u1 U1 \n",
      "    6% ~cpp ~Cpp ->u2 U2 \n",
      "    6% ~cpp ~Cpp ->u3 U3 \n",
      "    6% ~cpp ~Cpp ->e1 E1 \n",
      "    6% ~cpp ~Cpp ->e2 E2 \n",
      "    6% ~cpp ~Cpp ->e3 E3 \n",
      "    2% ~cpp ~Cpp ->Z Z \n",
      "    2% ~cpp ~Cpp ->d1 D1 \n",
      "    2% ~cpp ~Cpp ->d2 D2 \n",
      "    2% ~cpp ~Cpp ->d3 D3 \n",
      "    2% ~cp ~Cp ->u1 U1 \n",
      "    2% ~cp ~Cp ->u2 U2 \n",
      "    2% ~cp ~Cp ->u3 U3 \n",
      "    1% ~cp ~Cp ->A A \n",
      "    1% ~cp ~Cp ->e1 E1 \n",
      "    1% ~cp ~Cp ->e2 E2 \n",
      "    1% ~cp ~Cp ->e3 E3 \n",
      "    1% ~cpp ~Cpp ->nu1 nu1 \n",
      "    1% ~cpp ~Cpp ->nu2 nu2 \n",
      "    1% ~cpp ~Cpp ->nu3 nu3 \n"
     ]
    }
   ],
   "source": [
    "print mo"
   ]
  },
  {
   "cell_type": "code",
   "execution_count": null,
   "metadata": {
    "collapsed": true
   },
   "outputs": [],
   "source": []
  }
 ],
 "metadata": {
  "kernelspec": {
   "display_name": "Python 2",
   "language": "python",
   "name": "python2"
  },
  "language_info": {
   "codemirror_mode": {
    "name": "ipython",
    "version": 2
   },
   "file_extension": ".py",
   "mimetype": "text/x-python",
   "name": "python",
   "nbconvert_exporter": "python",
   "pygments_lexer": "ipython2",
   "version": "2.7.11"
  }
 },
 "nbformat": 4,
 "nbformat_minor": 0
}
