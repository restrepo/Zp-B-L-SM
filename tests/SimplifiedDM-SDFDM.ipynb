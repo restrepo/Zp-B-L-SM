{
 "cells": [
  {
   "cell_type": "markdown",
   "metadata": {},
   "source": [
    "#  Singlet doublet fermion dark matter model"
   ]
  },
  {
   "cell_type": "markdown",
   "metadata": {},
   "source": [
    "We expect here degenerate masses so we must be carefull about the DM particles that is registered by micrOMEGAS:\n",
    "\n",
    "We need to edit prtcls1.mld to have the righ order with Nv0 appearing first"
   ]
  },
  {
   "cell_type": "code",
   "execution_count": 1,
   "metadata": {
    "collapsed": false
   },
   "outputs": [
    {
     "name": "stdout",
     "output_type": "stream",
     "text": [
      "Populating the interactive namespace from numpy and matplotlib\n"
     ]
    }
   ],
   "source": [
    "%pylab inline"
   ]
  },
  {
   "cell_type": "code",
   "execution_count": 2,
   "metadata": {
    "collapsed": false
   },
   "outputs": [],
   "source": [
    "import pandas as pd\n",
    "import numpy as np\n",
    "import os, sys, inspect\n",
    "import commands\n",
    "from hep import *"
   ]
  },
  {
   "cell_type": "markdown",
   "metadata": {},
   "source": [
    "## Feynrules implementation\n",
    "[Preliminary Analysis](../../../2016/micromegas_feynrules/correr_micrOMEGAs-markov.ipynb)\n",
    "\n",
    "See also full results with user galcen in fisica? or gfif?"
   ]
  },
  {
   "cell_type": "code",
   "execution_count": 3,
   "metadata": {
    "collapsed": true
   },
   "outputs": [],
   "source": [
    "#1. CHOOSE A BENCHMARK POINT  \n",
    "#if 1==1:\n",
    "#    MDF = 110.;MN = 101.;tanb = 10.0;lam = 0.15;v=246.2196; \n",
    "def run_feynrules_SDFDM(MDF = 110.,MN = 101.,lu = 0.1,ld = 0.1,v=246.2196,path='../micromegas/SDFDM/main'):\n",
    "    o={}\n",
    "    #2. File to run micrOMEGAS installed in galcen\n",
    "    \n",
    "    #lu=lam*np.sin(np.arctan(tanb))\n",
    "    #ld=lam*np.cos(np.arctan(tanb))\n",
    "    \n",
    "    M=np.matrix([[ MN,                -ld*v/np.sqrt(2.),  lu*v/np.sqrt(2.)],\n",
    "             [ -ld*v/np.sqrt(2.),  0.,                MDF ],\n",
    "             [ lu*v/np.sqrt(2.),  MDF,               0. ]])\n",
    "\n",
    "    (Mchi,N)=np.linalg.eig(M)\n",
    "    \n",
    "    pd.Series({'MDF':MDF,'MN':MN,'ld':ld,'lu':lu,\\\n",
    "               'N11':N[0,0],'N12':N[0,1],'N13':N[0,2],\\\n",
    "               'N21':N[1,0],'N22':N[1,1],'N23':N[1,2],\\\n",
    "               'N31':N[2,0],'N32':N[2,1],'N33':N[2,2]}).to_csv('mo.dat',sep='\\t')\n",
    "\n",
    "    #3. Run micromegas\n",
    "    mo=commands.getoutput('%s mo.dat' %path)\n",
    "\n",
    "    #4. Extrac some of the output (Dependence of the micrOMEGAs vertion)\n",
    "    o['Full']=mo\n",
    "    o['Mchi']=Mchi\n",
    "    o['N']=N\n",
    "    o['Omega']=eval(mo.split('Omega=')[1].split('\\n')[0])\n",
    "    o['proton_SI']=eval(mo.split('proton  SI')[1].split('[')[0])\n",
    "    o['proton_SD']=eval(mo.split('proton  SI')[1].split('SD')[1].split('[')[0])\n",
    "    #o['neutron_SI']=eval(mo.split('proton  SI')[1].split('[')[0])\n",
    "    #o['neutron_SD']=eval(mo.split('proton  SI')[1].split('SD')[1].split('[')[0])\n",
    "    o['sigmav']=eval(mo.split('annihilation cross section')[1].split('cm^3/s\\n')[0])\n",
    "    return o"
   ]
  },
  {
   "cell_type": "markdown",
   "metadata": {},
   "source": [
    "\n",
    "## Check one point"
   ]
  },
  {
   "cell_type": "code",
   "execution_count": 4,
   "metadata": {
    "collapsed": false
   },
   "outputs": [],
   "source": [
    "a=hep(MODEL='SimplifiedDMSDFDM')"
   ]
  },
  {
   "cell_type": "markdown",
   "metadata": {},
   "source": [
    "`a-object` is an object with many attributes and methods. Use the tab to explore them. Some of them are\n",
    "* a.Series: [pandas](http://pandas.pydata.org/) Series object with the \"relevant\" variables \n",
    "* a.LHA: Input LesHouces file as [pyslha](https://pypi.python.org/pypi/pyslha/) object\n",
    "* a.runSPheno() -> a.LHA_out: return LHA output files as [pyslha](https://pypi.python.org/pypi/pyslha/) object\n",
    "* a.runmicromegas() -> a.runSPheno() -> Updated the `a-object`  with micrOMEGAS \"relevant\" output"
   ]
  },
  {
   "cell_type": "code",
   "execution_count": 5,
   "metadata": {
    "collapsed": false
   },
   "outputs": [
    {
     "name": "stdout",
     "output_type": "stream",
     "text": [
      "Omega h^2, SI proton, neutron = 0.115 8.977e-12 9.253e-12\n"
     ]
    }
   ],
   "source": [
    "v=a.vev\n",
    "#lambda_1=0.13\n",
    "mdf=1100\n",
    "devnull=commands.getoutput('rm -f SPheno.spc.%s' %a.MODEL)\n",
    "a.LHA.blocks['SPHENOINPUT'].entries[55]='0               # Calculate one loop masses'\n",
    "a.LHA.blocks['MINPAR'][2]='%0.8E       #MDF' %mdf\n",
    "moc=a.runmicromegas(Direct_Detection=True)\n",
    "print 'Omega h^2, SI proton, neutron =',a.Series.Omega_h2,a.Series.proton_SI,a.Series.neutron_SI"
   ]
  },
  {
   "cell_type": "code",
   "execution_count": 6,
   "metadata": {
    "collapsed": false
   },
   "outputs": [
    {
     "data": {
      "text/plain": [
       "GFFermiconstant    1.166370e-05\n",
       "MDF                1.100000e+03\n",
       "MnINPUT            2.000000e+03\n",
       "Zbosonpolemass     9.118870e+01\n",
       "alphasMZSMMSbar    1.187000e-01\n",
       "lambda1INPUT       1.300000e-01\n",
       "lamdINPUT          1.000000e-01\n",
       "lamuINPUT          1.000000e-01\n",
       "mbmbSMMSbar        4.180000e+00\n",
       "mtaupole           1.776690e+00\n",
       "mtoppole           1.735000e+02\n",
       "Omega_h2           1.150000e-01\n",
       "proton_SI          8.977000e-12\n",
       "neutron_SI         9.253000e-12\n",
       "dtype: float64"
      ]
     },
     "execution_count": 6,
     "metadata": {},
     "output_type": "execute_result"
    }
   ],
   "source": [
    "a.Series"
   ]
  },
  {
   "cell_type": "code",
   "execution_count": 7,
   "metadata": {
    "collapsed": false
   },
   "outputs": [],
   "source": [
    "%%bash\n",
    "cd ../micromegas/SDFDM\n",
    "make main=main.c > /dev/null"
   ]
  },
  {
   "cell_type": "code",
   "execution_count": 8,
   "metadata": {
    "collapsed": false
   },
   "outputs": [
    {
     "name": "stdout",
     "output_type": "stream",
     "text": [
      "0.12 1.733e-11\n"
     ]
    }
   ],
   "source": [
    "\n",
    "#mo=run_feynrules_SDFDM(MDF = eval(a.LHA.blocks['MINPAR'][2]),MN = eval(a.LHA.blocks['MINPAR'][3]),\\\n",
    "#                        lu = eval(a.LHA.blocks['MINPAR'][4]),ld = eval(a.LHA.blocks['MINPAR'][5]),v=a.vev)\n",
    "\n",
    "mo=run_feynrules_SDFDM(MDF = -a.Series.MDF,MN = a.Series.MnINPUT,\\\n",
    "                        lu = a.Series.lamuINPUT,ld = a.Series.lamdINPUT ,v=a.vev)\n",
    "#implement sigma_v\n",
    "mo=a.micromegas_output(mo['Full'])\n",
    "print mo.Omega_h2,mo.proton.SI"
   ]
  },
  {
   "cell_type": "markdown",
   "metadata": {},
   "source": [
    "## Scan $m_{DM}$\n",
    "### Higgsilino-like"
   ]
  },
  {
   "cell_type": "code",
   "execution_count": 9,
   "metadata": {
    "collapsed": false,
    "scrolled": true
   },
   "outputs": [
    {
     "name": "stdout",
     "output_type": "stream",
     "text": [
      "0\n",
      "10\n",
      "20\n",
      "30\n",
      "40\n",
      "50\n",
      "60\n",
      "70\n",
      "80\n",
      "90\n"
     ]
    }
   ],
   "source": [
    "df=pd.DataFrame()\n",
    "a.LHA.blocks['SPHENOINPUT'].entries[55]='0               # Calculate one loop masses'\n",
    "dm_masses=np.linspace(100,1200,100)\n",
    "for MDM in dm_masses:\n",
    "    if np.where(dm_masses==MDM)[0][0]%10==0: #find the index of the array entry\n",
    "        print np.where(dm_masses==MDM)[0][0]\n",
    "    a.LHA.blocks['MINPAR'][2]='%0.8E       #MDF' %MDM  # -> Fill a.Series.MDF\n",
    "    a.runmicromegas(Direct_Detection=True)\n",
    "    mo=run_feynrules_SDFDM(MDF = -a.Series.MDF,MN = a.Series.MnINPUT,\\\n",
    "                        lu = a.Series.lamuINPUT,ld = a.Series.lamdINPUT ,v=a.vev)\n",
    "    mo=a.micromegas_output(mo['Full'])\n",
    "    a.Series['Omega_h2_official']=mo.Omega_h2\n",
    "    a.Series['proton_SI_official']=mo.proton.SI\n",
    "    a.Series['neutron_SI_official']=mo.neutron.SI\n",
    "    df=df.append(a.Series,ignore_index=True)"
   ]
  },
  {
   "cell_type": "markdown",
   "metadata": {},
   "source": [
    "### Relic density"
   ]
  },
  {
   "cell_type": "code",
   "execution_count": 10,
   "metadata": {
    "collapsed": false
   },
   "outputs": [
    {
     "data": {
      "image/png": "[encoded data removed]",
      "text/plain": [
       "<matplotlib.figure.Figure at 0x7f8d3007e1d0>"
      ]
     },
     "metadata": {},
     "output_type": "display_data"
    }
   ],
   "source": [
    "plt.semilogy(df.MDF,df.Omega_h2,'ko',label='SARAH')\n",
    "plt.semilogy(df.MDF,df.Omega_h2_official,'r-',label='micromegas/SDFDM')\n",
    "plt.xlabel(r'$m_{\\rm DM}$ [GeV]',size=20)\n",
    "plt.ylabel(r'$\\Omega h^2$',size=20)\n",
    "plt.grid()\n",
    "plt.legend(loc='best')\n",
    "plt.savefig('omega.pdf')\n"
   ]
  },
  {
   "cell_type": "code",
   "execution_count": 11,
   "metadata": {
    "collapsed": false
   },
   "outputs": [
    {
     "data": {
      "image/png": "[encoded data removed]",
      "text/plain": [
       "<matplotlib.figure.Figure at 0x7f8d2da68050>"
      ]
     },
     "metadata": {},
     "output_type": "display_data"
    }
   ],
   "source": [
    "plt.semilogy(df.MDF,df.proton_SI,'k-',label='SARAH')\n",
    "plt.semilogy(df.MDF,df.proton_SI_official,'r--',label='micromegas/IDM')\n",
    "plt.xlabel(r'$m_{\\rm DM}$ [GeV]',size=20)\n",
    "plt.ylabel(r'Direct Detection [pb]' ,size=20)\n",
    "plt.legend(loc='best')\n",
    "plt.savefig('dd.pdf')"
   ]
  },
  {
   "cell_type": "markdown",
   "metadata": {},
   "source": [
    "### Singlet-like"
   ]
  },
  {
   "cell_type": "code",
   "execution_count": 12,
   "metadata": {
    "collapsed": false
   },
   "outputs": [
    {
     "name": "stdout",
     "output_type": "stream",
     "text": [
      "0\n",
      "10\n",
      "20\n",
      "30\n",
      "40\n",
      "50\n",
      "60\n",
      "70\n",
      "80\n",
      "90\n"
     ]
    }
   ],
   "source": [
    "dn=pd.DataFrame()\n",
    "a.LHA.blocks['SPHENOINPUT'].entries[55]='0               # Calculate one loop masses'\n",
    "a.LHA.blocks['MINPAR'][2]='%0.8E       #MDF' %1200  # -> Fill a.Series.MDF\n",
    "\n",
    "dm_masses=np.linspace(100,1200,100)\n",
    "for MDM in dm_masses:\n",
    "    if np.where(dm_masses==MDM)[0][0]%10==0: #find the index of the array entry\n",
    "        print np.where(dm_masses==MDM)[0][0]\n",
    "    a.LHA.blocks['MINPAR'][3]='%0.8E       #MN' %MDM  # -> Fill a.Series.MN\n",
    "    a.runmicromegas(Direct_Detection=True)\n",
    "    mo=run_feynrules_SDFDM(MDF = -a.Series.MDF,MN = a.Series.MN,\\\n",
    "                        lu = a.Series.lamuINPUT,ld = a.Series.lamdINPUT ,v=a.vev)\n",
    "    mo=a.micromegas_output(mo['Full'])\n",
    "    a.Series['Omega_h2_official']=mo.Omega_h2\n",
    "    a.Series['proton_SI_official']=mo.proton.SI\n",
    "    a.Series['neutron_SI_official']=mo.neutron.SI\n",
    "    dn=dn.append(a.Series,ignore_index=True)"
   ]
  },
  {
   "cell_type": "code",
   "execution_count": 13,
   "metadata": {
    "collapsed": false
   },
   "outputs": [
    {
     "data": {
      "image/png": "[encoded data removed]",
      "text/plain": [
       "<matplotlib.figure.Figure at 0x7f8d2d924e10>"
      ]
     },
     "metadata": {},
     "output_type": "display_data"
    }
   ],
   "source": [
    "plt.semilogy(dn.MN,dn.Omega_h2,'ko',label='SARAH')\n",
    "plt.semilogy(dn.MN,dn.Omega_h2_official,'r-',label='micromegas/SDFDM')\n",
    "plt.xlabel(r'$m_{\\rm DM}$ [GeV]',size=20)\n",
    "plt.ylabel(r'$\\Omega h^2$',size=20)\n",
    "plt.grid()\n",
    "plt.legend(loc='best')\n",
    "plt.savefig('omega.pdf')"
   ]
  },
  {
   "cell_type": "code",
   "execution_count": 14,
   "metadata": {
    "collapsed": false
   },
   "outputs": [
    {
     "data": {
      "image/png": "[encoded data removed]",
      "text/plain": [
       "<matplotlib.figure.Figure at 0x7f8d2d972750>"
      ]
     },
     "metadata": {},
     "output_type": "display_data"
    }
   ],
   "source": [
    "plt.semilogy(dn.MN,dn.proton_SI,'k-',label='SARAH')\n",
    "plt.semilogy(dn.MN,dn.proton_SI_official,'r--',label='micromegas/IDM')\n",
    "plt.xlabel(r'$m_{\\rm DM}$ [GeV]',size=20)\n",
    "plt.ylabel(r'Direct Detection [pb]' ,size=20)\n",
    "plt.legend(loc='best')\n",
    "plt.savefig('dd.pdf')"
   ]
  },
  {
   "cell_type": "markdown",
   "metadata": {},
   "source": [
    "## Pure higssino limit"
   ]
  },
  {
   "cell_type": "code",
   "execution_count": 15,
   "metadata": {
    "collapsed": false
   },
   "outputs": [
    {
     "name": "stdout",
     "output_type": "stream",
     "text": [
      "Omega h^2, SI proton, neutron = 0.00103 2.47e-24 2.536e-24\n"
     ]
    }
   ],
   "source": [
    "v=a.vev\n",
    "#lambda_1=0.13\n",
    "mdf=100\n",
    "mn=2000\n",
    "lambdau=1E-4\n",
    "lambdad=1E-4\n",
    "devnull=commands.getoutput('rm -f SPheno.spc.%s' %a.MODEL)\n",
    "a.LHA.blocks['SPHENOINPUT'].entries[55]='0               # Calculate one loop masses'\n",
    "a.LHA.blocks['MINPAR'][2]='%0.8E       #MDF' %mdf\n",
    "a.LHA.blocks['MINPAR'][3]='%0.8E       #MN' %mn\n",
    "a.LHA.blocks['MINPAR'][4]='%0.8E       # lamuINPUT' %lambdau\n",
    "a.LHA.blocks['MINPAR'][5]='%0.8E       # lamdINPUT' %lambdad\n",
    "moc=a.runmicromegas(Direct_Detection=True)\n",
    "print 'Omega h^2, SI proton, neutron =',a.Series.Omega_h2,a.Series.proton_SI,a.Series.neutron_SI"
   ]
  },
  {
   "cell_type": "code",
   "execution_count": 16,
   "metadata": {
    "collapsed": false
   },
   "outputs": [
    {
     "data": {
      "text/plain": [
       "_dict([(1, '1.3000000E-01  # lambda1INPUT'),\n",
       "       (2, '1.00000000E+02       #MDF'),\n",
       "       (3, '2.00000000E+03       #MN'),\n",
       "       (4, '1.00000000E-04       # lamuINPUT'),\n",
       "       (5, '1.00000000E-04       # lamdINPUT')])"
      ]
     },
     "execution_count": 16,
     "metadata": {},
     "output_type": "execute_result"
    }
   ],
   "source": [
    "a.LHA.blocks['MINPAR'].entries"
   ]
  },
  {
   "cell_type": "code",
   "execution_count": 17,
   "metadata": {
    "collapsed": false
   },
   "outputs": [
    {
     "name": "stdout",
     "output_type": "stream",
     "text": [
      "0.00107 3.835e-24\n"
     ]
    }
   ],
   "source": [
    "mo=run_feynrules_SDFDM(MDF = -a.Series.MDF,MN = a.Series.MN,\\\n",
    "                        lu = a.Series.lamuINPUT,ld = a.Series.lamdINPUT ,v=a.vev)\n",
    "#implement sigma_v\n",
    "mo=a.micromegas_output(mo['Full'])\n",
    "print mo.Omega_h2,mo.proton.SI"
   ]
  },
  {
   "cell_type": "markdown",
   "metadata": {},
   "source": [
    "[Jupyter home](./draft.pdf)"
   ]
  }
 ],
 "metadata": {
  "kernelspec": {
   "display_name": "Python 2",
   "language": "python",
   "name": "python2"
  },
  "language_info": {
   "codemirror_mode": {
    "name": "ipython",
    "version": 2
   },
   "file_extension": ".py",
   "mimetype": "text/x-python",
   "name": "python",
   "nbconvert_exporter": "python",
   "pygments_lexer": "ipython2",
   "version": "2.7.11"
  }
 },
 "nbformat": 4,
 "nbformat_minor": 0
}
