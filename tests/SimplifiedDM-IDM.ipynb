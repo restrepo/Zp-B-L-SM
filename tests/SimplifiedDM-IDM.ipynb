{
 "cells": [
  {
   "cell_type": "markdown",
   "metadata": {},
   "source": [
    "#  Inert doublet model"
   ]
  },
  {
   "cell_type": "code",
   "execution_count": 1,
   "metadata": {
    "collapsed": false
   },
   "outputs": [
    {
     "name": "stdout",
     "output_type": "stream",
     "text": [
      "Populating the interactive namespace from numpy and matplotlib\n"
     ]
    }
   ],
   "source": [
    "%pylab inline"
   ]
  },
  {
   "cell_type": "code",
   "execution_count": 2,
   "metadata": {
    "collapsed": false
   },
   "outputs": [],
   "source": [
    "import pandas as pd\n",
    "import numpy as np\n",
    "import os, sys, inspect\n",
    "import commands\n",
    "from hep import *"
   ]
  },
  {
   "cell_type": "markdown",
   "metadata": {},
   "source": [
    "Define functions to change from general basis to physical basis "
   ]
  },
  {
   "cell_type": "code",
   "execution_count": 3,
   "metadata": {
    "collapsed": false
   },
   "outputs": [],
   "source": [
    "def run_official_idm(MHX,MH3,MHC,laL,la2,Mh,check=False):\n",
    "    pd.Series({'MHX':MHX,'MH3':MH3,'MHC':MHC,'laL':laL,'la2':la2,'Mh':Mh}).to_csv('mo.dat',sep=' ')\n",
    "    omegah2=-1\n",
    "    if os.path.isfile('../micromegas/IDM/main'):\n",
    "        mo=commands.getoutput(\"../micromegas/IDM/main mo.dat\")\n",
    "        \n",
    "    return mo\n",
    "\n",
    "def phys_to_int(mH,mA,mHc,lambda_L,v):\n",
    "    mH2=mH*mH;mA2=mA*mA;mHc2=mHc*mHc;v2=v*v\n",
    "    lambda_5=(mH2-mA2)/v2\n",
    "    mu2=mH2-lambda_L*v2\n",
    "    lambda_3=2.*(mHc2-mu2)/v2\n",
    "    lambda_4=-lambda_3-lambda_5+2*lambda_L\n",
    "    return mu2,lambda_3,lambda_4,lambda_5\n",
    "\n",
    "def int_to_phys(mu2,lambda_3,lambda_4,lambda_5,v):\n",
    "    v2=v*v\n",
    "    tachyons=False\n",
    "    mHc2=mu2+lambda_3*v2/2.\n",
    "    if mHc2<0: tachyons=True\n",
    "    mH2=mu2+(lambda_3+lambda_4+lambda_5)*v2/2.\n",
    "    if mH2<0: tachyons=True\n",
    "    mA2=mu2+(lambda_3+lambda_4-lambda_5)*v2/2.\n",
    "    if mA2<0: tachyons=True\n",
    "    if tachyons: print \"Warning: Tachyionic masses\"\n",
    "    return np.sqrt(np.abs(np.array([mH2,mA2,mHc2]))),(lambda_3+lambda_4+lambda_5)/2 "
   ]
  },
  {
   "cell_type": "markdown",
   "metadata": {},
   "source": [
    "Define function to run official micromegas IDM"
   ]
  },
  {
   "cell_type": "code",
   "execution_count": 4,
   "metadata": {
    "collapsed": true
   },
   "outputs": [],
   "source": [
    "def run_official_idm_lha(spc,check=False):\n",
    "    laL=(spc.blocks['MINPAR'][3]+spc.blocks['MINPAR'][4]+spc.blocks['MINPAR'][5])/2.\n",
    "    MHX=spc.blocks['MASS'][35];MH3=spc.blocks['MASS'][36];MHC=spc.blocks['MASS'][37]\n",
    "    la2=spc.blocks['MINPAR'][2];Mh=spc.blocks['MASS'][25]\n",
    "    return run_official_idm(MHX,MH3,MHC,laL,la2,Mh,check=check)\n"
   ]
  },
  {
   "cell_type": "markdown",
   "metadata": {},
   "source": [
    "\n",
    "## Check one point"
   ]
  },
  {
   "cell_type": "code",
   "execution_count": 5,
   "metadata": {
    "collapsed": false
   },
   "outputs": [],
   "source": [
    "a=hep(MODEL='SimplifiedDMIDM')"
   ]
  },
  {
   "cell_type": "code",
   "execution_count": 7,
   "metadata": {
    "collapsed": false
   },
   "outputs": [
    {
     "name": "stdout",
     "output_type": "stream",
     "text": [
      "expected: [  4.00000000e+01   1.20000000e+02   1.20000000e+02   1.00000000e-01]\n",
      "obtained: (array([  40.,  120.,  120.]), 0.10000000000000002)\n",
      "Omega h^2 = 4.63\n"
     ]
    }
   ],
   "source": [
    "v=a.vev\n",
    "ipt=np.array([40,120,120,0.1])\n",
    "mu2,lambda_3,lambda_4,lambda_5=phys_to_int(ipt[0],ipt[1],ipt[2],ipt[3],v)\n",
    "print 'expected:',ipt\n",
    "print 'obtained:',int_to_phys(mu2,lambda_3,lambda_4,lambda_5,v)\n",
    "devnull=commands.getoutput('rm -f SPheno.spc.%s' %a.MODEL)\n",
    "a.LHA.blocks['SPHENOINPUT'].entries[55]='0               # Calculate one loop masses'\n",
    "a.LHA.blocks['MINPAR'][3]='%0.8E       #lambda3Input' %lambda_3\n",
    "a.LHA.blocks['MINPAR'][4]='%0.8E       #lambda4Input' %lambda_4\n",
    "a.LHA.blocks['MINPAR'][5]='%0.8E       #lambda5Input' %lambda_5\n",
    "a.LHA.blocks['MINPAR'][6]='%0.8E       #mEt2Input' %mu2\n",
    "moc=a.runmicromegas(Direct_Detection=True)\n",
    "print 'Omega h^2 =',a.Series.Omega_h2\n",
    "#spc.blocks['MASS'].entries\n",
    "#TODO: Change PDF of scalar sector in both scotogenic and IDM"
   ]
  },
  {
   "cell_type": "code",
   "execution_count": 8,
   "metadata": {
    "collapsed": false
   },
   "outputs": [
    {
     "name": "stdout",
     "output_type": "stream",
     "text": [
      "Omega h^2 = 4.63\n"
     ]
    }
   ],
   "source": [
    "omhof=run_official_idm_lha(a.LHA_out,check=True)\n",
    "omo=a.micromegas_output(omhof)\n",
    "print 'Omega h^2 =',a.Series.Omega_h2"
   ]
  },
  {
   "cell_type": "markdown",
   "metadata": {},
   "source": [
    "## Scan $m_{H^0}$"
   ]
  },
  {
   "cell_type": "code",
   "execution_count": 11,
   "metadata": {
    "collapsed": false,
    "scrolled": true
   },
   "outputs": [
    {
     "name": "stdout",
     "output_type": "stream",
     "text": [
      "0\n"
     ]
    }
   ],
   "source": [
    "df=pd.DataFrame()\n",
    "ipt=pd.Series({'MHX':40,'MH3':701,'MHC':701,'lambda_L':0.1})\n",
    "a.LHA.blocks['SPHENOINPUT'].entries[55]='0               # Calculate one loop masses'\n",
    "dm_masses=np.linspace(40,700,10)\n",
    "for MHX in dm_masses:\n",
    "    if np.where(dm_masses==MHX)[0][0]%10==0: #find the index of the array entry\n",
    "        print np.where(dm_masses==MHX)[0][0]\n",
    "    ipt.MHX=MHX\n",
    "    mu2,lambda_3,lambda_4,lambda_5=phys_to_int(ipt.MHX,ipt.MH3,ipt.MHC,ipt.lambda_L,a.vev)\n",
    "    a.LHA.blocks['MINPAR'][5]='%0.8E       #lambda5Input' %lambda_5\n",
    "    a.LHA.blocks['MINPAR'][3]='%0.8E       #lambda4Input' %lambda_3\n",
    "    a.LHA.blocks['MINPAR'][4]='%0.8E       #lambda3Input' %lambda_4\n",
    "    a.LHA.blocks['MINPAR'][6]='%0.8E       #mEt2Input' %mu2\n",
    "    a.runmicromegas(Direct_Detection=True)\n",
    "    a.Series=a.Series.append(ipt)\n",
    "    a.Series=a.Series.append(pd.Series({'MH0':a.LHA_out.blocks['MASS'][35],\\\n",
    "                                        'MA0':a.LHA_out.blocks['MASS'][36],\\\n",
    "                                        'MHc':a.LHA_out.blocks['MASS'][37]}))\n",
    "    omhof=run_official_idm_lha(a.LHA_out,check=True)\n",
    "    omo=a.micromegas_output(omhof)\n",
    "    a.Series['Omega_h2_official']=omo.Omega_h2\n",
    "    a.Series['proton_SI_official']=omo.proton.SI\n",
    "    a.Series['neutron_SI_official']=omo.neutron.SI\n",
    "    df=df.append(a.Series,ignore_index=True)"
   ]
  },
  {
   "cell_type": "code",
   "execution_count": 12,
   "metadata": {
    "collapsed": false
   },
   "outputs": [
    {
     "data": {
      "text/plain": [
       "[<matplotlib.lines.Line2D at 0x7f97deab3d50>]"
      ]
     },
     "execution_count": 12,
     "metadata": {},
     "output_type": "execute_result"
    },
    {
     "data": {
      "image/png": "[encoded data removed]",
      "text/plain": [
       "<matplotlib.figure.Figure at 0x7f97dea74250>"
      ]
     },
     "metadata": {},
     "output_type": "display_data"
    }
   ],
   "source": [
    "dfm=df[df.MH0<df.MHc]\n",
    "plt.semilogy(dfm.MH0,dfm.proton_SI)\n",
    "plt.semilogy(dfm.MH0,dfm.proton_SI_official)"
   ]
  },
  {
   "cell_type": "code",
   "execution_count": null,
   "metadata": {
    "collapsed": true
   },
   "outputs": [],
   "source": [
    "df=pd.DataFrame()\n",
    "ipt=pd.Series({'MHX':40,'MH3':120,'MHC':120,'lambda_L':0.1})\n",
    "a.LHA.blocks['SPHENOINPUT'].entries[55]='0               # Calculate one loop masses'\n",
    "dm_masses=np.linspace(90,700,10)\n",
    "for MHX in dm_masses:\n",
    "    if np.where(dm_masses==MHX)[0][0]%10==0: #find the index of the array entry\n",
    "        print np.where(dm_masses==MHX)[0][0]\n",
    "    ipt.MHX=MHX\n",
    "    ipt.MH3=MHX\n",
    "    ipt.MHC=MHX\n",
    "    mu2,lambda_3,lambda_4,lambda_5=phys_to_int(ipt.MHX,ipt.MH3,ipt.MHC,ipt.lambda_L,a.vev)\n",
    "    a.LHA.blocks['MINPAR'][5]='%0.8E       #lambda5Input' %lambda_5\n",
    "    a.LHA.blocks['MINPAR'][3]='%0.8E       #lambda4Input' %lambda_3\n",
    "    a.LHA.blocks['MINPAR'][4]='%0.8E       #lambda3Input' %lambda_4\n",
    "    a.LHA.blocks['MINPAR'][6]='%0.8E       #mEt2Input' %mu2\n",
    "    a.runmicromegas(Direct_Detection=True)\n",
    "    a.Series=a.Series.append(ipt)\n",
    "    a.Series=a.Series.append(pd.Series({'MH0':a.LHA_out.blocks['MASS'][35],\\\n",
    "                                        'MA0':a.LHA_out.blocks['MASS'][36],\\\n",
    "                                        'MHc':a.LHA_out.blocks['MASS'][37]}))\n",
    "    omhof=run_official_idm_lha(a.LHA_out,check=True)\n",
    "    omo=a.micromegas_output(omhof)\n",
    "    a.Series['Omega_h2_official']=omo.Omega_h2\n",
    "    a.Series['proton_SI_official']=omo.proton.SI\n",
    "    a.Series['neutron_SI_official']=omo.neutron.SI\n",
    "    df=df.append(a.Series,ignore_index=True)"
   ]
  },
  {
   "cell_type": "code",
   "execution_count": 19,
   "metadata": {
    "collapsed": false
   },
   "outputs": [
    {
     "name": "stdout",
     "output_type": "stream",
     "text": [
      "expected: [  6.00000000e+02   6.00000000e+02   6.00000000e+02   1.00000000e-01]\n",
      "obtained: (array([ 600.,  600.,  600.]), 0.10000000000000001)\n",
      "Omega h^2 = 0.109 5.599e-05\n"
     ]
    }
   ],
   "source": [
    "v=a.vev\n",
    "mc=600\n",
    "ipt=np.array([mc,mc,mc,0.1])\n",
    "mu2,lambda_3,lambda_4,lambda_5=phys_to_int(ipt[0],ipt[1],ipt[2],ipt[3],v)\n",
    "print 'expected:',ipt\n",
    "print 'obtained:',int_to_phys(mu2,lambda_3,lambda_4,lambda_5,v)\n",
    "devnull=commands.getoutput('rm -f SPheno.spc.%s' %a.MODEL)\n",
    "a.LHA.blocks['SPHENOINPUT'].entries[55]='0               # Calculate one loop masses'\n",
    "a.LHA.blocks['MINPAR'][3]='%0.8E       #lambda3Input' %lambda_3\n",
    "a.LHA.blocks['MINPAR'][4]='%0.8E       #lambda4Input' %lambda_4\n",
    "a.LHA.blocks['MINPAR'][5]='%0.8E       #lambda5Input' %lambda_5\n",
    "a.LHA.blocks['MINPAR'][6]='%0.8E       #mEt2Input' %mu2\n",
    "moc=a.runmicromegas(Direct_Detection=True)\n",
    "print 'Omega h^2 =',a.Series.Omega_h2,a.Series.proton_SI\n",
    "#spc.blocks['MASS'].entries\n",
    "#TODO: Change PDF of scalar sector in both scotogenic and IDM"
   ]
  },
  {
   "cell_type": "code",
   "execution_count": 18,
   "metadata": {
    "collapsed": false
   },
   "outputs": [
    {
     "name": "stdout",
     "output_type": "stream",
     "text": [
      "Omega h^2 = 0.00325 5.331e-05\n"
     ]
    }
   ],
   "source": [
    "omhof=run_official_idm_lha(a.LHA_out,check=True)\n",
    "omo=a.micromegas_output(omhof)\n",
    "print 'Omega h^2 =',a.Series.Omega_h2,a.Series.proton_SI"
   ]
  },
  {
   "cell_type": "code",
   "execution_count": 19,
   "metadata": {
    "collapsed": false
   },
   "outputs": [
    {
     "data": {
      "text/plain": [
       "GFFermiconstant       0.000012\n",
       "Zbosonpolemass       91.188700\n",
       "alphasMZSMMSbar       0.118700\n",
       "lambda1               0.267000\n",
       "lambda2               0.000000\n",
       "lambda3               0.200000\n",
       "lambda4               0.000000\n",
       "lambda5               0.000000\n",
       "mEt2               3937.543140\n",
       "mbmbSMMSbar           4.180000\n",
       "mtaupole              1.776690\n",
       "mtoppole            173.500000\n",
       "Omega_h2              0.003250\n",
       "proton_SI             0.000053\n",
       "neutron_SI            0.002433\n",
       "dtype: float64"
      ]
     },
     "execution_count": 19,
     "metadata": {},
     "output_type": "execute_result"
    }
   ],
   "source": [
    "a.Series"
   ]
  },
  {
   "cell_type": "code",
   "execution_count": null,
   "metadata": {
    "collapsed": true
   },
   "outputs": [],
   "source": []
  }
 ],
 "metadata": {
  "kernelspec": {
   "display_name": "Python 2",
   "language": "python",
   "name": "python2"
  },
  "language_info": {
   "codemirror_mode": {
    "name": "ipython",
    "version": 2
   },
   "file_extension": ".py",
   "mimetype": "text/x-python",
   "name": "python",
   "nbconvert_exporter": "python",
   "pygments_lexer": "ipython2",
   "version": "2.7.9"
  }
 },
 "nbformat": 4,
 "nbformat_minor": 0
}
