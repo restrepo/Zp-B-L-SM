{
 "cells": [
  {
   "cell_type": "markdown",
   "metadata": {},
   "source": [
    "#  Singlet doublet fermion dark matter model"
   ]
  },
  {
   "cell_type": "markdown",
   "metadata": {},
   "source": [
    "We expect here degenerate masses so we must be carefull about the DM particles that is registered by micrOMEGAS:\n",
    "\n",
    "We need to edit prtcls1.mld to have the righ order with Nv0 appearing first"
   ]
  },
  {
   "cell_type": "code",
   "execution_count": 23,
   "metadata": {
    "collapsed": false
   },
   "outputs": [
    {
     "name": "stdout",
     "output_type": "stream",
     "text": [
      "Populating the interactive namespace from numpy and matplotlib\n"
     ]
    }
   ],
   "source": [
    "%pylab inline"
   ]
  },
  {
   "cell_type": "code",
   "execution_count": 2,
   "metadata": {
    "collapsed": false
   },
   "outputs": [],
   "source": [
    "import pandas as pd\n",
    "import numpy as np\n",
    "import os, sys, inspect\n",
    "import commands\n",
    "from hep import *"
   ]
  },
  {
   "cell_type": "markdown",
   "metadata": {},
   "source": [
    "T13A-Feynrules\n",
    "https://fisica.udea.edu.co:4443/user/restrepo/notebooks/prog/2016/micromegas_feynrules/correr_micrOMEGAs-markov.ipynb"
   ]
  },
  {
   "cell_type": "markdown",
   "metadata": {},
   "source": [
    "\n",
    "## Check one point"
   ]
  },
  {
   "cell_type": "code",
   "execution_count": null,
   "metadata": {
    "collapsed": true
   },
   "outputs": [],
   "source": [
    "#1. CHOOSE A BENCHMARK POINT  \n",
    "#if 1==1:\n",
    "#    MDF = 110.;MN = 101.;tanb = 10.0;lam = 0.15;v=246.2196; \n",
    "def run_point(MDF = 110.,MN = 101.,tanb = 10.0,lam = 0.15,v=246.2196,path='../micromegas/SDFDM/main'):\n",
    "    o={}\n",
    "    #2. File to run micrOMEGAS installed in galcen\n",
    "    f1 = open(\"input.par\",\"w\") \n",
    "\n",
    "    lu=lam*np.sin(np.arctan(tanb))\n",
    "    ld=lam*np.cos(np.arctan(tanb))\n",
    "    \n",
    "\n",
    "    M=np.matrix([[ MN,                -ld*v/np.sqrt(2.),  lu*v/np.sqrt(2.)],\n",
    "             [ -ld*v/np.sqrt(2.),  0.,                MDF ],\n",
    "             [ lu*v/np.sqrt(2.),  MDF,               0. ]])\n",
    "\n",
    "    (Mchi,N)=np.linalg.eig(M)\n",
    "\n",
    "    f1.write('MDF'+'\\t'+str(MDF)+'\\n'+'MN'+'\\t'+str(MN)+'\\n'+'ld'+'\\t'+str(ld)+'\\n'+'lu'+'\\t'+str(lu)+'\\n'\\\n",
    "        +'N11'+'\\t'+str(N[0,0])+'\\n'+'N12'+'\\t'+str(N[0,1])+'\\n'+'N13'+'\\t'+str(N[0,2])+'\\n'\\\n",
    "        +'N21'+'\\t'+str(N[1,0])+'\\n'+'N22'+'\\t'+str(N[1,1])+'\\n'+'N23'+'\\t'+str(N[1,2])+'\\n'\\\n",
    "        +'N31'+'\\t'+str(N[2,0])+'\\n'+'N32'+'\\t'+str(N[2,1])+'\\n'+'N33'+'\\t'+str(N[2,2])+'\\n')\n",
    "    #Close file\n",
    "    f1.close()     \n",
    "\n",
    "    #3. Run micromegas\n",
    "    mo=commands.getoutput('%s input.par' %path)\n",
    "\n",
    "    #4. Extrac some of the output (Dependence of the micrOMEGAs vertion)\n",
    "    o['Full']=mo\n",
    "    o['Mchi']=Mchi\n",
    "    o['N']=N\n",
    "    o['Omega']=eval(mo.split('Omega=')[1].split('\\n')[0])\n",
    "    o['SI']=eval(mo.split('proton  SI')[1].split('[')[0])\n",
    "    o['SD']=eval(mo.split('proton  SI')[1].split('SD')[1].split('[')[0])\n",
    "    o['sigmav']=eval(mo.split('annihilation cross section')[1].split('cm^3/s\\n')[0])\n",
    "    return o"
   ]
  },
  {
   "cell_type": "code",
   "execution_count": null,
   "metadata": {
    "collapsed": true
   },
   "outputs": [],
   "source": []
  },
  {
   "cell_type": "code",
   "execution_count": 4,
   "metadata": {
    "collapsed": false
   },
   "outputs": [],
   "source": [
    "a=hep(MODEL='SimplifiedDMDFDM')"
   ]
  },
  {
   "cell_type": "markdown",
   "metadata": {},
   "source": [
    "`a-object` is an object with many attributes and methods. Use the tab to explore them. Some of them are\n",
    "* a.Series: [pandas](http://pandas.pydata.org/) Series object with the \"relevant\" variables \n",
    "* a.LHA: Input LesHouces file as [pyslha](https://pypi.python.org/pypi/pyslha/) object\n",
    "* a.runSPheno() -> a.LHA_out: return LHA output files as [pyslha](https://pypi.python.org/pypi/pyslha/) object\n",
    "* a.runmicromegas() -> a.runSPheno() -> Updated the `a-object`  with micrOMEGAS \"relevant\" output"
   ]
  },
  {
   "cell_type": "code",
   "execution_count": 25,
   "metadata": {
    "collapsed": false
   },
   "outputs": [
    {
     "name": "stdout",
     "output_type": "stream",
     "text": [
      "Omega h^2, SI proton, neutron = 0.114 0.0001702 0.007421\n"
     ]
    }
   ],
   "source": [
    "v=a.vev\n",
    "#lambda_1=0.13\n",
    "mdf=1100\n",
    "devnull=commands.getoutput('rm -f SPheno.spc.%s' %a.MODEL)\n",
    "a.LHA.blocks['SPHENOINPUT'].entries[55]='0               # Calculate one loop masses'\n",
    "a.LHA.blocks['MINPAR'][2]='%0.8E       #MDFINPUT' %mdf\n",
    "moc=a.runmicromegas(Direct_Detection=True)\n",
    "print 'Omega h^2, SI proton, neutron =',a.Series.Omega_h2,a.Series.proton_SI,a.Series.neutron_SI"
   ]
  },
  {
   "cell_type": "code",
   "execution_count": 6,
   "metadata": {
    "collapsed": false
   },
   "outputs": [
    {
     "name": "stdout",
     "output_type": "stream",
     "text": [
      "Omega h^2, SI proton, neutron = 0.114 0.0001702 0.007421\n"
     ]
    }
   ],
   "source": [
    "v=a.vev\n",
    "#lambda_1=0.13\n",
    "mdf=1100\n",
    "devnull=commands.getoutput('rm -f SPheno.spc.%s' %a.MODEL)\n",
    "a.LHA.blocks['SPHENOINPUT'].entries[55]='0               # Calculate one loop masses'\n",
    "a.LHA.blocks['MINPAR'][2]='%0.8E       #MDFINPUT' %mdf\n",
    "moc=a.runmicromegas(Direct_Detection=True)\n",
    "print 'Omega h^2, SI proton, neutron =',a.Series.Omega_h2,a.Series.proton_SI,a.Series.neutron_SI"
   ]
  },
  {
   "cell_type": "markdown",
   "metadata": {},
   "source": [
    "## Scan $m_{DM}$"
   ]
  },
  {
   "cell_type": "code",
   "execution_count": 8,
   "metadata": {
    "collapsed": false,
    "scrolled": true
   },
   "outputs": [
    {
     "name": "stdout",
     "output_type": "stream",
     "text": [
      "0\n",
      "10\n",
      "20\n",
      "30\n",
      "40\n",
      "50\n",
      "60\n",
      "70\n",
      "80\n",
      "90\n"
     ]
    }
   ],
   "source": [
    "df=pd.DataFrame()\n",
    "a.LHA.blocks['SPHENOINPUT'].entries[55]='0               # Calculate one loop masses'\n",
    "dm_masses=np.linspace(100,1200,100)\n",
    "for MDM in dm_masses:\n",
    "    if np.where(dm_masses==MDM)[0][0]%10==0: #find the index of the array entry\n",
    "        print np.where(dm_masses==MDM)[0][0]\n",
    "    a.LHA.blocks['MINPAR'][2]='%0.8E       #MDFINPYT' %MDM\n",
    "    a.runmicromegas(Direct_Detection=True)\n",
    "    a.Series=a.Series.append(pd.Series({'MDF':MDM}))\n",
    "    df=df.append(a.Series,ignore_index=True)"
   ]
  },
  {
   "cell_type": "markdown",
   "metadata": {},
   "source": [
    "### Relic density"
   ]
  },
  {
   "cell_type": "code",
   "execution_count": 17,
   "metadata": {
    "collapsed": false
   },
   "outputs": [
    {
     "data": {
      "image/png": "[encoded data removed]",
      "text/plain": [
       "<matplotlib.figure.Figure at 0x7feafd1acb90>"
      ]
     },
     "metadata": {},
     "output_type": "display_data"
    }
   ],
   "source": [
    "plt.semilogy(df.MDF,df.Omega_h2,'r-')\n",
    "plt.xlabel(r'$m_{\\rm DM}$ [GeV]',size=20)\n",
    "plt.ylabel(r'$\\Omega h^2$',size=20)\n",
    "plt.grid()\n",
    "plt.savefig('omega.pdf')\n"
   ]
  },
  {
   "cell_type": "code",
   "execution_count": 18,
   "metadata": {
    "collapsed": false
   },
   "outputs": [
    {
     "data": {
      "image/png": "[encoded data removed]",
      "text/plain": [
       "<matplotlib.figure.Figure at 0x7feb03db3450>"
      ]
     },
     "metadata": {},
     "output_type": "display_data"
    }
   ],
   "source": [
    "plt.semilogy(df.MDF,df.proton_SI,'r-')\n",
    "plt.xlabel(r'$m_{\\rm DM}$ [GeV]',size=20)\n",
    "plt.ylabel(r'Direct Detection [pb]' ,size=20)\n",
    "plt.savefig('dd.pdf')"
   ]
  },
  {
   "cell_type": "markdown",
   "metadata": {},
   "source": [
    "[Jupyter home](./draft.pdf)"
   ]
  }
 ],
 "metadata": {
  "kernelspec": {
   "display_name": "Python 2",
   "language": "python",
   "name": "python2"
  },
  "language_info": {
   "codemirror_mode": {
    "name": "ipython",
    "version": 2
   },
   "file_extension": ".py",
   "mimetype": "text/x-python",
   "name": "python",
   "nbconvert_exporter": "python",
   "pygments_lexer": "ipython2",
   "version": "2.7.9"
  }
 },
 "nbformat": 4,
 "nbformat_minor": 0
}
