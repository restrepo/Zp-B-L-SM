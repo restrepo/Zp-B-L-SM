{
 "cells": [
  {
   "cell_type": "markdown",
   "metadata": {},
   "source": [
    "#  Singlet doublet fermion dark matter model"
   ]
  },
  {
   "cell_type": "markdown",
   "metadata": {},
   "source": [
    "We expect here degenerate masses so we must be carefull about the DM particles that is registered by micrOMEGAS:\n",
    "\n",
    "We need to edit prtcls1.mld to have the righ order with Nv0 appearing first"
   ]
  },
  {
   "cell_type": "code",
   "execution_count": 1,
   "metadata": {
    "collapsed": false
   },
   "outputs": [
    {
     "name": "stdout",
     "output_type": "stream",
     "text": [
      "Populating the interactive namespace from numpy and matplotlib\n"
     ]
    }
   ],
   "source": [
    "%pylab inline"
   ]
  },
  {
   "cell_type": "code",
   "execution_count": 2,
   "metadata": {
    "collapsed": false
   },
   "outputs": [],
   "source": [
    "import pandas as pd\n",
    "import numpy as np\n",
    "import os, sys, inspect\n",
    "import commands\n",
    "from hep import *"
   ]
  },
  {
   "cell_type": "markdown",
   "metadata": {},
   "source": [
    "Define functions to change from general basis to physical basis "
   ]
  },
  {
   "cell_type": "markdown",
   "metadata": {},
   "source": [
    "Define function to run official micromegas IDM"
   ]
  },
  {
   "cell_type": "code",
   "execution_count": 3,
   "metadata": {
    "collapsed": true
   },
   "outputs": [],
   "source": [
    "def run_official_idm_lha(spc,check=False):\n",
    "    '''\n",
    "    Standard PDGs for inert scalars\n",
    "    '''\n",
    "    laL=(spc.blocks['MINPAR'][3]+spc.blocks['MINPAR'][4]+spc.blocks['MINPAR'][5])/2.\n",
    "    MDM=spc.blocks['MASS'][35];MH3=spc.blocks['MASS'][36];MHC=spc.blocks['MASS'][37]\n",
    "    la2=spc.blocks['MINPAR'][2];Mh=spc.blocks['MASS'][25]\n",
    "    return run_official_idm(MDM,MH3,MHC,laL,la2,Mh,check=check)"
   ]
  },
  {
   "cell_type": "markdown",
   "metadata": {},
   "source": [
    "\n",
    "## Check one point"
   ]
  },
  {
   "cell_type": "code",
   "execution_count": 4,
   "metadata": {
    "collapsed": false
   },
   "outputs": [],
   "source": [
    "a=hep(MODEL='SimplifiedDMDFDM')"
   ]
  },
  {
   "cell_type": "markdown",
   "metadata": {},
   "source": [
    "`a-object` is an object with many attributes and methods. Use the tab to explore them. Some of them are\n",
    "* a.Series: [pandas](http://pandas.pydata.org/) Series object with the \"relevant\" variables \n",
    "* a.LHA: Input LesHouces file as [pyslha](https://pypi.python.org/pypi/pyslha/) object\n",
    "* a.runSPheno() -> a.LHA_out: return LHA output files as [pyslha](https://pypi.python.org/pypi/pyslha/) object\n",
    "* a.runmicromegas() -> a.runSPheno() -> Updated the `a-object`  with micrOMEGAS \"relevant\" output"
   ]
  },
  {
   "cell_type": "code",
   "execution_count": 5,
   "metadata": {
    "collapsed": false
   },
   "outputs": [
    {
     "data": {
      "text/plain": [
       "_dict([('MODSEL',\n",
       "        MODSEL { 1 : 1              #  1/0: High/low scale input ; 2 : 1              # Boundary Condition  ; 6 : 1              # Generation Mixing  }),\n",
       "       ('SMINPUTS',\n",
       "        SMINPUTS { 2 : 1.166370E-05   # G_F,Fermi constant ; 3 : 1.187000E-01   # alpha_s(MZ) SM MSbar ; 4 : 9.118870E+01   # Z-boson pole mass ; 5 : 4.180000E+00   # m_b(mb) SM MSbar ; 6 : 1.735000E+02   # m_top(pole) ; 7 : 1.776690E+00   # m_tau(pole)  }),\n",
       "       ('MINPAR',\n",
       "        MINPAR { 1 : 1.3000000E-01  # lambda1INPUT; 2 : 2.0000000E+02  # MDFINPUT }),\n",
       "       ('SPHENOINPUT',\n",
       "        SPHENOINPUT { 1 : -1             # error level ; 2 : 0              # SPA conventions ; 11 : 1              # calculate branching ratios ; 13 : 1               # 3-Body decays: none (0), fermion (1), scalar (2), both (3); 14 : 0              # Run couplings to scale of decaying particle ; 12 : 1.000E-15       # write only branching ratios larger than this value; 15 : 1.000E-40       # write only decay if width larger than this value; 31 : -1             # fixed GUT scale (-1: dynamical GUT scale) ; 32 : 0              # Strict unification ; 34 : 1.000E-04      # Precision of mass calculation ; 35 : 40             # Maximal number of iterations; 36 : 5              # Minimal number of iterations before discarding points; 37 : 1              # Set Yukawa scheme  ; 38 : 2              # 1- or 2-Loop RGEs ; 50 : 0               # Majorana phases: use only positive masses; 51 : 0              # Write Output in CKM basis ; 52 : 1               # Write spectrum in case of tachyonic states; 55 : 0              # Calculate loop corrected masses ; 61 : 0              # Running SM parameters; 57 : 1              # Calculate low energy constraints ; 65 : 1              # Solution tadpole equation ; 75 : 1              # Write WHIZARD files ; 76 : 1              # Write HiggsBounds file   ; 86 : 0.             # Maximal width to be counted as invisible in Higgs decays; -1: only LSP ; 510 : 0.             # Write tree level values for tadpole solutions ; 515 : 0              # Write parameter values at GUT scale ; 520 : 1.             # Write effective Higgs couplings (HiggsBounds blocks): put 0 to use file with MadGraph! ; 521 : 1.             # Diphoton/Digluon widths including higher order ; 525 : 0.             # Write loop contributions to diphoton decay of Higgs ; 530 : 1.             # Write Blocks for Vevacious  })])"
      ]
     },
     "execution_count": 5,
     "metadata": {},
     "output_type": "execute_result"
    }
   ],
   "source": [
    "a.LHA.blocks"
   ]
  },
  {
   "cell_type": "code",
   "execution_count": 6,
   "metadata": {
    "collapsed": false
   },
   "outputs": [
    {
     "name": "stdout",
     "output_type": "stream",
     "text": [
      "Omega h^2, SI proton, neutron = 0.114 0.0001702 0.007421\n"
     ]
    }
   ],
   "source": [
    "v=a.vev\n",
    "#lambda_1=0.13\n",
    "mdf=1100\n",
    "devnull=commands.getoutput('rm -f SPheno.spc.%s' %a.MODEL)\n",
    "a.LHA.blocks['SPHENOINPUT'].entries[55]='0               # Calculate one loop masses'\n",
    "a.LHA.blocks['MINPAR'][2]='%0.8E       #MDFINPYT' %mdf\n",
    "moc=a.runmicromegas(Direct_Detection=True)\n",
    "print 'Omega h^2, SI proton, neutron =',a.Series.Omega_h2,a.Series.proton_SI,a.Series.neutron_SI"
   ]
  },
  {
   "cell_type": "markdown",
   "metadata": {},
   "source": [
    "See full `LesHouches.in.SimplifiedDMIDM` and `SPheno.spc.SimplifiedDMIDM` in __Appendix 1__"
   ]
  },
  {
   "cell_type": "markdown",
   "metadata": {},
   "source": [
    "See full micromegas input in __Appendix 2__"
   ]
  },
  {
   "cell_type": "markdown",
   "metadata": {},
   "source": [
    "## Scan $m_{H^0}$\n",
    "For the next two plots we fix:\n",
    "* $m_h=126\\ \\text{GeV}  $\n",
    "* $m_{A^0}= 701\\ \\text{GeV}  $\n",
    "* $m_{H^+}= 701\\ \\text{GeV}  $\n",
    "* $\\lambda_L=0.1$\n",
    "\n",
    "And vary \n",
    "* $40< m_{H^0}/\\text{GeV}< 700$"
   ]
  },
  {
   "cell_type": "code",
   "execution_count": 8,
   "metadata": {
    "collapsed": false,
    "scrolled": true
   },
   "outputs": [
    {
     "name": "stdout",
     "output_type": "stream",
     "text": [
      "0\n",
      "10\n",
      "20\n",
      "30\n",
      "40\n",
      "50\n",
      "60\n",
      "70\n",
      "80\n",
      "90\n"
     ]
    }
   ],
   "source": [
    "df=pd.DataFrame()\n",
    "a.LHA.blocks['SPHENOINPUT'].entries[55]='0               # Calculate one loop masses'\n",
    "dm_masses=np.linspace(100,1200,100)\n",
    "for MDM in dm_masses:\n",
    "    if np.where(dm_masses==MDM)[0][0]%10==0: #find the index of the array entry\n",
    "        print np.where(dm_masses==MDM)[0][0]\n",
    "    a.LHA.blocks['MINPAR'][2]='%0.8E       #MDFINPYT' %MDM\n",
    "    a.runmicromegas(Direct_Detection=True)\n",
    "    a.Series=a.Series.append(pd.Series({'MDF':MDM}))\n",
    "    df=df.append(a.Series,ignore_index=True)"
   ]
  },
  {
   "cell_type": "markdown",
   "metadata": {},
   "source": [
    "### Relic density"
   ]
  },
  {
   "cell_type": "code",
   "execution_count": 17,
   "metadata": {
    "collapsed": false
   },
   "outputs": [
    {
     "data": {
      "image/png": "[encoded data removed]",
      "text/plain": [
       "<matplotlib.figure.Figure at 0x7feafd1acb90>"
      ]
     },
     "metadata": {},
     "output_type": "display_data"
    }
   ],
   "source": [
    "plt.semilogy(df.MDF,df.Omega_h2,'r-')\n",
    "plt.xlabel(r'$m_{\\rm DM}$ [GeV]',size=20)\n",
    "plt.ylabel(r'$\\Omega h^2$',size=20)\n",
    "plt.grid()\n",
    "plt.savefig('omega.pdf')\n"
   ]
  },
  {
   "cell_type": "code",
   "execution_count": 18,
   "metadata": {
    "collapsed": false
   },
   "outputs": [
    {
     "data": {
      "image/png": "[encoded data removed]",
      "text/plain": [
       "<matplotlib.figure.Figure at 0x7feb03db3450>"
      ]
     },
     "metadata": {},
     "output_type": "display_data"
    }
   ],
   "source": [
    "plt.semilogy(df.MDF,df.proton_SI,'r-')\n",
    "plt.xlabel(r'$m_{\\rm DM}$ [GeV]',size=20)\n",
    "plt.ylabel(r'Direct Detection [pb]' ,size=20)\n",
    "plt.savefig('dd.pdf')"
   ]
  },
  {
   "cell_type": "markdown",
   "metadata": {},
   "source": [
    "### Conclusion\n",
    "The relic density is OK but the direct detection is a factor around 1.5 larger"
   ]
  },
  {
   "cell_type": "markdown",
   "metadata": {},
   "source": [
    "## Bug in SARAH\n",
    "The big problem appears for a degenate spectrum. For the next two plots we fix \n",
    "* $m_h=126\\ \\text{GeV} $\n",
    "* $\\lambda_L=0.1$\n",
    "\n",
    "And vary $m_{\\text{DM}}= m_{H^0}=m_{A^0}=m_{A^0}$\n",
    "* $90< m_{\\text{DM}}/\\text{GeV}< 700$\n",
    "\n",
    "After fix by hand [prtcls1.mdl](../micromegas/SimplifiedDMIDM/work/models/prtcls1.mdl), the problem disappear"
   ]
  },
  {
   "cell_type": "code",
   "execution_count": 9,
   "metadata": {
    "collapsed": false
   },
   "outputs": [
    {
     "name": "stdout",
     "output_type": "stream",
     "text": [
      "0\n",
      "10\n",
      "20\n",
      "30\n",
      "40\n",
      "50\n",
      "60\n",
      "70\n",
      "80\n",
      "90\n"
     ]
    }
   ],
   "source": [
    "dfd=pd.DataFrame()\n",
    "ipt=pd.Series({'MDM':40,'MH3':120,'MHC':120,'lambda_L':0.1})\n",
    "a.LHA.blocks['SPHENOINPUT'].entries[55]='0               # Calculate one loop masses'\n",
    "dm_masses=np.linspace(90,700,100)\n",
    "for MDM in dm_masses:\n",
    "    if np.where(dm_masses==MDM)[0][0]%10==0: #find the index of the array entry\n",
    "        print np.where(dm_masses==MDM)[0][0]\n",
    "    ipt.MDM=MDM\n",
    "    ipt.MH3=MDM\n",
    "    ipt.MHC=MDM\n",
    "    mu2,lambda_3,lambda_4,lambda_5=phys_to_int(ipt.MDM,ipt.MH3,ipt.MHC,ipt.lambda_L,a.vev)\n",
    "    a.LHA.blocks['MINPAR'][5]='%0.8E       #lambda5Input' %lambda_5\n",
    "    a.LHA.blocks['MINPAR'][3]='%0.8E       #lambda4Input' %lambda_3\n",
    "    a.LHA.blocks['MINPAR'][4]='%0.8E       #lambda3Input' %lambda_4\n",
    "    a.LHA.blocks['MINPAR'][6]='%0.8E       #mEt2Input' %mu2\n",
    "    a.runmicromegas(Direct_Detection=True)\n",
    "    a.Series=a.Series.append(ipt)\n",
    "    a.Series=a.Series.append(pd.Series({'MH0':a.LHA_out.blocks['MASS'][35],\\\n",
    "                                        'MA0':a.LHA_out.blocks['MASS'][36],\\\n",
    "                                        'MHc':a.LHA_out.blocks['MASS'][37]}))\n",
    "    omhof=run_official_idm_lha(a.LHA_out,check=True)\n",
    "    omo=a.micromegas_output(omhof)\n",
    "    a.Series['Omega_h2_official']=omo.Omega_h2\n",
    "    a.Series['proton_SI_official']=omo.proton.SI\n",
    "    a.Series['neutron_SI_official']=omo.neutron.SI\n",
    "    dfd=dfd.append(a.Series,ignore_index=True)"
   ]
  },
  {
   "cell_type": "code",
   "execution_count": 10,
   "metadata": {
    "collapsed": false
   },
   "outputs": [
    {
     "data": {
      "image/png": "[encoded data removed]",
      "text/plain": [
       "<matplotlib.figure.Figure at 0x7ff7e35ce1d0>"
      ]
     },
     "metadata": {},
     "output_type": "display_data"
    }
   ],
   "source": [
    "plt.semilogy(dfd.MH0,dfd.proton_SI,'k-',label='SARAH')\n",
    "plt.semilogy(dfd.MH0,dfd.proton_SI_official,'r--',label='micromegas/IDM')\n",
    "plt.xlabel(r'$m_{H^0}$ [GeV]',size=20)\n",
    "plt.ylabel(r'Direct Detection [pb]' ,size=20)\n",
    "plt.legend(loc='best')\n",
    "plt.savefig('ddd.pdf')"
   ]
  },
  {
   "cell_type": "markdown",
   "metadata": {},
   "source": [
    "### Conclusion\n",
    "In [prtcls1.mdl](../micromegas/SimplifiedDMIDM/work/models/prtcls1.mdl) the order of the particles may be important"
   ]
  },
  {
   "cell_type": "markdown",
   "metadata": {},
   "source": [
    "## Wrong benchmark\n",
    "We now will produce specific input/output files for the bug report\n",
    "### SARAH"
   ]
  },
  {
   "cell_type": "code",
   "execution_count": 13,
   "metadata": {
    "collapsed": false
   },
   "outputs": [
    {
     "name": "stdout",
     "output_type": "stream",
     "text": [
      "Omega h^2, SI proton, neutron = 0.114 0.0001702 0.007421\n"
     ]
    }
   ],
   "source": [
    "mdf=1100\n",
    "devnull=commands.getoutput('rm -f SPheno.spc.%s' %a.MODEL)\n",
    "a.LHA.blocks['SPHENOINPUT'].entries[55]='0               # Calculate one loop masses'\n",
    "a.LHA.blocks['MINPAR'][2]='%0.8E       #MDFINPYT' %mdf\n",
    "moc=a.runmicromegas(Direct_Detection=True)\n",
    "print 'Omega h^2, SI proton, neutron =',a.Series.Omega_h2,a.Series.proton_SI,a.Series.neutron_SI"
   ]
  },
  {
   "cell_type": "code",
   "execution_count": 14,
   "metadata": {
    "collapsed": false
   },
   "outputs": [
    {
     "name": "stdout",
     "output_type": "stream",
     "text": [
      "Omega h^2, SI proton, neutron = 0.359 0.0001703 0.007427\n"
     ]
    }
   ],
   "source": [
    "mdf=2000\n",
    "devnull=commands.getoutput('rm -f SPheno.spc.%s' %a.MODEL)\n",
    "a.LHA.blocks['SPHENOINPUT'].entries[55]='0               # Calculate one loop masses'\n",
    "a.LHA.blocks['MINPAR'][2]='%0.8E       #MDFINPYT' %mdf\n",
    "moc=a.runmicromegas(Direct_Detection=True)\n",
    "print 'Omega h^2, SI proton, neutron =',a.Series.Omega_h2,a.Series.proton_SI,a.Series.neutron_SI"
   ]
  },
  {
   "cell_type": "code",
   "execution_count": 15,
   "metadata": {
    "collapsed": false
   },
   "outputs": [
    {
     "name": "stdout",
     "output_type": "stream",
     "text": [
      "Omega h^2, SI proton, neutron = 0.00422 0.0001689 0.007365\n"
     ]
    }
   ],
   "source": [
    "mdf=200\n",
    "devnull=commands.getoutput('rm -f SPheno.spc.%s' %a.MODEL)\n",
    "a.LHA.blocks['SPHENOINPUT'].entries[55]='0               # Calculate one loop masses'\n",
    "a.LHA.blocks['MINPAR'][2]='%0.8E       #MDFINPYT' %mdf\n",
    "moc=a.runmicromegas(Direct_Detection=True)\n",
    "print 'Omega h^2, SI proton, neutron =',a.Series.Omega_h2,a.Series.proton_SI,a.Series.neutron_SI"
   ]
  },
  {
   "cell_type": "markdown",
   "metadata": {},
   "source": [
    "Dear Carolina and Martin,\n",
    "\n",
    "I have implemented the doublet fermion dark matter model in SARAH, one of the simplest dark matter modeles which is already excluded by direct detection. After fix the order of the inert particles in work/models/prtcls1.mdl of micromegas model to be sure that the DM particle is the neutral one, I have again the result that the DD cross section for de Dirac dark matter candidate is again independent of the DM mass. Therefore we need to understand why this could be happen, whcih must be rather easy because this was the characterisc WIMP model through the Z portal, or report the bug to Florian.\n",
    "\n",
    "\n"
   ]
  },
  {
   "cell_type": "markdown",
   "metadata": {},
   "source": [
    "##  Appendix 1\n",
    "Full input/output for check point with\n",
    "* $m_h=126 $GeV\n",
    "* $m_[H^0]= 65\\ \\text{GeV}$\n",
    "* $m_[A^0]= 701\\ \\text{GeV}  $\n",
    "* $m_[H^+]= 701\\ \\text{GeV}  $\n",
    "* $\\lambda_L=0.01$"
   ]
  },
  {
   "cell_type": "code",
   "execution_count": 10,
   "metadata": {
    "collapsed": false
   },
   "outputs": [
    {
     "name": "stdout",
     "output_type": "stream",
     "text": [
      "BLOCK MODSEL\r\n",
      "   1   1              #  1/0: High/low scale input \r\n",
      "   2   1              # Boundary Condition  \r\n",
      "   6   1              # Generation Mixing \r\n",
      "\r\n",
      "BLOCK SMINPUTS\r\n",
      "   2   1.166370E-05   # G_F,Fermi constant \r\n",
      "   3   1.187000E-01   # alpha_s(MZ) SM MSbar \r\n",
      "   4   9.118870E+01   # Z-boson pole mass \r\n",
      "   5   4.180000E+00   # m_b(mb) SM MSbar \r\n",
      "   6   1.735000E+02   # m_top(pole) \r\n",
      "   7   1.776690E+00   # m_tau(pole) \r\n",
      "\r\n",
      "BLOCK MINPAR\r\n",
      "   1   1.3000000E-01  # lambda1Input\r\n",
      "   2   0.0000000E+00  # lambda2Input\r\n",
      "   3   1.60918999E+01       #lambda3Input\r\n",
      "   4   -8.03594996E+00       #lambda4Input\r\n",
      "   5   -8.03594996E+00       #lambda5Input\r\n",
      "   6   3.61875431E+03       #mEt2Input\r\n",
      "\r\n",
      "BLOCK SPHENOINPUT\r\n",
      "   1   -1             # error level \r\n",
      "   2   0              # SPA conventions \r\n",
      "   11   1              # calculate branching ratios \r\n",
      "   13   1               # 3-Body decays: none (0), fermion (1), scalar (2), both (3)\r\n",
      "   14   0              # Run couplings to scale of decaying particle \r\n",
      "   12   1.000E-15       # write only branching ratios larger than this value\r\n",
      "   15   1.000E-40       # write only decay if width larger than this value\r\n",
      "   31   -1             # fixed GUT scale (-1: dynamical GUT scale) \r\n",
      "   32   0              # Strict unification \r\n",
      "   34   1.000E-04      # Precision of mass calculation \r\n",
      "   35   40             # Maximal number of iterations\r\n",
      "   36   5              # Minimal number of iterations before discarding points\r\n",
      "   37   1              # Set Yukawa scheme  \r\n",
      "   38   2              # 1- or 2-Loop RGEs \r\n",
      "   50   0               # Majorana phases: use only positive masses\r\n",
      "   51   0              # Write Output in CKM basis \r\n",
      "   52   1               # Write spectrum in case of tachyonic states\r\n",
      "   55   0               # Calculate one loop masses\r\n",
      "   61   0              # Running SM parameters\r\n",
      "   57   1              # Calculate low energy constraints \r\n",
      "   65   1              # Solution tadpole equation \r\n",
      "   75   1              # Write WHIZARD files \r\n",
      "   76   1              # Write HiggsBounds file   \r\n",
      "   86   0.             # Maximal width to be counted as invisible in Higgs decays; -1: only LSP \r\n",
      "   510   0.             # Write tree level values for tadpole solutions \r\n",
      "   515   0              # Write parameter values at GUT scale \r\n",
      "   520   1.             # Write effective Higgs couplings (HiggsBounds blocks): put 0 to use file with MadGraph! \r\n",
      "   521   1.             # Diphoton/Digluon widths including higher order \r\n",
      "   525   0.             # Write loop contributions to diphoton decay of Higgs \r\n",
      "   530   1.             # Write Blocks for Vevacious "
     ]
    }
   ],
   "source": [
    "cat LesHouches.in.SimplifiedDMIDM"
   ]
  },
  {
   "cell_type": "code",
   "execution_count": 11,
   "metadata": {
    "collapsed": false
   },
   "outputs": [
    {
     "name": "stdout",
     "output_type": "stream",
     "text": [
      "# SUSY Les Houches Accord 2 - SimplifiedDM/IDM Spectrum + Decays + Flavor Observables\r\n",
      "# SPheno module generated by SARAH\r\n",
      "# ----------------------------------------------------------------------\r\n",
      "# SPheno v3.3.8  \r\n",
      "#   W. Porod, Comput. Phys. Commun. 153 (2003) 275-315, hep-ph/0301101\r\n",
      "#   W. Porod, F.Staub, Comput.Phys.Commun.183 (2012) 2458-2469, arXiv:1104.1573\r\n",
      "# SARAH: 4.8.5   \r\n",
      "#   F. Staub; arXiv:0806.0538 (online manual)\r\n",
      "#   F. Staub; Comput. Phys. Commun. 181 (2010) 1077-1086; arXiv:0909.2863\r\n",
      "#   F. Staub; Comput. Phys. Commun. 182 (2011)  808-833; arXiv:1002.0840\r\n",
      "#   F. Staub; Comput. Phys. Commun. 184 (2013)  1792-1809; arXiv:1207.0906\r\n",
      "#   F. Staub; Comput. Phys. Commun. 185 (2014)  1773-1790; arXiv:1309.7223 \r\n",
      "# Including the calculation of flavor observables based on the FlavorKit \r\n",
      "#   W. Porod, F. Staub, A. Vicente; Eur.Phys.J. C74 (2014) 8, 2992; arXiv:1405.1434 \r\n",
      "# Two-loop masss corrections to Higgs fields based on \r\n",
      "#   M. D. Goodsell, K. Nickel, F. Staub; arXiv:1411.0675 \r\n",
      "#   M. D. Goodsell, K. Nickel, F. Staub; arXiv:1503.03098\r\n",
      "#  \r\n",
      "# in case of problems send email to florian.staub@cern.ch and goodsell@lpthe.jussieu.fr \r\n",
      "# ----------------------------------------------------------------------\r\n",
      "# Created: 15.06.2016,  13:49\r\n",
      "Block SPINFO         # Program information\r\n",
      "     1   SPhenoSARAH      # spectrum calculator\r\n",
      "     2   v3.3.8      # version number of SPheno\r\n",
      "     9   4.8.5       # version number of SARAH\r\n",
      "Block MODSEL  # Input parameters\r\n",
      "     1  1   #  GUT scale input\r\n",
      "     2  1   #  Boundary conditions \r\n",
      "     6  1   #  switching on flavour violation\r\n",
      "Block MINPAR  # Input parameters\r\n",
      "    1    1.30000000E-01  # lambda1Input\r\n",
      "    2    0.00000000E+00  # lambda2Input\r\n",
      "    3    1.60918999E+01  # lambda3Input\r\n",
      "    4   -8.03594996E+00  # lambda4Input\r\n",
      "    5   -8.03594996E+00  # lambda5Input\r\n",
      "    6    3.61875431E+03  # mEt2Input\r\n",
      "Block gaugeGUT Q= -1.00000000E+00  # (GUT scale)\r\n",
      "   1    0.00000000E+00  # g1(Q)^DRbar\r\n",
      "   2    0.00000000E+00  # g2(Q)^DRbar\r\n",
      "   3    0.00000000E+00  # g3(Q)^DRbar\r\n",
      "Block SMINPUTS  # SM parameters\r\n",
      "         2     1.16637000E-05  # G_mu [GeV^-2]\r\n",
      "         3     1.18700000E-01  # alpha_s(MZ)^MSbar\r\n",
      "         4     9.11887000E+01  # m_Z(pole)\r\n",
      "         5     4.18000000E+00  # m_b(m_b), MSbar\r\n",
      "         6     1.73500000E+02  # m_t(pole)\r\n",
      "         7     1.77669000E+00  # m_tau(pole)\r\n",
      "Block GAUGE Q=  1.60000000E+02  # (Renormalization Scale)\r\n",
      "   1    3.55734740E-01  # g1\r\n",
      "   2    6.62881508E-01  # g2\r\n",
      "   3    1.22132231E+00  # g3\r\n",
      "Block HDM Q=  1.60000000E+02  # (Renormalization Scale)\r\n",
      "   2    1.30000000E-01  # lam1\r\n",
      "   3    0.00000000E+00  # lam2\r\n",
      "   5   -8.03594996E+00  # lam4\r\n",
      "   4    1.60918999E+01  # lam3\r\n",
      "   6   -8.03594996E+00  # lam5\r\n",
      "   1    3.61875431E+03  # mEt2\r\n",
      "Block SM Q=  1.60000000E+02  # (Renormalization Scale)\r\n",
      "   3   -7.88119392E+03  # mH2\r\n",
      "Block HMIX Q=  1.60000000E+02  # (Renormalization Scale)\r\n",
      "   3    2.46220569E+02  # v\r\n",
      "Block TREESM Q=  1.60000000E+02  # (Renormalization Scale)\r\n",
      "   3   -7.88119392E+03  # mH2\r\n",
      "Block LOOPSM Q=  1.60000000E+02  # (Renormalization Scale)\r\n",
      "   3    0.00000000E+00  # mH2\r\n",
      "Block Yu Q=  1.60000000E+02  # (Renormalization Scale)\r\n",
      "  1  1     1.43592143E-05   # Real(Yu(1,1),dp)\r\n",
      "  1  2     0.00000000E+00   # Real(Yu(1,2),dp)\r\n",
      "  1  3     0.00000000E+00   # Real(Yu(1,3),dp)\r\n",
      "  2  1     0.00000000E+00   # Real(Yu(2,1),dp)\r\n",
      "  2  2     7.29448084E-03   # Real(Yu(2,2),dp)\r\n",
      "  2  3     0.00000000E+00   # Real(Yu(2,3),dp)\r\n",
      "  3  1     0.00000000E+00   # Real(Yu(3,1),dp)\r\n",
      "  3  2     0.00000000E+00   # Real(Yu(3,2),dp)\r\n",
      "  3  3     9.96529469E-01   # Real(Yu(3,3),dp)\r\n",
      "Block Yd Q=  1.60000000E+02  # (Renormalization Scale)\r\n",
      "  1  1     2.87184285E-05   # Real(Yd(1,1),dp)\r\n",
      "  1  2     0.00000000E+00   # Real(Yd(1,2),dp)\r\n",
      "  1  3     0.00000000E+00   # Real(Yd(1,3),dp)\r\n",
      "  2  1     0.00000000E+00   # Real(Yd(2,1),dp)\r\n",
      "  2  2     5.45650142E-04   # Real(Yd(2,2),dp)\r\n",
      "  2  3     0.00000000E+00   # Real(Yd(2,3),dp)\r\n",
      "  3  1     0.00000000E+00   # Real(Yd(3,1),dp)\r\n",
      "  3  2     0.00000000E+00   # Real(Yd(3,2),dp)\r\n",
      "  3  3     2.40086062E-02   # Real(Yd(3,3),dp)\r\n",
      "Block Ye Q=  1.60000000E+02  # (Renormalization Scale)\r\n",
      "  1  1     2.93501725E-06   # Real(Ye(1,1),dp)\r\n",
      "  1  2     0.00000000E+00   # Real(Ye(1,2),dp)\r\n",
      "  1  3     0.00000000E+00   # Real(Ye(1,3),dp)\r\n",
      "  2  1     0.00000000E+00   # Real(Ye(2,1),dp)\r\n",
      "  2  2     6.06868478E-04   # Real(Ye(2,2),dp)\r\n",
      "  2  3     0.00000000E+00   # Real(Ye(2,3),dp)\r\n",
      "  3  1     0.00000000E+00   # Real(Ye(3,1),dp)\r\n",
      "  3  2     0.00000000E+00   # Real(Ye(3,2),dp)\r\n",
      "  3  3     1.02047490E-02   # Real(Ye(3,3),dp)\r\n",
      "Block MASS  # Mass spectrum\r\n",
      "#   PDG code      mass          particle\r\n",
      "        25     1.25548349E+02  # hh\r\n",
      "        35     6.49999953E+01  # etR\r\n",
      "        36     7.00999999E+02  # etI\r\n",
      "        37     7.00999999E+02  # etp\r\n",
      "        23     9.11887000E+01  # VZ\r\n",
      "        24     8.03497269E+01  # VWp\r\n",
      "         1     5.00000000E-03  # Fd_1\r\n",
      "         3     9.50000000E-02  # Fd_2\r\n",
      "         5     4.18000000E+00  # Fd_3\r\n",
      "         2     2.50000000E-03  # Fu_1\r\n",
      "         4     1.27000000E+00  # Fu_2\r\n",
      "         6     1.73500000E+02  # Fu_3\r\n",
      "        11     5.10998930E-04  # Fe_1\r\n",
      "        13     1.05658372E-01  # Fe_2\r\n",
      "        15     1.77669000E+00  # Fe_3\r\n",
      "Block UDLMIX Q=  1.60000000E+02  # ()\r\n",
      "  1  1    -1.00000000E+00   # Real(ZDL(1,1),dp)\r\n",
      "  1  2     0.00000000E+00   # Real(ZDL(1,2),dp)\r\n",
      "  1  3     0.00000000E+00   # Real(ZDL(1,3),dp)\r\n",
      "  2  1     0.00000000E+00   # Real(ZDL(2,1),dp)\r\n",
      "  2  2    -1.00000000E+00   # Real(ZDL(2,2),dp)\r\n",
      "  2  3     0.00000000E+00   # Real(ZDL(2,3),dp)\r\n",
      "  3  1     0.00000000E+00   # Real(ZDL(3,1),dp)\r\n",
      "  3  2     0.00000000E+00   # Real(ZDL(3,2),dp)\r\n",
      "  3  3    -1.00000000E+00   # Real(ZDL(3,3),dp)\r\n",
      "Block UDRMIX Q=  1.60000000E+02  # ()\r\n",
      "  1  1     1.00000000E+00   # Real(ZDR(1,1),dp)\r\n",
      "  1  2     0.00000000E+00   # Real(ZDR(1,2),dp)\r\n",
      "  1  3     0.00000000E+00   # Real(ZDR(1,3),dp)\r\n",
      "  2  1     0.00000000E+00   # Real(ZDR(2,1),dp)\r\n",
      "  2  2     1.00000000E+00   # Real(ZDR(2,2),dp)\r\n",
      "  2  3     0.00000000E+00   # Real(ZDR(2,3),dp)\r\n",
      "  3  1     0.00000000E+00   # Real(ZDR(3,1),dp)\r\n",
      "  3  2     0.00000000E+00   # Real(ZDR(3,2),dp)\r\n",
      "  3  3     1.00000000E+00   # Real(ZDR(3,3),dp)\r\n",
      "Block UULMIX Q=  1.60000000E+02  # ()\r\n",
      "  1  1     1.00000000E+00   # Real(ZUL(1,1),dp)\r\n",
      "  1  2     0.00000000E+00   # Real(ZUL(1,2),dp)\r\n",
      "  1  3     0.00000000E+00   # Real(ZUL(1,3),dp)\r\n",
      "  2  1     0.00000000E+00   # Real(ZUL(2,1),dp)\r\n",
      "  2  2     1.00000000E+00   # Real(ZUL(2,2),dp)\r\n",
      "  2  3     0.00000000E+00   # Real(ZUL(2,3),dp)\r\n",
      "  3  1     0.00000000E+00   # Real(ZUL(3,1),dp)\r\n",
      "  3  2     0.00000000E+00   # Real(ZUL(3,2),dp)\r\n",
      "  3  3     1.00000000E+00   # Real(ZUL(3,3),dp)\r\n",
      "Block UURMIX Q=  1.60000000E+02  # ()\r\n",
      "  1  1     1.00000000E+00   # Real(ZUR(1,1),dp)\r\n",
      "  1  2     0.00000000E+00   # Real(ZUR(1,2),dp)\r\n",
      "  1  3     0.00000000E+00   # Real(ZUR(1,3),dp)\r\n",
      "  2  1     0.00000000E+00   # Real(ZUR(2,1),dp)\r\n",
      "  2  2     1.00000000E+00   # Real(ZUR(2,2),dp)\r\n",
      "  2  3     0.00000000E+00   # Real(ZUR(2,3),dp)\r\n",
      "  3  1     0.00000000E+00   # Real(ZUR(3,1),dp)\r\n",
      "  3  2     0.00000000E+00   # Real(ZUR(3,2),dp)\r\n",
      "  3  3     1.00000000E+00   # Real(ZUR(3,3),dp)\r\n",
      "Block UELMIX Q=  1.60000000E+02  # ()\r\n",
      "  1  1    -1.00000000E+00   # Real(ZEL(1,1),dp)\r\n",
      "  1  2     0.00000000E+00   # Real(ZEL(1,2),dp)\r\n",
      "  1  3     0.00000000E+00   # Real(ZEL(1,3),dp)\r\n",
      "  2  1     0.00000000E+00   # Real(ZEL(2,1),dp)\r\n",
      "  2  2    -1.00000000E+00   # Real(ZEL(2,2),dp)\r\n",
      "  2  3     0.00000000E+00   # Real(ZEL(2,3),dp)\r\n",
      "  3  1     0.00000000E+00   # Real(ZEL(3,1),dp)\r\n",
      "  3  2     0.00000000E+00   # Real(ZEL(3,2),dp)\r\n",
      "  3  3    -1.00000000E+00   # Real(ZEL(3,3),dp)\r\n",
      "Block UERMIX Q=  1.60000000E+02  # ()\r\n",
      "  1  1     1.00000000E+00   # Real(ZER(1,1),dp)\r\n",
      "  1  2     0.00000000E+00   # Real(ZER(1,2),dp)\r\n",
      "  1  3     0.00000000E+00   # Real(ZER(1,3),dp)\r\n",
      "  2  1     0.00000000E+00   # Real(ZER(2,1),dp)\r\n",
      "  2  2     1.00000000E+00   # Real(ZER(2,2),dp)\r\n",
      "  2  3     0.00000000E+00   # Real(ZER(2,3),dp)\r\n",
      "  3  1     0.00000000E+00   # Real(ZER(3,1),dp)\r\n",
      "  3  2     0.00000000E+00   # Real(ZER(3,2),dp)\r\n",
      "  3  3     1.00000000E+00   # Real(ZER(3,3),dp)\r\n",
      "Block SPheno # SPheno internal parameters \r\n",
      "         1    -1.00000000E+00  # ErrorLevel\r\n",
      "         2     0.00000000E+00  # SPA_conventions\r\n",
      "        11     1.00000000E+00  # Branching ratios\r\n",
      "        13     1.00000000E+00  # 3 Body decays\r\n",
      "        31    -1.00000000E+00  # GUT scale\r\n",
      "        33     1.60000000E+02  # Renormalization scale\r\n",
      "        34     1.00000000E-04  # Precision\r\n",
      "        35     4.00000000E+01  # Iterations\r\n",
      "        38     2.00000000E+00  # RGE level\r\n",
      "        40     7.29735257E-03  # Alpha\r\n",
      "        41     2.49520000E+00  # Gamma_Z\r\n",
      "        42     2.06000000E+00  # Gamma_W\r\n",
      "        50     0.00000000E+00  # Rotate negative fermion masses\r\n",
      "        51     0.00000000E+00  # Switch to SCKM matrix\r\n",
      "        52     1.00000000E+00  # Ignore negative masses\r\n",
      "        53     0.00000000E+00  # Ignore negative masses at MZ\r\n",
      "        55     0.00000000E+00  # Calculate one loop masses\r\n",
      "        56     1.00000000E+00  # Calculate two-loop Higgs masses\r\n",
      "        57     1.00000000E+00  # Calculate low energy\r\n",
      "        60     1.00000000E+00  # Include kinetic mixing\r\n",
      "        65     1.00000000E+00  # Solution of tadpole equation\r\n",
      "Block HiggsBoundsInputHiggsCouplingsFermions # \r\n",
      "    1.00000000E+00    0.00000000E+00        3             25         5         5 # h_1 b b coupling \r\n",
      "    1.00000000E+00    0.00000000E+00        3             25         3         3 # h_1 s s coupling \r\n",
      "    1.00000000E+00    6.19546037E-33        3             25         6         6 # h_1 t t coupling  \r\n",
      "    1.00000000E+00    7.59574061E-33        3             25         4         4 # h_1 c c coupling \r\n",
      "    1.00000000E+00    0.00000000E+00        3             25        15        15 # h_1 tau tau coupling \r\n",
      "    1.00000000E+00    0.00000000E+00        3             25        13        13 # h_1 mu mu coupling  \r\n",
      "Block HiggsBoundsInputHiggsCouplingsBosons # \r\n",
      "    1.00000000E+00        3             25        24        24 # h_1 W W coupling \r\n",
      "    1.00000000E+00        3             25        23        23 # h_1 Z Z coupling  \r\n",
      "    0.00000000E+00        3             25        23        22 # h_1 Z gamma coupling \r\n",
      "    9.01273717E-01        3             25        22        22 # h_1 gamma gamma coupling \r\n",
      "    1.00000000E+00        3             25        21        21 # h_1 g g coupling \r\n",
      "    0.00000000E+00        4             25        21        21        23 # h_1 g g Z coupling \r\n",
      "    0.00000000E+00        3             25        25        23 # h_1 h_1 Z coupling  \r\n",
      "Block EFFHIGGSCOUPLINGS # values of loop-induced couplings \r\n",
      "        25           22           22     0.29381237E-04 # H-Photon-Photon \r\n",
      "        25           21           21     0.66332659E-04 # H-Gluon-Gluon \r\n",
      "        25           22           23     0.00000000E+00 # H-Photon-Z (not yet calculated by SPheno) \r\n",
      "Block SPhenoLowEnergy # low energy observables \r\n",
      "      20    2.14084886E-23  # (g-2)_e\r\n",
      "      21    2.14925631E-14  # (g-2)_mu\r\n",
      "      22    9.72561162E-10  # (g-2)_tau\r\n",
      "      23    0.00000000E+00  # EDM(e)\r\n",
      "      24    0.00000000E+00  # EDM(mu)\r\n",
      "      25    0.00000000E+00  # EDM(tau)\r\n",
      "      39   -1.24459752E-04  # delta(rho)\r\n",
      "Block FlavorKitQFV # quark flavor violating observables \r\n",
      "     200    3.15000000E-04  # BR(B->X_s gamma)\r\n",
      "     201    1.00000000E+00  # BR(B->X_s gamma)/BR(B->X_s gamma)_SM\r\n",
      "     300    2.63388992E-03  # BR(D->mu nu)\r\n",
      "     301    9.98906512E-01  # BR(D->mu nu)/BR(D->mu nu)_SM\r\n",
      "     400    2.49265971E-02  # BR(Ds->mu nu)\r\n",
      "     401    9.98787370E-01  # BR(Ds->mu nu)/BR(Ds->mu nu)_SM\r\n",
      "     402    2.43609487E-01  # BR(Ds->tau nu)\r\n",
      "     403    9.98787281E-01  # BR(Ds->tau nu)/BR(Ds->tau nu)_SM\r\n",
      "     500    2.28834415E-06  # BR(B->mu nu)\r\n",
      "     501    9.91294580E-01  # BR(B->mu nu)/BR(B->mu nu)_SM\r\n",
      "     502    5.09186110E-04  # BR(B->tau nu)\r\n",
      "     503    9.91293940E-01  # BR(B->tau nu)/BR(B->tau nu)_SM\r\n",
      "     600    2.82863360E+00  # BR(K->mu nu)\r\n",
      "     601    9.99923708E-01  # BR(K->mu nu)/BR(K->mu nu)_SM\r\n",
      "     602    2.47647734E-05  # R_K = BR(K->e nu)/(K->mu nu)\r\n",
      "     603    2.47609948E-05  # R_K^SM = BR(K->e nu)_SM/(K->mu nu)_SM\r\n",
      "    1900    1.78773019E+01  # Delta(M_Bs)\r\n",
      "    1901    1.00076509E+00  # Delta(M_Bs)/Delta(M_Bs)_SM\r\n",
      "    1902    3.99640977E-01  # Delta(M_Bd)\r\n",
      "    1903    1.00091018E+00  # Delta(M_Bd)/Delta(M_Bd)_SM\r\n",
      "    4000    2.48195823E-15  # BR(B^0_d->e e)\r\n",
      "    4001    1.00000291E+00  # BR(B^0_d->e e)/BR(B^0_d->e e)_SM\r\n",
      "    4002    7.70658095E-14  # BR(B^0_s->e e)\r\n",
      "    4003    1.00000287E+00  # BR(B^0_s->e e)/BR(B^0_s->e e)_SM\r\n",
      "    4004    1.06026463E-10  # BR(B^0_d->mu mu)\r\n",
      "    4005    1.00000291E+00  # BR(B^0_d->mu mu)/BR(B^0_d->mu mu)_SM\r\n",
      "    4006    3.29224980E-09  # BR(B^0_s->mu mu)\r\n",
      "    4007    1.00000287E+00  # BR(B^0_s->mu mu)/BR(B^0_s->mu mu)_SM\r\n",
      "    4008    2.21925762E-08  # BR(B^0_d->tau tau)\r\n",
      "    4009    1.00000159E+00  # BR(B^0_d->tau tau)/BR(B^0_d->tau tau)_SM\r\n",
      "    4010    6.98223420E-07  # BR(B^0_s->tau tau)\r\n",
      "    4011    1.00000161E+00  # BR(B^0_s->tau tau)/BR(B^0_s->tau tau)_SM\r\n",
      "    5000    1.64140935E-06  # BR(B-> s e e)\r\n",
      "    5001    9.91614369E-01  # BR(B-> s e e)/BR(B-> s e e)_SM\r\n",
      "    5002    1.59101138E-06  # BR(B-> s mu mu)\r\n",
      "    5003    9.91414065E-01  # BR(B-> s mu mu)/BR(B-> s mu mu)_SM\r\n",
      "    6000    1.10138940E-07  # BR(B -> K mu mu)\r\n",
      "    6001    9.92242700E-01  # BR(B -> K mu mu)/BR(B -> K mu mu)_SM\r\n",
      "    7000    4.10417023E-05  # BR(B->s nu nu)\r\n",
      "    7001    1.00000000E+00  # BR(B->s nu nu)/BR(B->s nu nu)_SM\r\n",
      "    7002    1.90034270E-06  # BR(B->D nu nu)\r\n",
      "    7003    1.00000000E+00  # BR(B->D nu nu)/BR(B->D nu nu)_SM\r\n",
      "    8000    1.30079702E-10  # BR(K^+ -> pi^+ nu nu)\r\n",
      "    8001    1.00000000E+00  # BR(K^+ -> pi^+ nu nu)/BR(K^+ -> pi^+ nu nu)_SM\r\n",
      "    8002    3.03209489E-11  # BR(K_L -> pi^0 nu nu)\r\n",
      "    8003    1.00000000E+00  # BR(K_L -> pi^0 nu nu)/BR(K_L -> pi^0 nu nu)_SM\r\n",
      "    9100    2.12126936E-15  # Delta(M_K)\r\n",
      "    9102    1.00000027E+00  # Delta(M_K)/Delta(M_K)_SM\r\n",
      "    9103    3.29704991E-03  # epsilon_K\r\n",
      "    9104    1.00000383E+00  # epsilon_K/epsilon_K^SM\r\n",
      "Block FlavorKitLFV # lepton flavor violating observables \r\n",
      "     701    0.00000000E+00  # BR(mu->e gamma)\r\n",
      "     702    0.00000000E+00  # BR(tau->e gamma)\r\n",
      "     703    0.00000000E+00  # BR(tau->mu gamma)\r\n",
      "     800    0.00000000E+00  # CR(mu-e, Al)\r\n",
      "     801    0.00000000E+00  # CR(mu-e, Ti)\r\n",
      "     802    0.00000000E+00  # CR(mu-e, Sr)\r\n",
      "     803    0.00000000E+00  # CR(mu-e, Sb)\r\n",
      "     804    0.00000000E+00  # CR(mu-e, Au)\r\n",
      "     805    0.00000000E+00  # CR(mu-e, Pb)\r\n",
      "     901    0.00000000E+00  # BR(mu->3e)\r\n",
      "     902    0.00000000E+00  # BR(tau->3e)\r\n",
      "     903    0.00000000E+00  # BR(tau->3mu)\r\n",
      "     904    0.00000000E+00  # BR(tau- -> e- mu+ mu-)\r\n",
      "     905    0.00000000E+00  # BR(tau- -> mu- e+ e-)\r\n",
      "     906    0.00000000E+00  # BR(tau- -> e+ mu- mu-)\r\n",
      "     907    0.00000000E+00  # BR(tau- -> mu+ e- e-)\r\n",
      "    1001    0.00000000E+00  # BR(Z->e mu)\r\n",
      "    1002    0.00000000E+00  # BR(Z->e tau)\r\n",
      "    1003    0.00000000E+00  # BR(Z->mu tau)\r\n",
      "    1101    0.00000000E+00  # BR(h->e mu)\r\n",
      "    1102    0.00000000E+00  # BR(h->e tau)\r\n",
      "    1103    0.00000000E+00  # BR(h->mu tau)\r\n",
      "    2001    0.00000000E+00  # BR(tau->e pi)\r\n",
      "    2002    0.00000000E+00  # BR(tau->e eta)\r\n",
      "    2003    0.00000000E+00  # BR(tau->e eta')\r\n",
      "    2004    0.00000000E+00  # BR(tau->mu pi)\r\n",
      "    2005    0.00000000E+00  # BR(tau->mu eta)\r\n",
      "    2006    0.00000000E+00  # BR(tau->mu eta')\r\n",
      "Block FWCOEF Q=  1.60000000E+02  # Wilson coefficients at scale Q \r\n",
      "      030 4422   00   0    -0.17249277E-08    # coeffC7sm\r\n",
      "      030 4422   00   2    -0.17249277E-08    # coeffC7\r\n",
      "      030 4322   00   2    -0.33221735E-10    # coeffC7p\r\n",
      "      030 4422   00   1     0.00000000E+00    # coeffC7NP\r\n",
      "      030 4322   00   1    -0.33221735E-10    # coeffC7pNP\r\n",
      "      030 6421   00   0    -0.86399912E-09    # coeffC8sm\r\n",
      "      030 6421   00   2    -0.86399912E-09    # coeffC8\r\n",
      "      030 6321   00   2    -0.16633466E-10    # coeffC8p\r\n",
      "      030 6421   00   1     0.00000000E+00    # coeffC8NP\r\n",
      "      030 6321   00   1    -0.16633466E-10    # coeffC8pNP\r\n",
      "  0305111 4133   00   0     0.10365840E-08    # coeffC9eeSM\r\n",
      "  0305111 4133   00   2     0.10365840E-08    # coeffC9ee\r\n",
      "  0305111 4233   00   2    -0.79932048E-15    # coeffC9Pee\r\n",
      "  0305111 4133   00   1     0.00000000E+00    # coeffC9eeNP\r\n",
      "  0305111 4233   00   1    -0.79932048E-15    # coeffC9PeeNP\r\n",
      "  0305111 4137   00   0    -0.39462981E-08    # coeffC10eeSM\r\n",
      "  0305111 4137   00   2    -0.39462981E-08    # coeffC10ee\r\n",
      "  0305111 4237   00   2    -0.80615661E-14    # coeffC10Pee\r\n",
      "  0305111 4137   00   1     0.00000000E+00    # coeffC10eeNP\r\n",
      "  0305111 4237   00   1    -0.80615661E-14    # coeffC10PeeNP\r\n",
      "  0305131 4133   00   0     0.10365835E-08    # coeffC9mumuSM\r\n",
      "  0305131 4133   00   2     0.10365835E-08    # coeffC9mumu\r\n",
      "  0305131 4233   00   2    -0.79931358E-15    # coeffC9Pmumu\r\n",
      "  0305131 4133   00   1     0.00000000E+00    # coeffC9mumuNP\r\n",
      "  0305131 4233   00   1    -0.79931358E-15    # coeffC9PmumuNP\r\n",
      "  0305131 4137   00   0    -0.39462987E-08    # coeffC10mumuSM\r\n",
      "  0305131 4137   00   2    -0.39462987E-08    # coeffC10mumu\r\n",
      "  0305131 4237   00   2    -0.80615730E-14    # coeffC10Pmumu\r\n",
      "  0305131 4137   00   1     0.00000000E+00    # coeffC10mumuNP\r\n",
      "  0305131 4237   00   1    -0.80615730E-14    # coeffC10PmumuNP\r\n",
      "  0305121 4141   00   0    -0.12190551E-07    # coeffCLnu1nu1SM\r\n",
      "  0305121 4141   00   2    -0.12190551E-07    # coeffCLnu1nu1\r\n",
      "  0305121 4241   00   2     0.16123132E-13    # coeffCLPnu1nu1\r\n",
      "  0305121 4141   00   1     0.00000000E+00    # coeffCLnu1nu1NP\r\n",
      "  0305121 4241   00   1     0.16123132E-13    # coeffCLPnu1nu1NP\r\n",
      "  0305141 4141   00   0    -0.12190434E-07    # coeffCLnu2nu2SM\r\n",
      "  0305141 4141   00   2    -0.12190434E-07    # coeffCLnu2nu2\r\n",
      "  0305141 4241   00   2     0.16123118E-13    # coeffCLPnu2nu2\r\n",
      "  0305141 4141   00   1     0.00000000E+00    # coeffCLnu2nu2NP\r\n",
      "  0305141 4241   00   1     0.16123118E-13    # coeffCLPnu2nu2NP\r\n",
      "  0305161 4141   00   0    -0.12165638E-07    # coeffCLnu3nu3SM\r\n",
      "  0305161 4141   00   2    -0.12165638E-07    # coeffCLnu3nu3\r\n",
      "  0305161 4241   00   2     0.16119246E-13    # coeffCLPnu3nu3\r\n",
      "  0305161 4141   00   1     0.00000000E+00    # coeffCLnu3nu3NP\r\n",
      "  0305161 4241   00   1     0.16119246E-13    # coeffCLPnu3nu3NP\r\n",
      "  0305121 4142   00   0     0.00000000E+00    # coeffCRnu1nu1SM\r\n",
      "  0305121 4142   00   2     0.00000000E+00    # coeffCRnu1nu1\r\n",
      "  0305121 4242   00   2     0.00000000E+00    # coeffCRPnu1nu1\r\n",
      "  0305121 4142   00   1     0.00000000E+00    # coeffCRnu1nu1NP\r\n",
      "  0305121 4242   00   1     0.00000000E+00    # coeffCRPnu1nu1NP\r\n",
      "  0305141 4142   00   0     0.00000000E+00    # coeffCRnu2nu2SM\r\n",
      "  0305141 4142   00   2     0.00000000E+00    # coeffCRnu2nu2\r\n",
      "  0305141 4242   00   2     0.00000000E+00    # coeffCRPnu2nu2\r\n",
      "  0305141 4142   00   1     0.00000000E+00    # coeffCRnu2nu2NP\r\n",
      "  0305141 4242   00   1     0.00000000E+00    # coeffCRPnu2nu2NP\r\n",
      "  0305161 4142   00   0     0.00000000E+00    # coeffCRnu3nu3SM\r\n",
      "  0305161 4142   00   2     0.00000000E+00    # coeffCRnu3nu3\r\n",
      "  0305161 4242   00   2     0.00000000E+00    # coeffCRPnu3nu3\r\n",
      "  0305161 4142   00   1     0.00000000E+00    # coeffCRnu3nu3NP\r\n",
      "  0305161 4242   00   1     0.00000000E+00    # coeffCRPnu3nu3NP\r\n",
      "Block IMFWCOEF Q=  1.60000000E+02  # Im(Wilson coefficients) at scale Q \r\n",
      "      030 4422   00   0     0.64291917E-10    # coeffC7sm\r\n",
      "      030 4422   00   2     0.64291917E-10    # coeffC7\r\n",
      "      030 4322   00   2     0.23223838E-11    # coeffC7p\r\n",
      "      030 4422   00   1     0.00000000E+00    # coeffC7NP\r\n",
      "      030 4322   00   1     0.23223838E-11    # coeffC7pNP\r\n",
      "      030 6421   00   0     0.74456423E-10    # coeffC8sm\r\n",
      "      030 6421   00   2     0.74456423E-10    # coeffC8\r\n",
      "      030 6321   00   2     0.14350099E-11    # coeffC8p\r\n",
      "      030 6421   00   1     0.00000000E+00    # coeffC8NP\r\n",
      "      030 6321   00   1     0.14350099E-11    # coeffC8pNP\r\n",
      "  0305111 4133   00   0    -0.18508864E-10    # coeffC9eeSM\r\n",
      "  0305111 4133   00   2    -0.18508864E-10    # coeffC9ee\r\n",
      "  0305111 4233   00   2     0.14276932E-16    # coeffC9Pee\r\n",
      "  0305111 4133   00   1     0.00000000E+00    # coeffC9eeNP\r\n",
      "  0305111 4233   00   1     0.14276932E-16    # coeffC9PeeNP\r\n",
      "  0305111 4137   00   0     0.70426534E-10    # coeffC10eeSM\r\n",
      "  0305111 4137   00   2     0.70426534E-10    # coeffC10ee\r\n",
      "  0305111 4237   00   2     0.14399034E-15    # coeffC10Pee\r\n",
      "  0305111 4137   00   1     0.00000000E+00    # coeffC10eeNP\r\n",
      "  0305111 4237   00   1     0.14399034E-15    # coeffC10PeeNP\r\n",
      "  0305131 4133   00   0    -0.18508855E-10    # coeffC9mumuSM\r\n",
      "  0305131 4133   00   2    -0.18508855E-10    # coeffC9mumu\r\n",
      "  0305131 4233   00   2     0.14276809E-16    # coeffC9Pmumu\r\n",
      "  0305131 4133   00   1     0.00000000E+00    # coeffC9mumuNP\r\n",
      "  0305131 4233   00   1     0.14276809E-16    # coeffC9PmumuNP\r\n",
      "  0305131 4137   00   0     0.70426543E-10    # coeffC10mumuSM\r\n",
      "  0305131 4137   00   2     0.70426543E-10    # coeffC10mumu\r\n",
      "  0305131 4237   00   2     0.14399046E-15    # coeffC10Pmumu\r\n",
      "  0305131 4137   00   1     0.00000000E+00    # coeffC10mumuNP\r\n",
      "  0305131 4237   00   1     0.14399046E-15    # coeffC10PmumuNP\r\n",
      "  0305121 4141   00   0     0.21762028E-09    # coeffCLnu1nu1SM\r\n",
      "  0305121 4141   00   2     0.21762028E-09    # coeffCLnu1nu1\r\n",
      "  0305121 4241   00   2    -0.28798068E-15    # coeffCLPnu1nu1\r\n",
      "  0305121 4141   00   1     0.00000000E+00    # coeffCLnu1nu1NP\r\n",
      "  0305121 4241   00   1    -0.28798068E-15    # coeffCLPnu1nu1NP\r\n",
      "  0305141 4141   00   0     0.21761728E-09    # coeffCLnu2nu2SM\r\n",
      "  0305141 4141   00   2     0.21761728E-09    # coeffCLnu2nu2\r\n",
      "  0305141 4241   00   2    -0.28798044E-15    # coeffCLPnu2nu2\r\n",
      "  0305141 4141   00   1     0.00000000E+00    # coeffCLnu2nu2NP\r\n",
      "  0305141 4241   00   1    -0.28798044E-15    # coeffCLPnu2nu2NP\r\n",
      "  0305161 4141   00   0     0.21715240E-09    # coeffCLnu3nu3SM\r\n",
      "  0305161 4141   00   2     0.21715240E-09    # coeffCLnu3nu3\r\n",
      "  0305161 4241   00   2    -0.28791130E-15    # coeffCLPnu3nu3\r\n",
      "  0305161 4141   00   1     0.00000000E+00    # coeffCLnu3nu3NP\r\n",
      "  0305161 4241   00   1    -0.28791130E-15    # coeffCLPnu3nu3NP\r\n",
      "  0305121 4142   00   0     0.00000000E+00    # coeffCRnu1nu1SM\r\n",
      "  0305121 4142   00   2     0.00000000E+00    # coeffCRnu1nu1\r\n",
      "  0305121 4242   00   2     0.00000000E+00    # coeffCRPnu1nu1\r\n",
      "  0305121 4142   00   1     0.00000000E+00    # coeffCRnu1nu1NP\r\n",
      "  0305121 4242   00   1     0.00000000E+00    # coeffCRPnu1nu1NP\r\n",
      "  0305141 4142   00   0     0.00000000E+00    # coeffCRnu2nu2SM\r\n",
      "  0305141 4142   00   2     0.00000000E+00    # coeffCRnu2nu2\r\n",
      "  0305141 4242   00   2     0.00000000E+00    # coeffCRPnu2nu2\r\n",
      "  0305141 4142   00   1     0.00000000E+00    # coeffCRnu2nu2NP\r\n",
      "  0305141 4242   00   1     0.00000000E+00    # coeffCRPnu2nu2NP\r\n",
      "  0305161 4142   00   0     0.00000000E+00    # coeffCRnu3nu3SM\r\n",
      "  0305161 4142   00   2     0.00000000E+00    # coeffCRnu3nu3\r\n",
      "  0305161 4242   00   2     0.00000000E+00    # coeffCRPnu3nu3\r\n",
      "  0305161 4142   00   1     0.00000000E+00    # coeffCRnu3nu3NP\r\n",
      "  0305161 4242   00   1     0.00000000E+00    # coeffCRPnu3nu3NP\r\n",
      "DECAY         4     3.82452319E-13   # Fu_2\r\n",
      "#    BR                NDA      ID1      ID2\r\n",
      "#    BR                NDA      ID1      ID2       ID3\r\n",
      "     3.05502575E-02    3            2         -1          1   # BR(Fu_2 -> Fu_1 Fd_1^* Fd_1 )\r\n",
      "     5.45954987E-01    3            2         -1          3   # BR(Fu_2 -> Fu_1 Fd_1^* Fd_2 )\r\n",
      "     1.56486313E-03    3            2         -3          1   # BR(Fu_2 -> Fu_1 Fd_2^* Fd_1 )\r\n",
      "     2.79270154E-02    3            2         -3          3   # BR(Fu_2 -> Fu_1 Fd_2^* Fd_2 )\r\n",
      "     1.07295183E-02    3            1        -11         12   # BR(Fu_2 -> Fd_1 Fe_1^* Fv_1 )\r\n",
      "     1.01645236E-02    3            1        -13         14   # BR(Fu_2 -> Fd_1 Fe_2^* Fv_2 )\r\n",
      "     1.91744771E-01    3            3        -11         12   # BR(Fu_2 -> Fd_2 Fe_1^* Fv_1 )\r\n",
      "     1.81364064E-01    3            3        -13         14   # BR(Fu_2 -> Fd_2 Fe_2^* Fv_2 )\r\n",
      "DECAY         6     1.55565288E+00   # Fu_3\r\n",
      "#    BR                NDA      ID1      ID2\r\n",
      "     1.00000000E+00    2            5         24   # BR(Fu_3 -> Fd_3 VWp )\r\n",
      "DECAY        13     1.22051868E-18   # Fe_2\r\n",
      "#    BR                NDA      ID1      ID2\r\n",
      "#    BR                NDA      ID1      ID2       ID3\r\n",
      "     2.63969808E-01    3           11        -12         14   # BR(Fe_2 -> Fe_1 Fv_1^* Fv_2 )\r\n",
      "     7.36026661E-01    3           14         -2          1   # BR(Fe_2 -> Fv_2 Fu_1^* Fd_1 )\r\n",
      "     3.53089510E-06    3           14         -2          3   # BR(Fe_2 -> Fv_2 Fu_1^* Fd_2 )\r\n",
      "DECAY        15     2.17022111E-12   # Fe_3\r\n",
      "#    BR                NDA      ID1      ID2\r\n",
      "#    BR                NDA      ID1      ID2       ID3\r\n",
      "     1.99664865E-01    3           11        -12         16   # BR(Fe_3 -> Fe_1 Fv_1^* Fv_3 )\r\n",
      "     1.94368619E-01    3           13        -14         16   # BR(Fe_3 -> Fe_2 Fv_2^* Fv_3 )\r\n",
      "     5.68537963E-01    3           16         -2          1   # BR(Fe_3 -> Fv_3 Fu_1^* Fd_1 )\r\n",
      "     2.97768355E-02    3           16         -2          3   # BR(Fe_3 -> Fv_3 Fu_1^* Fd_2 )\r\n",
      "     4.57258365E-04    3           16         -4          1   # BR(Fe_3 -> Fv_3 Fu_2^* Fd_1 )\r\n",
      "     7.19445852E-03    3           16         -4          3   # BR(Fe_3 -> Fv_3 Fu_2^* Fd_2 )\r\n",
      "DECAY         1     9.46175152E-27   # Fd_1\r\n",
      "#    BR                NDA      ID1      ID2\r\n",
      "#    BR                NDA      ID1      ID2       ID3\r\n",
      "     1.00000000E+00    3            2        -12         11   # BR(Fd_1 -> Fu_1 Fv_1^* Fe_1 )\r\n",
      "DECAY         3     3.60747440E-20   # Fd_2\r\n",
      "#    BR                NDA      ID1      ID2\r\n",
      "#    BR                NDA      ID1      ID2       ID3\r\n",
      "     7.34967004E-01    3            1         -2          2   # BR(Fd_2 -> Fd_1 Fu_1^* Fu_1 )\r\n",
      "     2.65032996E-01    3            2        -12         11   # BR(Fd_2 -> Fu_1 Fv_1^* Fe_1 )\r\n",
      "DECAY         5     1.70442232E-13   # Fd_3\r\n",
      "#    BR                NDA      ID1      ID2\r\n",
      "#    BR                NDA      ID1      ID2       ID3\r\n",
      "     6.12951287E-03    3            1         -2          2   # BR(Fd_3 -> Fd_1 Fu_1^* Fu_1 )\r\n",
      "     4.52963796E-01    3            1         -2          4   # BR(Fd_3 -> Fd_1 Fu_1^* Fu_2 )\r\n",
      "     1.67717286E-04    3            1         -4          2   # BR(Fd_3 -> Fd_1 Fu_2^* Fu_1 )\r\n",
      "     8.80823256E-03    3            1         -4          4   # BR(Fd_3 -> Fd_1 Fu_2^* Fu_2 )\r\n",
      "     3.27013500E-04    3            3         -2          2   # BR(Fd_3 -> Fd_2 Fu_1^* Fu_1 )\r\n",
      "     2.41186489E-02    3            3         -2          4   # BR(Fd_3 -> Fd_2 Fu_1^* Fu_2 )\r\n",
      "     3.11230926E-03    3            3         -4          2   # BR(Fd_3 -> Fd_2 Fu_2^* Fu_1 )\r\n",
      "     1.62627665E-01    3            3         -4          4   # BR(Fd_3 -> Fd_2 Fu_2^* Fu_2 )\r\n",
      "     2.15252618E-03    3            2        -12         11   # BR(Fd_3 -> Fu_1 Fv_1^* Fe_1 )\r\n",
      "     2.14490780E-03    3            2        -14         13   # BR(Fd_3 -> Fu_1 Fv_2^* Fe_2 )\r\n",
      "     5.83957751E-04    3            2        -16         15   # BR(Fd_3 -> Fu_1 Fv_3^* Fe_3 )\r\n",
      "     1.59069889E-01    3            4        -12         11   # BR(Fd_3 -> Fu_2 Fv_1^* Fe_1 )\r\n",
      "     1.58104211E-01    3            4        -14         13   # BR(Fd_3 -> Fu_2 Fv_2^* Fe_2 )\r\n",
      "     1.96896118E-02    3            4        -16         15   # BR(Fd_3 -> Fu_2 Fv_3^* Fe_3 )\r\n",
      "DECAY        23     2.52316328E+00   # VZ\r\n",
      "#    BR                NDA      ID1      ID2\r\n",
      "     1.52316790E-01    2           -1          1   # BR(VZ -> Fd_1^* Fd_1 )\r\n",
      "     1.52316128E-01    2           -3          3   # BR(VZ -> Fd_2^* Fd_2 )\r\n",
      "     1.51032754E-01    2           -5          5   # BR(VZ -> Fd_3^* Fd_3 )\r\n",
      "     3.43851056E-02    2          -11         11   # BR(VZ -> Fe_1^* Fe_1 )\r\n",
      "     3.43848318E-02    2          -13         13   # BR(VZ -> Fe_2^* Fe_2 )\r\n",
      "     3.43077260E-02    2          -15         15   # BR(VZ -> Fe_3^* Fe_3 )\r\n",
      "     1.18730389E-01    2           -2          2   # BR(VZ -> Fu_1^* Fu_1 )\r\n",
      "     1.18611751E-01    2           -4          4   # BR(VZ -> Fu_2^* Fu_2 )\r\n",
      "     6.79715079E-02    2          -12         12   # BR(VZ -> Fv_1^* Fv_1 )\r\n",
      "     6.79715079E-02    2          -14         14   # BR(VZ -> Fv_2^* Fv_2 )\r\n",
      "     6.79715079E-02    2          -16         16   # BR(VZ -> Fv_3^* Fv_3 )\r\n",
      "DECAY        24     2.11336238E+00   # VWp\r\n",
      "#    BR                NDA      ID1      ID2\r\n",
      "     3.16468443E-01    2           -1          2   # BR(VWp -> Fd_1^* Fu_1 )\r\n",
      "     1.69166709E-02    2           -1          4   # BR(VWp -> Fd_1^* Fu_2 )\r\n",
      "     1.69308572E-02    2           -3          2   # BR(VWp -> Fd_2^* Fu_1 )\r\n",
      "     3.15795683E-01    2           -3          4   # BR(VWp -> Fd_2^* Fu_2 )\r\n",
      "     3.89513722E-06    2           -5          2   # BR(VWp -> Fd_3^* Fu_1 )\r\n",
      "     5.62997720E-04    2           -5          4   # BR(VWp -> Fd_3^* Fu_2 )\r\n",
      "     1.11134416E-01    2          -11         12   # BR(VWp -> Fe_1^* Fv_1 )\r\n",
      "     1.11134128E-01    2          -13         14   # BR(VWp -> Fe_2^* Fv_2 )\r\n",
      "     1.11052909E-01    2          -15         16   # BR(VWp -> Fe_3^* Fv_3 )\r\n",
      "DECAY        25     3.94529233E-03   # hh\r\n",
      "#    BR                NDA      ID1      ID2\r\n",
      "     2.15359550E-03    2           22         22   # BR(hh -> VP VP )\r\n",
      "     8.78150139E-02    2           21         21   # BR(hh -> VG VG )\r\n",
      "     2.48392296E-02    2           23         23   # BR(hh -> VZ VZ )\r\n",
      "     2.26584631E-01    2          -24         24   # BR(hh -> VWp^* VWp_virt )\r\n",
      "     5.87251596E-07    2           -1          1   # BR(hh -> Fd_1^* Fd_1 )\r\n",
      "     2.11229188E-04    2           -3          3   # BR(hh -> Fd_2^* Fd_2 )\r\n",
      "     5.65785472E-01    2           -5          5   # BR(hh -> Fd_3^* Fd_3 )\r\n",
      "     5.09464735E-09    2          -11         11   # BR(hh -> Fe_1^* Fe_1 )\r\n",
      "     2.27588212E-04    2          -13         13   # BR(hh -> Fe_2^* Fe_2 )\r\n",
      "     6.56942584E-02    2          -15         15   # BR(hh -> Fe_3^* Fe_3 )\r\n",
      "     1.12355479E-07    2           -2          2   # BR(hh -> Fu_1^* Fu_1 )\r\n",
      "     2.66882769E-02    2           -4          4   # BR(hh -> Fu_2^* Fu_2 )\r\n",
      "DECAY        36     1.07807038E+02   # etI\r\n",
      "#    BR                NDA      ID1      ID2\r\n",
      "     1.00000000E+00    2           35         23   # BR(etI -> etR VZ )\r\n",
      "DECAY        37     1.09090721E+02   # etp\r\n",
      "#    BR                NDA      ID1      ID2\r\n",
      "     1.00000000E+00    2           35         24   # BR(etp -> etR VWp )\r\n"
     ]
    }
   ],
   "source": [
    "cat SPheno.spc.SimplifiedDMIDM"
   ]
  },
  {
   "cell_type": "markdown",
   "metadata": {},
   "source": [
    "## Appendix 2\n",
    "Input file for official IDM in micromegas"
   ]
  },
  {
   "cell_type": "code",
   "execution_count": 14,
   "metadata": {
    "collapsed": false
   },
   "outputs": [
    {
     "name": "stdout",
     "output_type": "stream",
     "text": [
      "MH3 700.999999\r\n",
      "MHC 700.999999\r\n",
      "MHX 64.9999953\r\n",
      "Mh 125.548349\r\n",
      "la2 0.0\r\n",
      "laL 0.00999999\r\n"
     ]
    }
   ],
   "source": [
    "cat mo.dat"
   ]
  },
  {
   "cell_type": "markdown",
   "metadata": {},
   "source": [
    "[Jupyter home](./draft.pdf)"
   ]
  },
  {
   "cell_type": "markdown",
   "metadata": {
    "collapsed": true
   },
   "source": [
    "See [Output LaTeX](./draft.tex) file"
   ]
  },
  {
   "cell_type": "code",
   "execution_count": 38,
   "metadata": {
    "collapsed": false
   },
   "outputs": [],
   "source": [
    "%%bash\n",
    "pdflatex draft.tex > /dev/null"
   ]
  },
  {
   "cell_type": "markdown",
   "metadata": {},
   "source": [
    "[[PDF]](./draft.pdf)"
   ]
  }
 ],
 "metadata": {
  "kernelspec": {
   "display_name": "Python 2",
   "language": "python",
   "name": "python2"
  },
  "language_info": {
   "codemirror_mode": {
    "name": "ipython",
    "version": 2
   },
   "file_extension": ".py",
   "mimetype": "text/x-python",
   "name": "python",
   "nbconvert_exporter": "python",
   "pygments_lexer": "ipython2",
   "version": "2.7.9"
  }
 },
 "nbformat": 4,
 "nbformat_minor": 0
}
