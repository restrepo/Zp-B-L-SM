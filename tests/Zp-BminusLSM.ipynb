{
 "cells": [
  {
   "cell_type": "markdown",
   "metadata": {},
   "source": [
    "#  B-L extended standard model\n",
    "See for example \n",
    "\n",
    "* [arxiv:1609.03594](http://arxiv.org/pdf/1609.03594.pdf)\n",
    "* [arxiv:1304.4700](https://arxiv.org/pdf/1304.4700v1.pdf)\n",
    "* DOI:<a href='http://inspirehep.net/search?ln=en&p=doi:10.1016/0370-2693(91)90952-M'>10.1016/0370-2693(91)90952-M</a>\n"
   ]
  },
  {
   "cell_type": "code",
   "execution_count": 2,
   "metadata": {
    "collapsed": false
   },
   "outputs": [
    {
     "name": "stdout",
     "output_type": "stream",
     "text": [
      "Populating the interactive namespace from numpy and matplotlib\n"
     ]
    }
   ],
   "source": [
    "%pylab inline"
   ]
  },
  {
   "cell_type": "code",
   "execution_count": 32,
   "metadata": {
    "collapsed": false
   },
   "outputs": [],
   "source": [
    "import pandas as pd\n",
    "import numpy as np\n",
    "import os, sys, inspect\n",
    "import commands\n",
    "from hep import *\n",
    "import IPython.display as dp"
   ]
  },
  {
   "cell_type": "markdown",
   "metadata": {},
   "source": [
    "## Check one point\n",
    "You can edit manually the input file:\n",
    "\n",
    "`LesHouches.in.ZpBminusLSM`\n",
    "\n",
    "and run the command\n",
    "\n",
    "`SHELL> ../SPHENO/bin/SPhenoZpBminusLSM LesHouches.in.ZpBminusLSM`\n",
    "\n",
    "to get the output file:\n",
    "\n",
    "`SPheno.spc.ZpBminusLSM`\n",
    "\n",
    "which will be used as the `MadGraph` `param_card.dat`.\n",
    "\n",
    "Here intead we use a Python module which have the input/outout as _attributtes_:\n",
    "\n",
    "* self.LHA \n",
    "* self.LHA_OUT\n",
    "\n",
    "and a method `self.runSPheno()` which generates the `SPheno.spc.ZpBminusLSM` output file."
   ]
  },
  {
   "cell_type": "markdown",
   "metadata": {},
   "source": [
    "### Object intialization"
   ]
  },
  {
   "cell_type": "code",
   "execution_count": 34,
   "metadata": {
    "collapsed": false
   },
   "outputs": [],
   "source": [
    "a=hep(MODEL='ZpBminusLSM')"
   ]
  },
  {
   "cell_type": "markdown",
   "metadata": {},
   "source": [
    "`a-object` is an object with many attributes and methods. Use the tab to explore them. Some of them are\n",
    "* a.Series: [pandas](http://pandas.pydata.org/) Series object with the \"relevant\" variables \n",
    "* a.LHA: Input LesHouces file as [pyslha](https://pypi.python.org/pypi/pyslha/) object\n",
    "* a.runSPheno() -> a.LHA_out: return LHA output files as [pyslha](https://pypi.python.org/pypi/pyslha/) object\n",
    "* a.runmicromegas() -> a.runSPheno() -> Updated the `a-object`  with micrOMEGAS \"relevant\" output\n",
    "\n",
    "The following configuration need to be switched to 0."
   ]
  },
  {
   "cell_type": "code",
   "execution_count": 35,
   "metadata": {
    "collapsed": false
   },
   "outputs": [
    {
     "data": {
      "text/plain": [
       "'1.             # Write effective Higgs couplings (HiggsBounds blocks): put 0 to use file with MadGraph! '"
      ]
     },
     "execution_count": 35,
     "metadata": {},
     "output_type": "execute_result"
    }
   ],
   "source": [
    "a.LHA.blocks['SPHENOINPUT'].entries[520]"
   ]
  },
  {
   "cell_type": "markdown",
   "metadata": {},
   "source": [
    "### Input parameters\n",
    "The local $B-L$ Lagrangian is (Weyl spinor notation)\n",
    "\\begin{align}\n",
    "\\mathcal{L}=\\mathcal{L}_{\\text{SM}}\n",
    "+(D_\\mu S)^\\dagger D_\\mu S\n",
    "-\\mu_1^2 H^\\dagger H^\\dagger -mu_2^2 S^* S\n",
    "-\\lambda_1 (H^\\dagger H^\\dagger)^2 -\\lambda_2 (S^* S)^2 -\\lambda_3 H^\\dagger H^\\dagger S^* S\n",
    "-(Y_\\nu  H^\\dagger L N + Y_x S N N +\\text{h.c}   )\n",
    "\\end{align}\n",
    "such that $g_1'$ is the gauge coupling associated with the gauge group $U(1)_{B-L}$, and $v_x=\\langle S\\rangle$\n",
    "\n",
    "### In SARAH input file this correspons to"
   ]
  },
  {
   "cell_type": "code",
   "execution_count": 36,
   "metadata": {
    "collapsed": false
   },
   "outputs": [
    {
     "data": {
      "text/plain": [
       "1     -1.2700000E-01 # Lambda1INPUT\n",
       "2     -7.2000000E-05 # Lambda2INPUT\n",
       "3     0.000000E+00   # Lambda3INPUT\n",
       "10        5.0000000E-01  # g1pINPUT\n",
       "11       0.000000E+00   # g1p1INPUT\n",
       "12       0.000000E+00   # g11pINPUT\n",
       "20         2.5000000E+03  # vXinput\n",
       "dtype: object"
      ]
     },
     "execution_count": 36,
     "metadata": {},
     "output_type": "execute_result"
    }
   ],
   "source": [
    "pd.Series(a.LHA.blocks['MINPAR'].entries)"
   ]
  },
  {
   "cell_type": "code",
   "execution_count": 38,
   "metadata": {
    "collapsed": false
   },
   "outputs": [
    {
     "data": {
      "text/plain": [
       "(1, 1)    5.0000000E-06  # Yv(1,1)\n",
       "(1, 2)    0.000000E+00   # Yv(1,2)\n",
       "(1, 3)    0.000000E+00   # Yv(1,3)\n",
       "(2, 1)    0.000000E+00   # Yv(2,1)\n",
       "(2, 2)    5.0000000E-06  # Yv(2,2)\n",
       "(2, 3)    0.000000E+00   # Yv(2,3)\n",
       "(3, 1)    0.000000E+00   # Yv(3,1)\n",
       "(3, 2)    0.000000E+00   # Yv(3,2)\n",
       "(3, 3)    5.0000000E-06  # Yv(3,3)\n",
       "dtype: object"
      ]
     },
     "execution_count": 38,
     "metadata": {},
     "output_type": "execute_result"
    }
   ],
   "source": [
    "pd.Series(a.LHA.blocks['YVIN'].entries)"
   ]
  },
  {
   "cell_type": "code",
   "execution_count": 39,
   "metadata": {
    "collapsed": false
   },
   "outputs": [
    {
     "data": {
      "text/plain": [
       "(1, 1)    3.2000000E-01  # Yx(1,1)\n",
       "(1, 2)    0.000000E+00   # Yx(1,2)\n",
       "(1, 3)    0.000000E+00   # Yx(1,3)\n",
       "(2, 1)    0.000000E+00   # Yx(2,1)\n",
       "(2, 2)    3.2000000E-01  # Yx(2,2)\n",
       "(2, 3)    0.000000E+00   # Yx(2,3)\n",
       "(3, 1)    0.000000E+00   # Yx(3,1)\n",
       "(3, 2)    0.000000E+00   # Yx(3,2)\n",
       "(3, 3)    3.2000000E-01  # Yx(3,3)\n",
       "dtype: object"
      ]
     },
     "execution_count": 39,
     "metadata": {},
     "output_type": "execute_result"
    }
   ],
   "source": [
    "pd.Series(a.LHA.blocks['YXIN'].entries)"
   ]
  },
  {
   "cell_type": "markdown",
   "metadata": {},
   "source": [
    "### Change some inputs"
   ]
  },
  {
   "cell_type": "code",
   "execution_count": 43,
   "metadata": {
    "collapsed": false
   },
   "outputs": [],
   "source": [
    "v=a.vev\n",
    "#lambda_1=0.13\n",
    "devnull=commands.getoutput('rm -f SPheno.spc.%s' %a.MODEL)\n",
    "a.LHA.blocks['SPHENOINPUT'].entries[520]='0.             # Write effective Higgs couplings (HiggsBounds blocks): put 0 to use file with MadGraph! '\n",
    "a.LHA.blocks['SPHENOINPUT'].entries[55]='0               # Calculate one loop masses'\n",
    "a.LHA.blocks['MINPAR'].entries[10]='5.0000000E-01  # g1pINPUT'\n",
    "a.LHA.blocks['MINPAR'].entries[2]='-1.000000E-01   # Lambda2INPUT'\n",
    "#a.LHA.blocks['YVIN'].entries[1,1]='%0.8E  # Yv(1,1)' %5E-6\n",
    "tmp=a.runSPheno()"
   ]
  },
  {
   "cell_type": "markdown",
   "metadata": {},
   "source": [
    "### Output masses"
   ]
  },
  {
   "cell_type": "code",
   "execution_count": 41,
   "metadata": {
    "collapsed": false
   },
   "outputs": [
    {
     "data": {
      "text/plain": [
       "25         1.24091258E+02 # hh_1\n",
       "35         1.11803399E+03 # hh_2\n",
       "23           9.11887000E+01 # VZ\n",
       "24          8.03497269E+01 # VWm\n",
       "31          2.50000000E+03 # VZp\n",
       "1          5.00000000E-03 # Fd_1\n",
       "3          9.50000000E-02 # Fd_2\n",
       "5          4.18000000E+00 # Fd_3\n",
       "2          2.50000000E-03 # Fu_1\n",
       "4          1.27000000E+00 # Fu_2\n",
       "6          1.73500000E+02 # Fu_3\n",
       "11         5.10998930E-04 # Fe_1\n",
       "13         1.05658372E-01 # Fe_2\n",
       "15         1.77669000E+00 # Fe_3\n",
       "12         -5.67943277E-10# Fv_1\n",
       "14         -5.67982217E-10# Fv_2\n",
       "16         -5.67983451E-10# Fv_3\n",
       "8810012    1.23084939E+03 # Fv_4\n",
       "8810014    1.23084939E+03 # Fv_5\n",
       "8810016    1.23084939E+03 # Fv_6\n",
       "dtype: object"
      ]
     },
     "execution_count": 41,
     "metadata": {},
     "output_type": "execute_result"
    }
   ],
   "source": [
    "pd.Series(a.LHA_out_with_comments.blocks['MASS'].entries)"
   ]
  },
  {
   "cell_type": "markdown",
   "metadata": {},
   "source": [
    "### Output branchings and decay widths"
   ]
  },
  {
   "cell_type": "code",
   "execution_count": 14,
   "metadata": {
    "collapsed": false
   },
   "outputs": [],
   "source": [
    "ip=a.branchings(a.LHA_out.decays,min_pdg=23)"
   ]
  },
  {
   "cell_type": "code",
   "execution_count": 15,
   "metadata": {
    "collapsed": false
   },
   "outputs": [
    {
     "name": "stdout",
     "output_type": "stream",
     "text": [
      "h0 ->  SBAR S        2.199132e-04\n",
      "h0 ->  DBAR D        6.113944e-07\n",
      "h0 ->  W+ W-         2.018502e-01\n",
      "h0 ->  GLUE GLUE     8.869160e-02\n",
      "h0 ->  PHOT PHOT     2.685222e-03\n",
      "h0 ->  MU+ MU-       2.364716e-04\n",
      "h0 ->  Z0 Z0         2.126368e-02\n",
      "h0 ->  E+ E-         5.293505e-09\n",
      "h0 ->  CBAR C        2.778783e-02\n",
      "h0 ->  UBAR U        1.169848e-07\n",
      "h0 ->  BBAR B        5.890078e-01\n",
      "h0 ->  TAU+ TAU-     6.825654e-02\n",
      "VZp ->  NUE NUE      7.558271e-02\n",
      "VZp ->  DBAR D       5.038848e-02\n",
      "VZp ->  NUT NUT      7.558271e-02\n",
      "VZp ->  SBAR S       5.038848e-02\n",
      "VZp ->  NUM NUM      7.558271e-02\n",
      "VZp ->  BBAR B       5.038848e-02\n",
      "VZp ->  E+ E-        1.511654e-01\n",
      "VZp ->  CBAR C       5.038848e-02\n",
      "VZp ->  Fv_6 Fv_6    5.810589e-03\n",
      "VZp ->  Fv_5 Fv_5    5.810589e-03\n",
      "VZp ->  UBAR U       5.038848e-02\n",
      "VZp ->  MU+ MU-      1.511654e-01\n",
      "VZp ->  TBAR T       5.038142e-02\n",
      "VZp ->  Fv_4 Fv_4    5.810589e-03\n",
      "VZp ->  TAU+ TAU-    1.511654e-01\n",
      "Gamma_Fv_6           0.000000e+00\n",
      "Gamma_hh_2           0.000000e+00\n",
      "Gamma_Z0             0.000000e+00\n",
      "Gamma_W+             0.000000e+00\n",
      "Gamma_h0             3.752854e-03\n",
      "Gamma_Fv_4           0.000000e+00\n",
      "Gamma_Fv_5           0.000000e+00\n",
      "Gamma_VZp            1.096722e+02\n",
      "dtype: float64\n"
     ]
    }
   ],
   "source": [
    "pd.set_option('display.max_rows', 500)\n",
    "print a.Br_names"
   ]
  },
  {
   "cell_type": "markdown",
   "metadata": {},
   "source": [
    "## Run Drell-Yann production of right-handed neutrinos through $Z'$\n",
    "### By using present data in `SPheno.spc.ZpBminusLSM`"
   ]
  },
  {
   "cell_type": "code",
   "execution_count": 13,
   "metadata": {
    "collapsed": false
   },
   "outputs": [
    {
     "name": "stdout",
     "output_type": "stream",
     "text": [
      "Overwriting drellyann.mdg\n"
     ]
    }
   ],
   "source": [
    "%%writefile drellyann.mdg\n",
    "import model ZpBminusLSM -modelname\n",
    "#p is already defined if imported from\tMadGraph console\n",
    "define p g d1 d1bar d2 d2bar u1 u1bar u2 u2bar\n",
    "define j g d1 d1bar d2 d2bar u1 u1bar u2 u2bar   \n",
    "##Only drell Yann Zp\n",
    "generate p p > nu4 nu4 $$ z wm wmc h1 h2 a\n",
    "output MadOut -f\n",
    "exit"
   ]
  },
  {
   "cell_type": "code",
   "execution_count": 14,
   "metadata": {
    "collapsed": false
   },
   "outputs": [
    {
     "name": "stdout",
     "output_type": "stream",
     "text": [
      "save configuration file to /home/restrepo/prog/toolbox/toolbox/tests/MadOut/Cards/me5_configuration.txt\n",
      "INFO: Use Fortran compiler gfortran \n",
      "INFO: Generate jpeg diagrams \n",
      "INFO: Generate web pages \n",
      "Output to directory /home/restrepo/prog/toolbox/toolbox/tests/MadOut done.\n",
      "Type \"launch\" to generate events from this process, or see\n",
      "/home/restrepo/prog/toolbox/toolbox/tests/MadOut/README\n",
      "Run \"open index.html\" to see more information about this process.\n",
      "exit\n",
      " \n",
      "quit\n",
      " \n",
      "\n",
      " \n",
      "\n"
     ]
    }
   ],
   "source": [
    "print commands.getoutput('../madgraph/bin/mg5_aMC  drellyann.mdg 2> /dev/null | tail -n15')"
   ]
  },
  {
   "cell_type": "markdown",
   "metadata": {},
   "source": [
    "### Replace `param.card` by `SPheno.spc.ZpBminusLSM`"
   ]
  },
  {
   "cell_type": "code",
   "execution_count": 15,
   "metadata": {
    "collapsed": true
   },
   "outputs": [],
   "source": [
    "cp SPheno.spc.ZpBminusLSM MadOut/Cards/param_card.dat"
   ]
  },
  {
   "cell_type": "code",
   "execution_count": 16,
   "metadata": {
    "collapsed": false
   },
   "outputs": [
    {
     "name": "stdout",
     "output_type": "stream",
     "text": [
      "Overwriting drellyann.mdg\n"
     ]
    }
   ],
   "source": [
    "%%writefile drellyann.mdg\n",
    "launch MadOut \n",
    "0\n",
    "0"
   ]
  },
  {
   "cell_type": "code",
   "execution_count": 17,
   "metadata": {
    "collapsed": false
   },
   "outputs": [
    {
     "name": "stdout",
     "output_type": "stream",
     "text": [
      "INFO: Storing parton level results \n",
      "INFO: End Parton \n",
      "reweight -from_cards\n",
      "decay_events -from_cards\n",
      "quit\n",
      "INFO:  \n",
      " \n",
      "INFO:  \n",
      " \n",
      "more information in /home/restrepo/prog/toolbox/toolbox/tests/MadOut/index.html\n",
      "quit\n",
      " \n",
      "\n",
      " \n",
      "\n"
     ]
    }
   ],
   "source": [
    "print commands.getoutput('../madgraph/bin/mg5_aMC  drellyann.mdg 2> /dev/null | tail -n15')"
   ]
  },
  {
   "cell_type": "code",
   "execution_count": 31,
   "metadata": {
    "collapsed": false
   },
   "outputs": [
    {
     "data": {
      "text/html": [
       "\n",
       "<HTML> \n",
       "<HEAD> \n",
       "     \n",
       "    <META HTTP-EQUIV=\"EXPIRES\" CONTENT=\"20\" > \n",
       "    <TITLE>Online Event Generation</TITLE>\n",
       "    <link rel=stylesheet href=\"./HTML/mgstyle.css\" type=\"text/css\">\n",
       "</HEAD>\n",
       "<BODY>\n",
       "<script type=\"text/javascript\">\n",
       "function UrlExists(url) {\n",
       "  var http = new XMLHttpRequest();\n",
       "  http.open('HEAD', url, false);\n",
       "  try{\n",
       "     http.send()\n",
       "     }\n",
       "  catch(err){\n",
       "   return 1==2;\n",
       "  }\n",
       "  return http.status!=404;\n",
       "}\n",
       "function check_link(url,alt, id){\n",
       "    var obj = document.getElementById(id);\n",
       "    if ( ! UrlExists(url)){\n",
       "       if ( ! UrlExists(alt)){\n",
       "         obj.href = url;\n",
       "         return 1==1;\n",
       "        }\n",
       "       obj.href = alt;\n",
       "       return 1 == 2;\n",
       "    }\n",
       "    obj.href = url;\n",
       "    return 1==1;\n",
       "}\n",
       "</script>    \n",
       "    <H2 align=center> Results in the ZpBminusLSM for p p > nu4 nu4 $$ z wm wmc h1 h2 a\n",
       " </H2> \n",
       "    <HR>\n",
       "    \n",
       "    <br>\n",
       "    <br>\n",
       "    <H2 align=\"center\"> Available Results </H2>\n",
       "        <TABLE BORDER=2 align=\"center\">  \n",
       "            <TR align=\"center\">\n",
       "                <TH>Run</TH> \n",
       "                <TH>Collider</TH> \n",
       "                <TH> Banner </TH>\n",
       "                <TH> Cross section (pb) </TH> \n",
       "                <TH> Events  </TH>\n",
       "                <TH> Data </TH>  \n",
       "                <TH>Output</TH>\n",
       "                <TH>Action</TH> \n",
       "            </TR>      \n",
       "            \n",
       "        <tr>\n",
       "        <td rowspan=1>run_01</td> \n",
       "        <td rowspan=1><center>  p  p <br> 6500.0 x 6500.0  GeV </center></td>\n",
       "        \n",
       "        <td rowspan=1> <a href=\"./Events/run_01/run_01_tag_1_banner.txt\">tag_1</a></td>\n",
       "        \n",
       "        <td rowspan=1><center><a href=\"./HTML/run_01/results.html\"> 8.356e-05 <font face=symbol>&#177;</font> 1.3e-07</a>  </center></td>\n",
       "        <td rowspan=1><center> 10000<center></td><td> parton madevent </td>\n",
       "        <td>  <a  id='run_01_tag_1_parton_LHE' href='./Events/run_01/unweighted_events.lhe.gz' onClick=\"check_link('./Events/run_01/unweighted_events.lhe.gz','./Events/run_01/unweighted_events.lhe','run_01_tag_1_parton_LHE')\">LHE</a></td>\n",
       "        <td> <INPUT TYPE=SUBMIT VALUE='remove run' onClick=\"alert('Launch ./bin/madevent in a shell, and run the following command: remove run_01 parton --tag=tag_1')\"><INPUT TYPE=SUBMIT VALUE='launch detector simulation' onClick=\"alert('Launch ./bin/madevent in a shell, and run the following command: pythia run_01 ')\"></td>\n",
       "        </tr>\n",
       "        </tr>\n",
       "        \n",
       "        </TABLE>\n",
       "    <H3 align=center><A HREF=\"./index.html\"> Main Page </A></H3>\n",
       "</BODY> \n",
       "</HTML> \n"
      ],
      "text/plain": [
       "<IPython.core.display.HTML object>"
      ]
     },
     "execution_count": 31,
     "metadata": {},
     "output_type": "execute_result"
    }
   ],
   "source": [
    "dp.HTML('MadOut/crossx.html')"
   ]
  },
  {
   "cell_type": "markdown",
   "metadata": {},
   "source": [
    "[![Home](http://www.incredimail.com/images/nav%20bar/home-icon.png)](./) \n",
    "[Jupyter home](./draft.pdf)"
   ]
  }
 ],
 "metadata": {
  "kernelspec": {
   "display_name": "Python 2",
   "language": "python",
   "name": "python2"
  },
  "language_info": {
   "codemirror_mode": {
    "name": "ipython",
    "version": 2
   },
   "file_extension": ".py",
   "mimetype": "text/x-python",
   "name": "python",
   "nbconvert_exporter": "python",
   "pygments_lexer": "ipython2",
   "version": "2.7.9"
  }
 },
 "nbformat": 4,
 "nbformat_minor": 0
}
