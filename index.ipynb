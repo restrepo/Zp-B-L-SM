{
 "cells": [
  {
   "cell_type": "markdown",
   "metadata": {},
   "source": [
    "# SARAH Toolbox"
   ]
  },
  {
   "cell_type": "markdown",
   "metadata": {},
   "source": [
    "## Collection of models related to the 750 GeV diphoton excess"
   ]
  },
  {
   "cell_type": "markdown",
   "metadata": {},
   "source": [
    "See for more details [1602.05581](http://arxiv.org/abs/1602.05581)\n",
    "\n",
    "[![Binder](http://mybinder.org/badge.svg)](http://mybinder.org/repo/restrepo/BSM-Toolbox)\n",
    "\n",
    "[Jupyter home](./) (Files, New -> Terminal, etc)\n",
    "[![Home](http://www.incredimail.com/images/nav%20bar/home-icon.png)](./)\n",
    "\n",
    "### Highly recommended:\n",
    "[Run from a terminal](../terminals/1):\n",
    "[![T](http://mysitemyway.com/_shared/images/icons/full_color/terminal.png)](../terminals/1)\n"
   ]
  },
  {
   "cell_type": "markdown",
   "metadata": {},
   "source": [
    "## Implemented models"
   ]
  },
  {
   "cell_type": "markdown",
   "metadata": {},
   "source": [
    "* `SARAH/Models/SSDM/` (for test purposes)\n",
    "* `SARAH/Models/diphotonModels/LRmodels/darkLR/`\n",
    "* `SARAH/Models/diphotonModels/LRmodels/tripletLR/`  (with additional Z_2 and T_i dark matter)"
   ]
  },
  {
   "cell_type": "markdown",
   "metadata": {},
   "source": [
    "## Test\n",
    "Below we check the SSDM models. It is recomended that the commands be executed [from a terminal](../terminals/1)."
   ]
  },
  {
   "cell_type": "markdown",
   "metadata": {},
   "source": [
    "Be sure that `SPHENO/Makefile` have `gfortan` uncommented:"
   ]
  },
  {
   "cell_type": "code",
   "execution_count": 1,
   "metadata": {
    "collapsed": false
   },
   "outputs": [
    {
     "name": "stdout",
     "output_type": "stream",
     "text": [
      "# F90 = nagfor\r\n",
      "F90 = gfortran\r\n",
      "# F90 = g95\r\n",
      "# F90 = lf95\r\n",
      "# F90 = ifort\r\n"
     ]
    }
   ],
   "source": [
    "cat  SPHENO/Makefile | grep \"F90 =\""
   ]
  },
  {
   "cell_type": "code",
   "execution_count": 1,
   "metadata": {
    "collapsed": false
   },
   "outputs": [
    {
     "name": "stdout",
     "output_type": "stream",
     "text": [
      "make: Entering directory '/home/restrepo/prog/toolbox/toolbox/SPHENO'\n",
      "cd /home/restrepo/prog/toolbox/toolbox/SPHENO/SSDM ; make F90=gfortran version=330.00\n",
      "make[1]: Entering directory '/home/restrepo/prog/toolbox/toolbox/SPHENO/SSDM'\n",
      "cd ../src ; make F90=gfortran \n",
      "make[2]: Entering directory '/home/restrepo/prog/toolbox/toolbox/SPHENO/src'\n",
      "gfortran -o SPheno -O   SPheno3.o ../lib/../lib/libSPheno.a\n",
      "mv SPheno ../bin\n",
      "make[2]: Leaving directory '/home/restrepo/prog/toolbox/toolbox/SPHENO/src'\n",
      "make F90=gfortran ../lib/libSPhenoSSDM.a \n",
      "make[2]: Entering directory '/home/restrepo/prog/toolbox/toolbox/SPHENO/SSDM'\n",
      "make[2]: Nothing to be done for '../lib/libSPhenoSSDM.a'.\n",
      "make[2]: Leaving directory '/home/restrepo/prog/toolbox/toolbox/SPHENO/SSDM'\n",
      "make F90=gfortran SPhenoSSDM.o \n",
      "make[2]: Entering directory '/home/restrepo/prog/toolbox/toolbox/SPHENO/SSDM'\n",
      "gfortran -c -g -ffree-line-length-none -J../include -I../include   SPhenoSSDM.f90\n",
      "make[2]: Leaving directory '/home/restrepo/prog/toolbox/toolbox/SPHENO/SSDM'\n",
      "gfortran -o SPhenoSSDM -g   SPhenoSSDM.o ../lib/libSPhenoSSDM.a ../lib/libSPheno.a\n",
      "mv SPhenoSSDM ../bin\n",
      "rm SPhenoSSDM.o  \n",
      "make[1]: Leaving directory '/home/restrepo/prog/toolbox/toolbox/SPHENO/SSDM'\n",
      "make: Leaving directory '/home/restrepo/prog/toolbox/toolbox/SPHENO'\n"
     ]
    }
   ],
   "source": [
    "%%bash\n",
    "./compile_spheno_directly.sh SSDM"
   ]
  },
  {
   "cell_type": "markdown",
   "metadata": {},
   "source": [
    "make a work dir"
   ]
  },
  {
   "cell_type": "code",
   "execution_count": 2,
   "metadata": {
    "collapsed": true
   },
   "outputs": [],
   "source": [
    "mkdir work"
   ]
  },
  {
   "cell_type": "code",
   "execution_count": 3,
   "metadata": {
    "collapsed": false
   },
   "outputs": [
    {
     "name": "stdout",
     "output_type": "stream",
     "text": [
      "/home/restrepo/prog/toolbox/toolbox/work\n"
     ]
    }
   ],
   "source": [
    "cd work"
   ]
  },
  {
   "cell_type": "markdown",
   "metadata": {},
   "source": [
    "If neccesary, turn ON tachyonic spectrum with `52 1 #...`"
   ]
  },
  {
   "cell_type": "code",
   "execution_count": 6,
   "metadata": {
    "collapsed": false
   },
   "outputs": [
    {
     "name": "stdout",
     "output_type": "stream",
     "text": [
      " 52 0               # Write spectrum in case of tachyonic states \r\n"
     ]
    }
   ],
   "source": [
    "cat ../SPHENO/SSDM/LesHouches.in.SSDM | grep 'Write spectrum in case of tachyonic states' "
   ]
  },
  {
   "cell_type": "code",
   "execution_count": 5,
   "metadata": {
    "collapsed": false
   },
   "outputs": [
    {
     "name": "stdout",
     "output_type": "stream",
     "text": [
      " Calculating branching ratios and decay widths\n",
      " Calculating low energy constraints\n",
      " Writing output files\n",
      " Finished!\n"
     ]
    }
   ],
   "source": [
    "%%bash\n",
    "../SPHENO/bin/SPhenoSSDM ../SPHENO/SSDM/LesHouches.in.SSDM"
   ]
  },
  {
   "cell_type": "code",
   "execution_count": 7,
   "metadata": {
    "collapsed": false
   },
   "outputs": [
    {
     "name": "stdout",
     "output_type": "stream",
     "text": [
      "make -C CalcHEP_src\n",
      "make[1]: Entering directory '/home/restrepo/prog/toolbox/toolbox/micromegas/CalcHEP_src'\n",
      "./getFlags\n",
      "C compiler detected\n",
      ": shared liblary generation OK\n",
      "X11 OK\n",
      "Fortran compiler is detected\n",
      "gfortran OK\n",
      "FFLAGS OK\n",
      "./sbin/setPath /home/restrepo/prog/toolbox/toolbox/micromegas/CalcHEP_src\n",
      "chmod 755 mkWORKdir\n",
      "make -C c_source\n",
      "make[2]: Entering directory '/home/restrepo/prog/toolbox/toolbox/micromegas/CalcHEP_src/c_source'\n",
      "make -C getmem \n",
      "make[3]: Entering directory '/home/restrepo/prog/toolbox/toolbox/micromegas/CalcHEP_src/c_source/getmem'\n",
      "make[3]: Nothing to be done for 'all'.\n",
      "make[3]: Leaving directory '/home/restrepo/prog/toolbox/toolbox/micromegas/CalcHEP_src/c_source/getmem'\n",
      "make -C chep_crt\n",
      "make[3]: Entering directory '/home/restrepo/prog/toolbox/toolbox/micromegas/CalcHEP_src/c_source/chep_crt'\n",
      "make[3]: Nothing to be done for 'all'.\n",
      "make[3]: Leaving directory '/home/restrepo/prog/toolbox/toolbox/micromegas/CalcHEP_src/c_source/chep_crt'\n",
      "make -C service2\n",
      "make[3]: Entering directory '/home/restrepo/prog/toolbox/toolbox/micromegas/CalcHEP_src/c_source/service2'\n",
      "make[3]: Nothing to be done for 'all'.\n",
      "make[3]: Leaving directory '/home/restrepo/prog/toolbox/toolbox/micromegas/CalcHEP_src/c_source/service2'\n",
      "make -C polynom  \n",
      "make[3]: Entering directory '/home/restrepo/prog/toolbox/toolbox/micromegas/CalcHEP_src/c_source/polynom'\n",
      "make[3]: '../../lib/symb.a' is up to date.\n",
      "make[3]: Leaving directory '/home/restrepo/prog/toolbox/toolbox/micromegas/CalcHEP_src/c_source/polynom'\n",
      "make -C ntools\n",
      "make[3]: Entering directory '/home/restrepo/prog/toolbox/toolbox/micromegas/CalcHEP_src/c_source/ntools'\n",
      "make[3]: Nothing to be done for 'all'.\n",
      "make[3]: Leaving directory '/home/restrepo/prog/toolbox/toolbox/micromegas/CalcHEP_src/c_source/ntools'\n",
      "make -C dynamicME\n",
      "make[3]: Entering directory '/home/restrepo/prog/toolbox/toolbox/micromegas/CalcHEP_src/c_source/dynamicME'\n",
      "make[3]: Nothing to be done for 'all'.\n",
      "make[3]: Leaving directory '/home/restrepo/prog/toolbox/toolbox/micromegas/CalcHEP_src/c_source/dynamicME'\n",
      "make -C plot \n",
      "make[3]: Entering directory '/home/restrepo/prog/toolbox/toolbox/micromegas/CalcHEP_src/c_source/plot'\n",
      "make[3]: '../../bin/plot_view' is up to date.\n",
      "make[3]: Leaving directory '/home/restrepo/prog/toolbox/toolbox/micromegas/CalcHEP_src/c_source/plot'\n",
      "make -C num \n",
      "make[3]: Entering directory '/home/restrepo/prog/toolbox/toolbox/micromegas/CalcHEP_src/c_source/num'\n",
      "make[3]: Nothing to be done for 'all'.\n",
      "make[3]: Leaving directory '/home/restrepo/prog/toolbox/toolbox/micromegas/CalcHEP_src/c_source/num'\n",
      "make -C tab\n",
      "make[3]: Entering directory '/home/restrepo/prog/toolbox/toolbox/micromegas/CalcHEP_src/c_source/tab'\n",
      "make[3]: Nothing to be done for 'all'.\n",
      "make[3]: Leaving directory '/home/restrepo/prog/toolbox/toolbox/micromegas/CalcHEP_src/c_source/tab'\n",
      "make -C SLHAplus\n",
      "make[3]: Entering directory '/home/restrepo/prog/toolbox/toolbox/micromegas/CalcHEP_src/c_source/SLHAplus'\n",
      "make[3]: Nothing to be done for 'all'.\n",
      "make[3]: Leaving directory '/home/restrepo/prog/toolbox/toolbox/micromegas/CalcHEP_src/c_source/SLHAplus'\n",
      "make -C mix_events\n",
      "make[3]: Entering directory '/home/restrepo/prog/toolbox/toolbox/micromegas/CalcHEP_src/c_source/mix_events'\n",
      "make[3]: Nothing to be done for 'all'.\n",
      "make[3]: Leaving directory '/home/restrepo/prog/toolbox/toolbox/micromegas/CalcHEP_src/c_source/mix_events'\n",
      "make -C symb\n",
      "make[3]: Entering directory '/home/restrepo/prog/toolbox/toolbox/micromegas/CalcHEP_src/c_source/symb'\n",
      "make[3]: Nothing to be done for 'all'.\n",
      "make[3]: Leaving directory '/home/restrepo/prog/toolbox/toolbox/micromegas/CalcHEP_src/c_source/symb'\n",
      "make[2]: Leaving directory '/home/restrepo/prog/toolbox/toolbox/micromegas/CalcHEP_src/c_source'\n",
      "#--------------------------------------------------------\n",
      "# CalcHEP has compiled successfuly and can be started.\n",
      "# The manual can be found on the CalcHEP website:\n",
      "#      http://theory.sinp.msu.ru/~pukhov/calchep.html\n",
      "# The next step is typically to run \n",
      "#      ./mkWORKdir  <new_dir>\n",
      "# where <new_dir> is the new directory where you will do\n",
      "# your calculations.  After creating this directory, you\n",
      "# should cd into it and run calchep or calchep_batch.\n",
      "# Please see the manual for further details.\n",
      "#---------------------------------------------------------\"\n",
      "make[1]: Leaving directory '/home/restrepo/prog/toolbox/toolbox/micromegas/CalcHEP_src'\n",
      "make -C sources\n",
      "make[1]: Entering directory '/home/restrepo/prog/toolbox/toolbox/micromegas/sources'\n",
      "make[1]: Nothing to be done for 'all'.\n",
      "make[1]: Leaving directory '/home/restrepo/prog/toolbox/toolbox/micromegas/sources'\n",
      "make -C CalcHEP_src\n",
      "make[1]: Entering directory '/home/restrepo/prog/toolbox/toolbox/micromegas/CalcHEP_src'\n",
      "./getFlags\n",
      "C compiler detected\n",
      ": shared liblary generation OK\n",
      "X11 OK\n",
      "Fortran compiler is detected\n",
      "gfortran OK\n",
      "FFLAGS OK\n",
      "./sbin/setPath /home/restrepo/prog/toolbox/toolbox/micromegas/CalcHEP_src\n",
      "chmod 755 mkWORKdir\n",
      "make -C c_source\n",
      "make[2]: Entering directory '/home/restrepo/prog/toolbox/toolbox/micromegas/CalcHEP_src/c_source'\n",
      "make -C getmem \n",
      "make[3]: Entering directory '/home/restrepo/prog/toolbox/toolbox/micromegas/CalcHEP_src/c_source/getmem'\n",
      "make[3]: Nothing to be done for 'all'.\n",
      "make[3]: Leaving directory '/home/restrepo/prog/toolbox/toolbox/micromegas/CalcHEP_src/c_source/getmem'\n",
      "make -C chep_crt\n",
      "make[3]: Entering directory '/home/restrepo/prog/toolbox/toolbox/micromegas/CalcHEP_src/c_source/chep_crt'\n",
      "make[3]: Nothing to be done for 'all'.\n",
      "make[3]: Leaving directory '/home/restrepo/prog/toolbox/toolbox/micromegas/CalcHEP_src/c_source/chep_crt'\n",
      "make -C service2\n",
      "make[3]: Entering directory '/home/restrepo/prog/toolbox/toolbox/micromegas/CalcHEP_src/c_source/service2'\n",
      "make[3]: Nothing to be done for 'all'.\n",
      "make[3]: Leaving directory '/home/restrepo/prog/toolbox/toolbox/micromegas/CalcHEP_src/c_source/service2'\n",
      "make -C polynom  \n",
      "make[3]: Entering directory '/home/restrepo/prog/toolbox/toolbox/micromegas/CalcHEP_src/c_source/polynom'\n",
      "make[3]: '../../lib/symb.a' is up to date.\n",
      "make[3]: Leaving directory '/home/restrepo/prog/toolbox/toolbox/micromegas/CalcHEP_src/c_source/polynom'\n",
      "make -C ntools\n",
      "make[3]: Entering directory '/home/restrepo/prog/toolbox/toolbox/micromegas/CalcHEP_src/c_source/ntools'\n",
      "make[3]: Nothing to be done for 'all'.\n",
      "make[3]: Leaving directory '/home/restrepo/prog/toolbox/toolbox/micromegas/CalcHEP_src/c_source/ntools'\n",
      "make -C dynamicME\n",
      "make[3]: Entering directory '/home/restrepo/prog/toolbox/toolbox/micromegas/CalcHEP_src/c_source/dynamicME'\n",
      "make[3]: Nothing to be done for 'all'.\n",
      "make[3]: Leaving directory '/home/restrepo/prog/toolbox/toolbox/micromegas/CalcHEP_src/c_source/dynamicME'\n",
      "make -C plot \n",
      "make[3]: Entering directory '/home/restrepo/prog/toolbox/toolbox/micromegas/CalcHEP_src/c_source/plot'\n",
      "make[3]: '../../bin/plot_view' is up to date.\n",
      "make[3]: Leaving directory '/home/restrepo/prog/toolbox/toolbox/micromegas/CalcHEP_src/c_source/plot'\n",
      "make -C num \n",
      "make[3]: Entering directory '/home/restrepo/prog/toolbox/toolbox/micromegas/CalcHEP_src/c_source/num'\n",
      "make[3]: Nothing to be done for 'all'.\n",
      "make[3]: Leaving directory '/home/restrepo/prog/toolbox/toolbox/micromegas/CalcHEP_src/c_source/num'\n",
      "make -C tab\n",
      "make[3]: Entering directory '/home/restrepo/prog/toolbox/toolbox/micromegas/CalcHEP_src/c_source/tab'\n",
      "make[3]: Nothing to be done for 'all'.\n",
      "make[3]: Leaving directory '/home/restrepo/prog/toolbox/toolbox/micromegas/CalcHEP_src/c_source/tab'\n",
      "make -C SLHAplus\n",
      "make[3]: Entering directory '/home/restrepo/prog/toolbox/toolbox/micromegas/CalcHEP_src/c_source/SLHAplus'\n",
      "make[3]: Nothing to be done for 'all'.\n",
      "make[3]: Leaving directory '/home/restrepo/prog/toolbox/toolbox/micromegas/CalcHEP_src/c_source/SLHAplus'\n",
      "make -C mix_events\n",
      "make[3]: Entering directory '/home/restrepo/prog/toolbox/toolbox/micromegas/CalcHEP_src/c_source/mix_events'\n",
      "make[3]: Nothing to be done for 'all'.\n",
      "make[3]: Leaving directory '/home/restrepo/prog/toolbox/toolbox/micromegas/CalcHEP_src/c_source/mix_events'\n",
      "make -C symb\n",
      "make[3]: Entering directory '/home/restrepo/prog/toolbox/toolbox/micromegas/CalcHEP_src/c_source/symb'\n",
      "make[3]: Nothing to be done for 'all'.\n",
      "make[3]: Leaving directory '/home/restrepo/prog/toolbox/toolbox/micromegas/CalcHEP_src/c_source/symb'\n",
      "make[2]: Leaving directory '/home/restrepo/prog/toolbox/toolbox/micromegas/CalcHEP_src/c_source'\n",
      "#--------------------------------------------------------\n",
      "# CalcHEP has compiled successfuly and can be started.\n",
      "# The manual can be found on the CalcHEP website:\n",
      "#      http://theory.sinp.msu.ru/~pukhov/calchep.html\n",
      "# The next step is typically to run \n",
      "#      ./mkWORKdir  <new_dir>\n",
      "# where <new_dir> is the new directory where you will do\n",
      "# your calculations.  After creating this directory, you\n",
      "# should cd into it and run calchep or calchep_batch.\n",
      "# Please see the manual for further details.\n",
      "#---------------------------------------------------------\"\n",
      "make[1]: Leaving directory '/home/restrepo/prog/toolbox/toolbox/micromegas/CalcHEP_src'\n",
      "make -C sources\n",
      "make[1]: Entering directory '/home/restrepo/prog/toolbox/toolbox/micromegas/sources'\n",
      "make[1]: Nothing to be done for 'all'.\n",
      "make[1]: Leaving directory '/home/restrepo/prog/toolbox/toolbox/micromegas/sources'\n",
      "make -C work\n",
      "make[1]: Entering directory '/home/restrepo/prog/toolbox/toolbox/micromegas/SSDM/work'\n",
      "make[1]: Nothing to be done for 'all'.\n",
      "make[1]: Leaving directory '/home/restrepo/prog/toolbox/toolbox/micromegas/SSDM/work'\n",
      "make -C lib\n",
      "make[1]: Entering directory '/home/restrepo/prog/toolbox/toolbox/micromegas/SSDM/lib'\n",
      "make[1]: Nothing to be done for 'all'.\n",
      "make[1]: Leaving directory '/home/restrepo/prog/toolbox/toolbox/micromegas/SSDM/lib'\n",
      "g++     -g -fPIC  -o CalcOmega CalcOmega.cpp  lib/aLib.a ../sources/micromegas.a  /home/restrepo/prog/toolbox/toolbox/micromegas/CalcHEP_src/lib/dynamic_me.a ../sources/micromegas.a work/work_aux.a  lib/aLib.a   /home/restrepo/prog/toolbox/toolbox/micromegas/CalcHEP_src/lib/sqme_aux.so /home/restrepo/prog/toolbox/toolbox/micromegas/CalcHEP_src/lib/libSLHAplus.a /home/restrepo/prog/toolbox/toolbox/micromegas/CalcHEP_src/lib/num_c.a /home/restrepo/prog/toolbox/toolbox/micromegas/CalcHEP_src/lib/ntools.a   /home/restrepo/prog/toolbox/toolbox/micromegas/CalcHEP_src/lib/serv.a -lX11  -rdynamic -ldl   -lm -lpthread\n"
     ]
    }
   ],
   "source": [
    "%%bash\n",
    "cd ../micromegas\n",
    "make\n",
    "make\n",
    "cd SSDM\n",
    "make main=CalcOmega.cpp"
   ]
  },
  {
   "cell_type": "markdown",
   "metadata": {},
   "source": [
    "Run micromegas"
   ]
  },
  {
   "cell_type": "code",
   "execution_count": 8,
   "metadata": {
    "collapsed": false
   },
   "outputs": [
    {
     "name": "stdout",
     "output_type": "stream",
     "text": [
      "PROCESS: ~Ss,~Ss->AllEven,1*x{,h,g,A,Z,Wp,Wm,nu1,Nu1,nu2,Nu2,nu3,Nu3,d1,D1,d2,D2,d3,D3,u1,U1,u2,U2,u3,U3,e1,E1,e2,E2,e3,E3\n",
      "\n",
      "Masses of odd sector Particles:\n",
      "~Ss  : MSs   =    28.4 || \n",
      "Xf=1.61e+01 Omega h^2=2.23e+01\n",
      "\n",
      "# Channels which contribute to 1/(omega) more than 1%.\n",
      "# Relative contributions in % are displayed\n",
      "   85% ~Ss ~Ss ->d3 D3 \n",
      "    8% ~Ss ~Ss ->e3 E3 \n",
      "    4% ~Ss ~Ss ->u2 U2 \n",
      "    2% ~Ss ~Ss ->g g \n"
     ]
    }
   ],
   "source": [
    "%%bash\n",
    "../micromegas/SSDM/CalcOmega SPheno.spc.SSDM"
   ]
  },
  {
   "cell_type": "code",
   "execution_count": null,
   "metadata": {
    "collapsed": true
   },
   "outputs": [],
   "source": []
  }
 ],
 "metadata": {
  "kernelspec": {
   "display_name": "Python 2",
   "language": "python",
   "name": "python2"
  },
  "language_info": {
   "codemirror_mode": {
    "name": "ipython",
    "version": 2
   },
   "file_extension": ".py",
   "mimetype": "text/x-python",
   "name": "python",
   "nbconvert_exporter": "python",
   "pygments_lexer": "ipython2",
   "version": "2.7.9"
  }
 },
 "nbformat": 4,
 "nbformat_minor": 0
}
